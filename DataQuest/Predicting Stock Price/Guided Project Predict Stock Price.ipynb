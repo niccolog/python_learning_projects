{
 "cells": [
  {
   "cell_type": "markdown",
   "metadata": {
    "collapsed": true,
    "pycharm": {
     "name": "#%% md\n"
    }
   },
   "source": [
    "# Guided Project - Predicting the Stock Market\n",
    "## Project Introduction\n",
    "We are going to work witn SP500 index data and use clustering to predict stock market prices."
   ]
  },
  {
   "cell_type": "markdown",
   "source": [
    "### Import Libraries & Data"
   ],
   "metadata": {
    "collapsed": false,
    "pycharm": {
     "name": "#%% md\n"
    }
   }
  },
  {
   "cell_type": "code",
   "execution_count": 108,
   "outputs": [],
   "source": [
    "# import libraries\n",
    "import pandas as pd\n",
    "from datetime import datetime\n",
    "import numpy as np\n",
    "import seaborn as sns\n",
    "import matplotlib.pyplot as plt\n",
    "from datetime import datetime\n",
    "from sklearn.linear_model import LinearRegression\n",
    "from sklearn.linear_model import LogisticRegression\n",
    "from sklearn.metrics import mean_squared_error\n",
    "from sklearn.linear_model import ElasticNet\n",
    "from sklearn.ensemble import RandomForestRegressor\n",
    "from sklearn.datasets import make_regression"
   ],
   "metadata": {
    "collapsed": false,
    "pycharm": {
     "name": "#%%\n"
    }
   }
  },
  {
   "cell_type": "code",
   "execution_count": 73,
   "outputs": [],
   "source": [
    "# import data\n",
    "df = pd.read_csv('sphist.csv')"
   ],
   "metadata": {
    "collapsed": false,
    "pycharm": {
     "name": "#%%\n"
    }
   }
  },
  {
   "cell_type": "code",
   "execution_count": 74,
   "outputs": [
    {
     "data": {
      "text/plain": "               Open          High           Low         Close        Volume  \\\ncount  16590.000000  16590.000000  16590.000000  16590.000000  1.659000e+04   \nmean     482.570941    485.624237    479.367501    482.692491  7.940099e+08   \nstd      554.889186    558.186049    551.367625    555.007904  1.456582e+09   \nmin       16.660000     16.660000     16.660000     16.660000  6.800000e+05   \n25%       83.860001     84.594997     83.139997     83.860001  7.610000e+06   \n50%      144.049996    145.294998    143.105004    144.264999  7.170500e+07   \n75%      950.722488    956.665024    941.969986    950.797500  7.866750e+08   \nmax     2130.360107   2134.719971   2126.060059   2130.820068  1.145623e+10   \n\n          Adj Close  \ncount  16590.000000  \nmean     482.692491  \nstd      555.007904  \nmin       16.660000  \n25%       83.860001  \n50%      144.264999  \n75%      950.797500  \nmax     2130.820068  ",
      "text/html": "<div>\n<style scoped>\n    .dataframe tbody tr th:only-of-type {\n        vertical-align: middle;\n    }\n\n    .dataframe tbody tr th {\n        vertical-align: top;\n    }\n\n    .dataframe thead th {\n        text-align: right;\n    }\n</style>\n<table border=\"1\" class=\"dataframe\">\n  <thead>\n    <tr style=\"text-align: right;\">\n      <th></th>\n      <th>Open</th>\n      <th>High</th>\n      <th>Low</th>\n      <th>Close</th>\n      <th>Volume</th>\n      <th>Adj Close</th>\n    </tr>\n  </thead>\n  <tbody>\n    <tr>\n      <th>count</th>\n      <td>16590.000000</td>\n      <td>16590.000000</td>\n      <td>16590.000000</td>\n      <td>16590.000000</td>\n      <td>1.659000e+04</td>\n      <td>16590.000000</td>\n    </tr>\n    <tr>\n      <th>mean</th>\n      <td>482.570941</td>\n      <td>485.624237</td>\n      <td>479.367501</td>\n      <td>482.692491</td>\n      <td>7.940099e+08</td>\n      <td>482.692491</td>\n    </tr>\n    <tr>\n      <th>std</th>\n      <td>554.889186</td>\n      <td>558.186049</td>\n      <td>551.367625</td>\n      <td>555.007904</td>\n      <td>1.456582e+09</td>\n      <td>555.007904</td>\n    </tr>\n    <tr>\n      <th>min</th>\n      <td>16.660000</td>\n      <td>16.660000</td>\n      <td>16.660000</td>\n      <td>16.660000</td>\n      <td>6.800000e+05</td>\n      <td>16.660000</td>\n    </tr>\n    <tr>\n      <th>25%</th>\n      <td>83.860001</td>\n      <td>84.594997</td>\n      <td>83.139997</td>\n      <td>83.860001</td>\n      <td>7.610000e+06</td>\n      <td>83.860001</td>\n    </tr>\n    <tr>\n      <th>50%</th>\n      <td>144.049996</td>\n      <td>145.294998</td>\n      <td>143.105004</td>\n      <td>144.264999</td>\n      <td>7.170500e+07</td>\n      <td>144.264999</td>\n    </tr>\n    <tr>\n      <th>75%</th>\n      <td>950.722488</td>\n      <td>956.665024</td>\n      <td>941.969986</td>\n      <td>950.797500</td>\n      <td>7.866750e+08</td>\n      <td>950.797500</td>\n    </tr>\n    <tr>\n      <th>max</th>\n      <td>2130.360107</td>\n      <td>2134.719971</td>\n      <td>2126.060059</td>\n      <td>2130.820068</td>\n      <td>1.145623e+10</td>\n      <td>2130.820068</td>\n    </tr>\n  </tbody>\n</table>\n</div>"
     },
     "execution_count": 74,
     "metadata": {},
     "output_type": "execute_result"
    }
   ],
   "source": [
    "df.describe()"
   ],
   "metadata": {
    "collapsed": false,
    "pycharm": {
     "name": "#%%\n"
    }
   }
  },
  {
   "cell_type": "code",
   "execution_count": 75,
   "outputs": [
    {
     "name": "stdout",
     "output_type": "stream",
     "text": [
      "<class 'pandas.core.frame.DataFrame'>\n",
      "RangeIndex: 16590 entries, 0 to 16589\n",
      "Data columns (total 7 columns):\n",
      " #   Column     Non-Null Count  Dtype  \n",
      "---  ------     --------------  -----  \n",
      " 0   Date       16590 non-null  object \n",
      " 1   Open       16590 non-null  float64\n",
      " 2   High       16590 non-null  float64\n",
      " 3   Low        16590 non-null  float64\n",
      " 4   Close      16590 non-null  float64\n",
      " 5   Volume     16590 non-null  float64\n",
      " 6   Adj Close  16590 non-null  float64\n",
      "dtypes: float64(6), object(1)\n",
      "memory usage: 907.4+ KB\n"
     ]
    }
   ],
   "source": [
    "df.info()"
   ],
   "metadata": {
    "collapsed": false,
    "pycharm": {
     "name": "#%%\n"
    }
   }
  },
  {
   "cell_type": "code",
   "execution_count": 76,
   "outputs": [],
   "source": [
    "df['Date'] = pd.to_datetime(df['Date'])\n",
    "df = df.sort_values(by='Date', ascending=True)"
   ],
   "metadata": {
    "collapsed": false,
    "pycharm": {
     "name": "#%%\n"
    }
   }
  },
  {
   "cell_type": "markdown",
   "source": [
    "### Generate Indicators\n",
    "We are going to use trailing close prices for 5, 15 and 30 days."
   ],
   "metadata": {
    "collapsed": false,
    "pycharm": {
     "name": "#%% md\n"
    }
   }
  },
  {
   "cell_type": "code",
   "execution_count": 77,
   "outputs": [],
   "source": [
    "# set up the rolling averages\n",
    "df['close_rolling_5_mean'] = df['Close'].rolling(window=5).apply(np.mean).shift(1)\n",
    "df['close_rolling_15_mean'] = df['Close'].rolling(window=15).apply(np.mean).shift(1)\n",
    "df['close_rolling_30_mean'] = df['Close'].rolling(window=30).apply(np.mean).shift(1)\n",
    "df['close_rolling_365_mean'] = df['Close'].rolling(window=365).apply(np.mean).shift(1)"
   ],
   "metadata": {
    "collapsed": false,
    "pycharm": {
     "name": "#%%\n"
    }
   }
  },
  {
   "cell_type": "code",
   "execution_count": 78,
   "outputs": [
    {
     "data": {
      "text/plain": "           Close  close_rolling_5_mean  close_rolling_15_mean  \\\n16589  16.660000                   NaN                    NaN   \n16588  16.850000                   NaN                    NaN   \n16587  16.930000                   NaN                    NaN   \n16586  16.980000                   NaN                    NaN   \n16585  17.080000                   NaN                    NaN   \n16584  17.030001                16.900                    NaN   \n16583  17.090000                16.974                    NaN   \n16582  16.760000                17.022                    NaN   \n16581  16.670000                16.988                    NaN   \n16580  16.719999                16.926                    NaN   \n16579  16.860001                16.854                    NaN   \n16578  16.850000                16.820                    NaN   \n16577  16.870001                16.772                    NaN   \n16576  16.900000                16.794                    NaN   \n16575  16.920000                16.840                    NaN   \n16574  16.860001                16.880              16.878000   \n16573  16.740000                16.880              16.891334   \n16572  16.730000                16.858              16.884000   \n16571  16.820000                16.830              16.870667   \n16570  17.020000                16.814              16.860000   \n16569  17.049999                16.834              16.856000   \n16568  17.049999                16.872              16.857333   \n16567  17.230000                16.934              16.854667   \n16566  17.290001                17.034              16.886000   \n16565  17.320000                17.128              16.927333   \n16564  17.230000                17.188              16.967333   \n16563  17.209999                17.224              16.992000   \n16562  17.280001                17.256              17.016000   \n16561  17.240000                17.266              17.043333   \n16560  17.059999                17.256              17.066000   \n16559  17.059999                17.204              17.075333   \n16558  16.990000                17.170              17.088666   \n16557  17.150000                17.126              17.105333   \n16556  17.200001                17.100              17.133333   \n16555  17.170000                17.092              17.158667   \n\n       close_rolling_30_mean  close_rolling_365_mean  \n16589                    NaN                     NaN  \n16588                    NaN                     NaN  \n16587                    NaN                     NaN  \n16586                    NaN                     NaN  \n16585                    NaN                     NaN  \n16584                    NaN                     NaN  \n16583                    NaN                     NaN  \n16582                    NaN                     NaN  \n16581                    NaN                     NaN  \n16580                    NaN                     NaN  \n16579                    NaN                     NaN  \n16578                    NaN                     NaN  \n16577                    NaN                     NaN  \n16576                    NaN                     NaN  \n16575                    NaN                     NaN  \n16574                    NaN                     NaN  \n16573                    NaN                     NaN  \n16572                    NaN                     NaN  \n16571                    NaN                     NaN  \n16570                    NaN                     NaN  \n16569                    NaN                     NaN  \n16568                    NaN                     NaN  \n16567                    NaN                     NaN  \n16566                    NaN                     NaN  \n16565                    NaN                     NaN  \n16564                    NaN                     NaN  \n16563                    NaN                     NaN  \n16562                    NaN                     NaN  \n16561                    NaN                     NaN  \n16560                    NaN                     NaN  \n16559              16.976667                     NaN  \n16558              16.990000                     NaN  \n16557              16.994667                     NaN  \n16556              17.002000                     NaN  \n16555              17.009333                     NaN  ",
      "text/html": "<div>\n<style scoped>\n    .dataframe tbody tr th:only-of-type {\n        vertical-align: middle;\n    }\n\n    .dataframe tbody tr th {\n        vertical-align: top;\n    }\n\n    .dataframe thead th {\n        text-align: right;\n    }\n</style>\n<table border=\"1\" class=\"dataframe\">\n  <thead>\n    <tr style=\"text-align: right;\">\n      <th></th>\n      <th>Close</th>\n      <th>close_rolling_5_mean</th>\n      <th>close_rolling_15_mean</th>\n      <th>close_rolling_30_mean</th>\n      <th>close_rolling_365_mean</th>\n    </tr>\n  </thead>\n  <tbody>\n    <tr>\n      <th>16589</th>\n      <td>16.660000</td>\n      <td>NaN</td>\n      <td>NaN</td>\n      <td>NaN</td>\n      <td>NaN</td>\n    </tr>\n    <tr>\n      <th>16588</th>\n      <td>16.850000</td>\n      <td>NaN</td>\n      <td>NaN</td>\n      <td>NaN</td>\n      <td>NaN</td>\n    </tr>\n    <tr>\n      <th>16587</th>\n      <td>16.930000</td>\n      <td>NaN</td>\n      <td>NaN</td>\n      <td>NaN</td>\n      <td>NaN</td>\n    </tr>\n    <tr>\n      <th>16586</th>\n      <td>16.980000</td>\n      <td>NaN</td>\n      <td>NaN</td>\n      <td>NaN</td>\n      <td>NaN</td>\n    </tr>\n    <tr>\n      <th>16585</th>\n      <td>17.080000</td>\n      <td>NaN</td>\n      <td>NaN</td>\n      <td>NaN</td>\n      <td>NaN</td>\n    </tr>\n    <tr>\n      <th>16584</th>\n      <td>17.030001</td>\n      <td>16.900</td>\n      <td>NaN</td>\n      <td>NaN</td>\n      <td>NaN</td>\n    </tr>\n    <tr>\n      <th>16583</th>\n      <td>17.090000</td>\n      <td>16.974</td>\n      <td>NaN</td>\n      <td>NaN</td>\n      <td>NaN</td>\n    </tr>\n    <tr>\n      <th>16582</th>\n      <td>16.760000</td>\n      <td>17.022</td>\n      <td>NaN</td>\n      <td>NaN</td>\n      <td>NaN</td>\n    </tr>\n    <tr>\n      <th>16581</th>\n      <td>16.670000</td>\n      <td>16.988</td>\n      <td>NaN</td>\n      <td>NaN</td>\n      <td>NaN</td>\n    </tr>\n    <tr>\n      <th>16580</th>\n      <td>16.719999</td>\n      <td>16.926</td>\n      <td>NaN</td>\n      <td>NaN</td>\n      <td>NaN</td>\n    </tr>\n    <tr>\n      <th>16579</th>\n      <td>16.860001</td>\n      <td>16.854</td>\n      <td>NaN</td>\n      <td>NaN</td>\n      <td>NaN</td>\n    </tr>\n    <tr>\n      <th>16578</th>\n      <td>16.850000</td>\n      <td>16.820</td>\n      <td>NaN</td>\n      <td>NaN</td>\n      <td>NaN</td>\n    </tr>\n    <tr>\n      <th>16577</th>\n      <td>16.870001</td>\n      <td>16.772</td>\n      <td>NaN</td>\n      <td>NaN</td>\n      <td>NaN</td>\n    </tr>\n    <tr>\n      <th>16576</th>\n      <td>16.900000</td>\n      <td>16.794</td>\n      <td>NaN</td>\n      <td>NaN</td>\n      <td>NaN</td>\n    </tr>\n    <tr>\n      <th>16575</th>\n      <td>16.920000</td>\n      <td>16.840</td>\n      <td>NaN</td>\n      <td>NaN</td>\n      <td>NaN</td>\n    </tr>\n    <tr>\n      <th>16574</th>\n      <td>16.860001</td>\n      <td>16.880</td>\n      <td>16.878000</td>\n      <td>NaN</td>\n      <td>NaN</td>\n    </tr>\n    <tr>\n      <th>16573</th>\n      <td>16.740000</td>\n      <td>16.880</td>\n      <td>16.891334</td>\n      <td>NaN</td>\n      <td>NaN</td>\n    </tr>\n    <tr>\n      <th>16572</th>\n      <td>16.730000</td>\n      <td>16.858</td>\n      <td>16.884000</td>\n      <td>NaN</td>\n      <td>NaN</td>\n    </tr>\n    <tr>\n      <th>16571</th>\n      <td>16.820000</td>\n      <td>16.830</td>\n      <td>16.870667</td>\n      <td>NaN</td>\n      <td>NaN</td>\n    </tr>\n    <tr>\n      <th>16570</th>\n      <td>17.020000</td>\n      <td>16.814</td>\n      <td>16.860000</td>\n      <td>NaN</td>\n      <td>NaN</td>\n    </tr>\n    <tr>\n      <th>16569</th>\n      <td>17.049999</td>\n      <td>16.834</td>\n      <td>16.856000</td>\n      <td>NaN</td>\n      <td>NaN</td>\n    </tr>\n    <tr>\n      <th>16568</th>\n      <td>17.049999</td>\n      <td>16.872</td>\n      <td>16.857333</td>\n      <td>NaN</td>\n      <td>NaN</td>\n    </tr>\n    <tr>\n      <th>16567</th>\n      <td>17.230000</td>\n      <td>16.934</td>\n      <td>16.854667</td>\n      <td>NaN</td>\n      <td>NaN</td>\n    </tr>\n    <tr>\n      <th>16566</th>\n      <td>17.290001</td>\n      <td>17.034</td>\n      <td>16.886000</td>\n      <td>NaN</td>\n      <td>NaN</td>\n    </tr>\n    <tr>\n      <th>16565</th>\n      <td>17.320000</td>\n      <td>17.128</td>\n      <td>16.927333</td>\n      <td>NaN</td>\n      <td>NaN</td>\n    </tr>\n    <tr>\n      <th>16564</th>\n      <td>17.230000</td>\n      <td>17.188</td>\n      <td>16.967333</td>\n      <td>NaN</td>\n      <td>NaN</td>\n    </tr>\n    <tr>\n      <th>16563</th>\n      <td>17.209999</td>\n      <td>17.224</td>\n      <td>16.992000</td>\n      <td>NaN</td>\n      <td>NaN</td>\n    </tr>\n    <tr>\n      <th>16562</th>\n      <td>17.280001</td>\n      <td>17.256</td>\n      <td>17.016000</td>\n      <td>NaN</td>\n      <td>NaN</td>\n    </tr>\n    <tr>\n      <th>16561</th>\n      <td>17.240000</td>\n      <td>17.266</td>\n      <td>17.043333</td>\n      <td>NaN</td>\n      <td>NaN</td>\n    </tr>\n    <tr>\n      <th>16560</th>\n      <td>17.059999</td>\n      <td>17.256</td>\n      <td>17.066000</td>\n      <td>NaN</td>\n      <td>NaN</td>\n    </tr>\n    <tr>\n      <th>16559</th>\n      <td>17.059999</td>\n      <td>17.204</td>\n      <td>17.075333</td>\n      <td>16.976667</td>\n      <td>NaN</td>\n    </tr>\n    <tr>\n      <th>16558</th>\n      <td>16.990000</td>\n      <td>17.170</td>\n      <td>17.088666</td>\n      <td>16.990000</td>\n      <td>NaN</td>\n    </tr>\n    <tr>\n      <th>16557</th>\n      <td>17.150000</td>\n      <td>17.126</td>\n      <td>17.105333</td>\n      <td>16.994667</td>\n      <td>NaN</td>\n    </tr>\n    <tr>\n      <th>16556</th>\n      <td>17.200001</td>\n      <td>17.100</td>\n      <td>17.133333</td>\n      <td>17.002000</td>\n      <td>NaN</td>\n    </tr>\n    <tr>\n      <th>16555</th>\n      <td>17.170000</td>\n      <td>17.092</td>\n      <td>17.158667</td>\n      <td>17.009333</td>\n      <td>NaN</td>\n    </tr>\n  </tbody>\n</table>\n</div>"
     },
     "execution_count": 78,
     "metadata": {},
     "output_type": "execute_result"
    }
   ],
   "source": [
    "# check the shift worked fine\n",
    "df[['Close','close_rolling_5_mean','close_rolling_15_mean','close_rolling_30_mean','close_rolling_365_mean']].head(35)"
   ],
   "metadata": {
    "collapsed": false,
    "pycharm": {
     "name": "#%%\n"
    }
   }
  },
  {
   "cell_type": "markdown",
   "source": [
    "Now that we see our code works let's create more indicators."
   ],
   "metadata": {
    "collapsed": false,
    "pycharm": {
     "name": "#%% md\n"
    }
   }
  },
  {
   "cell_type": "code",
   "execution_count": 79,
   "outputs": [],
   "source": [
    "# set up more indicators\n",
    "df['close_rolling_5_var'] = df['Close'].rolling(window=5).apply(np.var).shift(1)\n",
    "df['close_rolling_15_var'] = df['Close'].rolling(window=15).apply(np.var).shift(1)\n",
    "df['close_rolling_30_var'] = df['Close'].rolling(window=30).apply(np.var).shift(1)\n",
    "df['close_rolling_365_var'] = df['Close'].rolling(window=365).apply(np.var).shift(1)"
   ],
   "metadata": {
    "collapsed": false,
    "pycharm": {
     "name": "#%%\n"
    }
   }
  },
  {
   "cell_type": "code",
   "execution_count": 86,
   "outputs": [
    {
     "data": {
      "text/plain": "            Date      Close  close_rolling_5_var  close_rolling_15_var  \\\n16224 1951-06-19  22.020000             0.052520              0.059545   \n16223 1951-06-20  21.910000             0.036520              0.063505   \n16222 1951-06-21  21.780001             0.006856              0.063953   \n16221 1951-06-22  21.549999             0.010600              0.063907   \n16220 1951-06-25  21.290001             0.033336              0.062532   \n16219 1951-06-26  21.299999             0.068600              0.059856   \n16218 1951-06-27  21.370001             0.062264              0.061264   \n16217 1951-06-28  21.100000             0.034616              0.064745   \n16216 1951-06-29  20.959999             0.021016              0.083963   \n16215 1951-07-02  21.100000             0.022904              0.111193   \n16214 1951-07-03  21.230000             0.022144              0.126198   \n16213 1951-07-05  21.639999             0.019176              0.132926   \n16212 1951-07-06  21.639999             0.054384              0.133558   \n16211 1951-07-09  21.730000             0.078144              0.128189   \n16210 1951-07-10  21.629999             0.063976              0.113172   \n16209 1951-07-11  21.680000             0.030904              0.093982   \n16208 1951-07-12  21.799999             0.001384              0.076846   \n16207 1951-07-13  21.980000             0.003944              0.071009   \n16206 1951-07-16  21.730000             0.014824              0.082209   \n16205 1951-07-17  21.920000             0.014824              0.086225   \n16204 1951-07-18  21.879999             0.012736              0.095073   \n16203 1951-07-19  21.840000             0.007776              0.098940   \n16202 1951-07-20  21.879999             0.007040              0.100820   \n16201 1951-07-23  22.100000             0.004240              0.087646   \n16200 1951-07-24  22.440001             0.008384              0.064745   \n16199 1951-07-25  22.320000             0.050816              0.065936   \n16198 1951-07-26  22.469999             0.055744              0.055860   \n16197 1951-07-27  22.530001             0.049696              0.072091   \n16196 1951-07-30  22.629999             0.023176              0.086252   \n16195 1951-07-31  22.400000             0.010456              0.104812   \n16194 1951-08-01  22.510000             0.011320              0.098036   \n16193 1951-08-02  22.820000             0.005696              0.093683   \n16192 1951-08-03  22.850000             0.019976              0.109187   \n16191 1951-08-06  23.010000             0.030216              0.127283   \n16190 1951-08-07  23.030001             0.051496              0.133996   \n\n       close_rolling_30_var  close_rolling_365_var  \n16224              0.216816               3.196227  \n16223              0.191121               3.192847  \n16222              0.163650               3.190370  \n16221              0.131276               3.186971  \n16220              0.104716               3.181191  \n16219              0.088885               3.173743  \n16218              0.077718               3.165449  \n16217              0.076769               3.158386  \n16216              0.081378               3.143809  \n16215              0.084640               3.126418  \n16214              0.088981               3.110658  \n16213              0.090640               3.097879  \n16212              0.091498               3.088792  \n16211              0.089365               3.079662  \n16210              0.085013               3.071657  \n16209              0.077920               3.062481  \n16208              0.075408               3.052614  \n16207              0.076443               3.041881  \n16206              0.082402               3.032783  \n16205              0.083027               3.021748  \n16204              0.082891               3.015610  \n16203              0.082946               3.009075  \n16202              0.083938               3.001723  \n16201              0.085858               2.997059  \n16200              0.091938               2.995584  \n16199              0.111609               2.998821  \n16198              0.123520               2.998721  \n16197              0.140980               3.000082  \n16196              0.160890               3.002897  \n16195              0.182976               3.006242  \n16194              0.193145               3.003127  \n16193              0.208232               3.001150  \n16192              0.240901               3.002374  \n16191              0.273393               3.006045  \n16190              0.310217               3.012628  ",
      "text/html": "<div>\n<style scoped>\n    .dataframe tbody tr th:only-of-type {\n        vertical-align: middle;\n    }\n\n    .dataframe tbody tr th {\n        vertical-align: top;\n    }\n\n    .dataframe thead th {\n        text-align: right;\n    }\n</style>\n<table border=\"1\" class=\"dataframe\">\n  <thead>\n    <tr style=\"text-align: right;\">\n      <th></th>\n      <th>Date</th>\n      <th>Close</th>\n      <th>close_rolling_5_var</th>\n      <th>close_rolling_15_var</th>\n      <th>close_rolling_30_var</th>\n      <th>close_rolling_365_var</th>\n    </tr>\n  </thead>\n  <tbody>\n    <tr>\n      <th>16224</th>\n      <td>1951-06-19</td>\n      <td>22.020000</td>\n      <td>0.052520</td>\n      <td>0.059545</td>\n      <td>0.216816</td>\n      <td>3.196227</td>\n    </tr>\n    <tr>\n      <th>16223</th>\n      <td>1951-06-20</td>\n      <td>21.910000</td>\n      <td>0.036520</td>\n      <td>0.063505</td>\n      <td>0.191121</td>\n      <td>3.192847</td>\n    </tr>\n    <tr>\n      <th>16222</th>\n      <td>1951-06-21</td>\n      <td>21.780001</td>\n      <td>0.006856</td>\n      <td>0.063953</td>\n      <td>0.163650</td>\n      <td>3.190370</td>\n    </tr>\n    <tr>\n      <th>16221</th>\n      <td>1951-06-22</td>\n      <td>21.549999</td>\n      <td>0.010600</td>\n      <td>0.063907</td>\n      <td>0.131276</td>\n      <td>3.186971</td>\n    </tr>\n    <tr>\n      <th>16220</th>\n      <td>1951-06-25</td>\n      <td>21.290001</td>\n      <td>0.033336</td>\n      <td>0.062532</td>\n      <td>0.104716</td>\n      <td>3.181191</td>\n    </tr>\n    <tr>\n      <th>16219</th>\n      <td>1951-06-26</td>\n      <td>21.299999</td>\n      <td>0.068600</td>\n      <td>0.059856</td>\n      <td>0.088885</td>\n      <td>3.173743</td>\n    </tr>\n    <tr>\n      <th>16218</th>\n      <td>1951-06-27</td>\n      <td>21.370001</td>\n      <td>0.062264</td>\n      <td>0.061264</td>\n      <td>0.077718</td>\n      <td>3.165449</td>\n    </tr>\n    <tr>\n      <th>16217</th>\n      <td>1951-06-28</td>\n      <td>21.100000</td>\n      <td>0.034616</td>\n      <td>0.064745</td>\n      <td>0.076769</td>\n      <td>3.158386</td>\n    </tr>\n    <tr>\n      <th>16216</th>\n      <td>1951-06-29</td>\n      <td>20.959999</td>\n      <td>0.021016</td>\n      <td>0.083963</td>\n      <td>0.081378</td>\n      <td>3.143809</td>\n    </tr>\n    <tr>\n      <th>16215</th>\n      <td>1951-07-02</td>\n      <td>21.100000</td>\n      <td>0.022904</td>\n      <td>0.111193</td>\n      <td>0.084640</td>\n      <td>3.126418</td>\n    </tr>\n    <tr>\n      <th>16214</th>\n      <td>1951-07-03</td>\n      <td>21.230000</td>\n      <td>0.022144</td>\n      <td>0.126198</td>\n      <td>0.088981</td>\n      <td>3.110658</td>\n    </tr>\n    <tr>\n      <th>16213</th>\n      <td>1951-07-05</td>\n      <td>21.639999</td>\n      <td>0.019176</td>\n      <td>0.132926</td>\n      <td>0.090640</td>\n      <td>3.097879</td>\n    </tr>\n    <tr>\n      <th>16212</th>\n      <td>1951-07-06</td>\n      <td>21.639999</td>\n      <td>0.054384</td>\n      <td>0.133558</td>\n      <td>0.091498</td>\n      <td>3.088792</td>\n    </tr>\n    <tr>\n      <th>16211</th>\n      <td>1951-07-09</td>\n      <td>21.730000</td>\n      <td>0.078144</td>\n      <td>0.128189</td>\n      <td>0.089365</td>\n      <td>3.079662</td>\n    </tr>\n    <tr>\n      <th>16210</th>\n      <td>1951-07-10</td>\n      <td>21.629999</td>\n      <td>0.063976</td>\n      <td>0.113172</td>\n      <td>0.085013</td>\n      <td>3.071657</td>\n    </tr>\n    <tr>\n      <th>16209</th>\n      <td>1951-07-11</td>\n      <td>21.680000</td>\n      <td>0.030904</td>\n      <td>0.093982</td>\n      <td>0.077920</td>\n      <td>3.062481</td>\n    </tr>\n    <tr>\n      <th>16208</th>\n      <td>1951-07-12</td>\n      <td>21.799999</td>\n      <td>0.001384</td>\n      <td>0.076846</td>\n      <td>0.075408</td>\n      <td>3.052614</td>\n    </tr>\n    <tr>\n      <th>16207</th>\n      <td>1951-07-13</td>\n      <td>21.980000</td>\n      <td>0.003944</td>\n      <td>0.071009</td>\n      <td>0.076443</td>\n      <td>3.041881</td>\n    </tr>\n    <tr>\n      <th>16206</th>\n      <td>1951-07-16</td>\n      <td>21.730000</td>\n      <td>0.014824</td>\n      <td>0.082209</td>\n      <td>0.082402</td>\n      <td>3.032783</td>\n    </tr>\n    <tr>\n      <th>16205</th>\n      <td>1951-07-17</td>\n      <td>21.920000</td>\n      <td>0.014824</td>\n      <td>0.086225</td>\n      <td>0.083027</td>\n      <td>3.021748</td>\n    </tr>\n    <tr>\n      <th>16204</th>\n      <td>1951-07-18</td>\n      <td>21.879999</td>\n      <td>0.012736</td>\n      <td>0.095073</td>\n      <td>0.082891</td>\n      <td>3.015610</td>\n    </tr>\n    <tr>\n      <th>16203</th>\n      <td>1951-07-19</td>\n      <td>21.840000</td>\n      <td>0.007776</td>\n      <td>0.098940</td>\n      <td>0.082946</td>\n      <td>3.009075</td>\n    </tr>\n    <tr>\n      <th>16202</th>\n      <td>1951-07-20</td>\n      <td>21.879999</td>\n      <td>0.007040</td>\n      <td>0.100820</td>\n      <td>0.083938</td>\n      <td>3.001723</td>\n    </tr>\n    <tr>\n      <th>16201</th>\n      <td>1951-07-23</td>\n      <td>22.100000</td>\n      <td>0.004240</td>\n      <td>0.087646</td>\n      <td>0.085858</td>\n      <td>2.997059</td>\n    </tr>\n    <tr>\n      <th>16200</th>\n      <td>1951-07-24</td>\n      <td>22.440001</td>\n      <td>0.008384</td>\n      <td>0.064745</td>\n      <td>0.091938</td>\n      <td>2.995584</td>\n    </tr>\n    <tr>\n      <th>16199</th>\n      <td>1951-07-25</td>\n      <td>22.320000</td>\n      <td>0.050816</td>\n      <td>0.065936</td>\n      <td>0.111609</td>\n      <td>2.998821</td>\n    </tr>\n    <tr>\n      <th>16198</th>\n      <td>1951-07-26</td>\n      <td>22.469999</td>\n      <td>0.055744</td>\n      <td>0.055860</td>\n      <td>0.123520</td>\n      <td>2.998721</td>\n    </tr>\n    <tr>\n      <th>16197</th>\n      <td>1951-07-27</td>\n      <td>22.530001</td>\n      <td>0.049696</td>\n      <td>0.072091</td>\n      <td>0.140980</td>\n      <td>3.000082</td>\n    </tr>\n    <tr>\n      <th>16196</th>\n      <td>1951-07-30</td>\n      <td>22.629999</td>\n      <td>0.023176</td>\n      <td>0.086252</td>\n      <td>0.160890</td>\n      <td>3.002897</td>\n    </tr>\n    <tr>\n      <th>16195</th>\n      <td>1951-07-31</td>\n      <td>22.400000</td>\n      <td>0.010456</td>\n      <td>0.104812</td>\n      <td>0.182976</td>\n      <td>3.006242</td>\n    </tr>\n    <tr>\n      <th>16194</th>\n      <td>1951-08-01</td>\n      <td>22.510000</td>\n      <td>0.011320</td>\n      <td>0.098036</td>\n      <td>0.193145</td>\n      <td>3.003127</td>\n    </tr>\n    <tr>\n      <th>16193</th>\n      <td>1951-08-02</td>\n      <td>22.820000</td>\n      <td>0.005696</td>\n      <td>0.093683</td>\n      <td>0.208232</td>\n      <td>3.001150</td>\n    </tr>\n    <tr>\n      <th>16192</th>\n      <td>1951-08-03</td>\n      <td>22.850000</td>\n      <td>0.019976</td>\n      <td>0.109187</td>\n      <td>0.240901</td>\n      <td>3.002374</td>\n    </tr>\n    <tr>\n      <th>16191</th>\n      <td>1951-08-06</td>\n      <td>23.010000</td>\n      <td>0.030216</td>\n      <td>0.127283</td>\n      <td>0.273393</td>\n      <td>3.006045</td>\n    </tr>\n    <tr>\n      <th>16190</th>\n      <td>1951-08-07</td>\n      <td>23.030001</td>\n      <td>0.051496</td>\n      <td>0.133996</td>\n      <td>0.310217</td>\n      <td>3.012628</td>\n    </tr>\n  </tbody>\n</table>\n</div>"
     },
     "execution_count": 86,
     "metadata": {},
     "output_type": "execute_result"
    }
   ],
   "source": [
    "# check the var indicators\n",
    "df[['Date','Close','close_rolling_5_var','close_rolling_15_var','close_rolling_30_var','close_rolling_365_var']].head(35)"
   ],
   "metadata": {
    "collapsed": false,
    "pycharm": {
     "name": "#%%\n"
    }
   }
  },
  {
   "cell_type": "code",
   "execution_count": 87,
   "outputs": [],
   "source": [
    "# add ratios between indicators\n",
    "df['mean_var_ration_rolling_5'] = df['close_rolling_5_mean'] / df['close_rolling_5_var']\n",
    "df['mean_var_ration_rolling_15'] = df['close_rolling_15_mean'] / df['close_rolling_15_var']\n",
    "df['mean_var_ration_rolling_30'] = df['close_rolling_30_mean'] / df['close_rolling_30_var']\n",
    "df['mean_var_ration_rolling_365'] = df['close_rolling_365_mean'] / df['close_rolling_365_var']"
   ],
   "metadata": {
    "collapsed": false,
    "pycharm": {
     "name": "#%%\n"
    }
   }
  },
  {
   "cell_type": "code",
   "execution_count": 100,
   "outputs": [
    {
     "ename": "KeyError",
     "evalue": "'Min'",
     "output_type": "error",
     "traceback": [
      "\u001B[0;31m---------------------------------------------------------------------------\u001B[0m",
      "\u001B[0;31mKeyError\u001B[0m                                  Traceback (most recent call last)",
      "\u001B[0;32m/Library/Frameworks/Python.framework/Versions/3.9/lib/python3.9/site-packages/pandas/core/indexes/base.py\u001B[0m in \u001B[0;36mget_loc\u001B[0;34m(self, key, method, tolerance)\u001B[0m\n\u001B[1;32m   3360\u001B[0m             \u001B[0;32mtry\u001B[0m\u001B[0;34m:\u001B[0m\u001B[0;34m\u001B[0m\u001B[0;34m\u001B[0m\u001B[0m\n\u001B[0;32m-> 3361\u001B[0;31m                 \u001B[0;32mreturn\u001B[0m \u001B[0mself\u001B[0m\u001B[0;34m.\u001B[0m\u001B[0m_engine\u001B[0m\u001B[0;34m.\u001B[0m\u001B[0mget_loc\u001B[0m\u001B[0;34m(\u001B[0m\u001B[0mcasted_key\u001B[0m\u001B[0;34m)\u001B[0m\u001B[0;34m\u001B[0m\u001B[0;34m\u001B[0m\u001B[0m\n\u001B[0m\u001B[1;32m   3362\u001B[0m             \u001B[0;32mexcept\u001B[0m \u001B[0mKeyError\u001B[0m \u001B[0;32mas\u001B[0m \u001B[0merr\u001B[0m\u001B[0;34m:\u001B[0m\u001B[0;34m\u001B[0m\u001B[0;34m\u001B[0m\u001B[0m\n",
      "\u001B[0;32m/Library/Frameworks/Python.framework/Versions/3.9/lib/python3.9/site-packages/pandas/_libs/index.pyx\u001B[0m in \u001B[0;36mpandas._libs.index.IndexEngine.get_loc\u001B[0;34m()\u001B[0m\n",
      "\u001B[0;32m/Library/Frameworks/Python.framework/Versions/3.9/lib/python3.9/site-packages/pandas/_libs/index.pyx\u001B[0m in \u001B[0;36mpandas._libs.index.IndexEngine.get_loc\u001B[0;34m()\u001B[0m\n",
      "\u001B[0;32mpandas/_libs/hashtable_class_helper.pxi\u001B[0m in \u001B[0;36mpandas._libs.hashtable.PyObjectHashTable.get_item\u001B[0;34m()\u001B[0m\n",
      "\u001B[0;32mpandas/_libs/hashtable_class_helper.pxi\u001B[0m in \u001B[0;36mpandas._libs.hashtable.PyObjectHashTable.get_item\u001B[0;34m()\u001B[0m\n",
      "\u001B[0;31mKeyError\u001B[0m: 'Min'",
      "\nThe above exception was the direct cause of the following exception:\n",
      "\u001B[0;31mKeyError\u001B[0m                                  Traceback (most recent call last)",
      "\u001B[0;32m<ipython-input-100-d8550bb117e2>\u001B[0m in \u001B[0;36m<module>\u001B[0;34m\u001B[0m\n\u001B[1;32m      2\u001B[0m \u001B[0mdf\u001B[0m\u001B[0;34m[\u001B[0m\u001B[0;34m'volume_rolling_5_var'\u001B[0m\u001B[0;34m]\u001B[0m \u001B[0;34m=\u001B[0m \u001B[0mdf\u001B[0m\u001B[0;34m[\u001B[0m\u001B[0;34m'Volume'\u001B[0m\u001B[0;34m]\u001B[0m\u001B[0;34m.\u001B[0m\u001B[0mrolling\u001B[0m\u001B[0;34m(\u001B[0m\u001B[0mwindow\u001B[0m\u001B[0;34m=\u001B[0m\u001B[0;36m5\u001B[0m\u001B[0;34m)\u001B[0m\u001B[0;34m.\u001B[0m\u001B[0mapply\u001B[0m\u001B[0;34m(\u001B[0m\u001B[0mnp\u001B[0m\u001B[0;34m.\u001B[0m\u001B[0mvar\u001B[0m\u001B[0;34m)\u001B[0m\u001B[0;34m.\u001B[0m\u001B[0mshift\u001B[0m\u001B[0;34m(\u001B[0m\u001B[0;36m1\u001B[0m\u001B[0;34m)\u001B[0m\u001B[0;34m\u001B[0m\u001B[0;34m\u001B[0m\u001B[0m\n\u001B[1;32m      3\u001B[0m \u001B[0mdf\u001B[0m\u001B[0;34m[\u001B[0m\u001B[0;34m'volume_rolling_365_var'\u001B[0m\u001B[0;34m]\u001B[0m \u001B[0;34m=\u001B[0m \u001B[0mdf\u001B[0m\u001B[0;34m[\u001B[0m\u001B[0;34m'Volume'\u001B[0m\u001B[0;34m]\u001B[0m\u001B[0;34m.\u001B[0m\u001B[0mrolling\u001B[0m\u001B[0;34m(\u001B[0m\u001B[0mwindow\u001B[0m\u001B[0;34m=\u001B[0m\u001B[0;36m365\u001B[0m\u001B[0;34m)\u001B[0m\u001B[0;34m.\u001B[0m\u001B[0mapply\u001B[0m\u001B[0;34m(\u001B[0m\u001B[0mnp\u001B[0m\u001B[0;34m.\u001B[0m\u001B[0mvar\u001B[0m\u001B[0;34m)\u001B[0m\u001B[0;34m.\u001B[0m\u001B[0mshift\u001B[0m\u001B[0;34m(\u001B[0m\u001B[0;36m1\u001B[0m\u001B[0;34m)\u001B[0m\u001B[0;34m\u001B[0m\u001B[0;34m\u001B[0m\u001B[0m\n\u001B[0;32m----> 4\u001B[0;31m \u001B[0mdf\u001B[0m\u001B[0;34m[\u001B[0m\u001B[0;34m'close_rolling_365_min'\u001B[0m\u001B[0;34m]\u001B[0m \u001B[0;34m=\u001B[0m \u001B[0mdf\u001B[0m\u001B[0;34m[\u001B[0m\u001B[0;34m'Min'\u001B[0m\u001B[0;34m]\u001B[0m\u001B[0;34m.\u001B[0m\u001B[0mrolling\u001B[0m\u001B[0;34m(\u001B[0m\u001B[0mwindow\u001B[0m\u001B[0;34m=\u001B[0m\u001B[0;36m365\u001B[0m\u001B[0;34m)\u001B[0m\u001B[0;34m.\u001B[0m\u001B[0mapply\u001B[0m\u001B[0;34m(\u001B[0m\u001B[0mnp\u001B[0m\u001B[0;34m.\u001B[0m\u001B[0mmean\u001B[0m\u001B[0;34m)\u001B[0m\u001B[0;34m.\u001B[0m\u001B[0mshift\u001B[0m\u001B[0;34m(\u001B[0m\u001B[0;36m1\u001B[0m\u001B[0;34m)\u001B[0m\u001B[0;34m\u001B[0m\u001B[0;34m\u001B[0m\u001B[0m\n\u001B[0m\u001B[1;32m      5\u001B[0m \u001B[0mdf\u001B[0m\u001B[0;34m[\u001B[0m\u001B[0;34m'close_rolling_365_max'\u001B[0m\u001B[0;34m]\u001B[0m \u001B[0;34m=\u001B[0m \u001B[0mdf\u001B[0m\u001B[0;34m[\u001B[0m\u001B[0;34m'Max'\u001B[0m\u001B[0;34m]\u001B[0m\u001B[0;34m.\u001B[0m\u001B[0mrolling\u001B[0m\u001B[0;34m(\u001B[0m\u001B[0mwindow\u001B[0m\u001B[0;34m=\u001B[0m\u001B[0;36m365\u001B[0m\u001B[0;34m)\u001B[0m\u001B[0;34m.\u001B[0m\u001B[0mapply\u001B[0m\u001B[0;34m(\u001B[0m\u001B[0mnp\u001B[0m\u001B[0;34m.\u001B[0m\u001B[0mmean\u001B[0m\u001B[0;34m)\u001B[0m\u001B[0;34m.\u001B[0m\u001B[0mshift\u001B[0m\u001B[0;34m(\u001B[0m\u001B[0;36m1\u001B[0m\u001B[0;34m)\u001B[0m\u001B[0;34m\u001B[0m\u001B[0;34m\u001B[0m\u001B[0m\n",
      "\u001B[0;32m/Library/Frameworks/Python.framework/Versions/3.9/lib/python3.9/site-packages/pandas/core/frame.py\u001B[0m in \u001B[0;36m__getitem__\u001B[0;34m(self, key)\u001B[0m\n\u001B[1;32m   3456\u001B[0m             \u001B[0;32mif\u001B[0m \u001B[0mself\u001B[0m\u001B[0;34m.\u001B[0m\u001B[0mcolumns\u001B[0m\u001B[0;34m.\u001B[0m\u001B[0mnlevels\u001B[0m \u001B[0;34m>\u001B[0m \u001B[0;36m1\u001B[0m\u001B[0;34m:\u001B[0m\u001B[0;34m\u001B[0m\u001B[0;34m\u001B[0m\u001B[0m\n\u001B[1;32m   3457\u001B[0m                 \u001B[0;32mreturn\u001B[0m \u001B[0mself\u001B[0m\u001B[0;34m.\u001B[0m\u001B[0m_getitem_multilevel\u001B[0m\u001B[0;34m(\u001B[0m\u001B[0mkey\u001B[0m\u001B[0;34m)\u001B[0m\u001B[0;34m\u001B[0m\u001B[0;34m\u001B[0m\u001B[0m\n\u001B[0;32m-> 3458\u001B[0;31m             \u001B[0mindexer\u001B[0m \u001B[0;34m=\u001B[0m \u001B[0mself\u001B[0m\u001B[0;34m.\u001B[0m\u001B[0mcolumns\u001B[0m\u001B[0;34m.\u001B[0m\u001B[0mget_loc\u001B[0m\u001B[0;34m(\u001B[0m\u001B[0mkey\u001B[0m\u001B[0;34m)\u001B[0m\u001B[0;34m\u001B[0m\u001B[0;34m\u001B[0m\u001B[0m\n\u001B[0m\u001B[1;32m   3459\u001B[0m             \u001B[0;32mif\u001B[0m \u001B[0mis_integer\u001B[0m\u001B[0;34m(\u001B[0m\u001B[0mindexer\u001B[0m\u001B[0;34m)\u001B[0m\u001B[0;34m:\u001B[0m\u001B[0;34m\u001B[0m\u001B[0;34m\u001B[0m\u001B[0m\n\u001B[1;32m   3460\u001B[0m                 \u001B[0mindexer\u001B[0m \u001B[0;34m=\u001B[0m \u001B[0;34m[\u001B[0m\u001B[0mindexer\u001B[0m\u001B[0;34m]\u001B[0m\u001B[0;34m\u001B[0m\u001B[0;34m\u001B[0m\u001B[0m\n",
      "\u001B[0;32m/Library/Frameworks/Python.framework/Versions/3.9/lib/python3.9/site-packages/pandas/core/indexes/base.py\u001B[0m in \u001B[0;36mget_loc\u001B[0;34m(self, key, method, tolerance)\u001B[0m\n\u001B[1;32m   3361\u001B[0m                 \u001B[0;32mreturn\u001B[0m \u001B[0mself\u001B[0m\u001B[0;34m.\u001B[0m\u001B[0m_engine\u001B[0m\u001B[0;34m.\u001B[0m\u001B[0mget_loc\u001B[0m\u001B[0;34m(\u001B[0m\u001B[0mcasted_key\u001B[0m\u001B[0;34m)\u001B[0m\u001B[0;34m\u001B[0m\u001B[0;34m\u001B[0m\u001B[0m\n\u001B[1;32m   3362\u001B[0m             \u001B[0;32mexcept\u001B[0m \u001B[0mKeyError\u001B[0m \u001B[0;32mas\u001B[0m \u001B[0merr\u001B[0m\u001B[0;34m:\u001B[0m\u001B[0;34m\u001B[0m\u001B[0;34m\u001B[0m\u001B[0m\n\u001B[0;32m-> 3363\u001B[0;31m                 \u001B[0;32mraise\u001B[0m \u001B[0mKeyError\u001B[0m\u001B[0;34m(\u001B[0m\u001B[0mkey\u001B[0m\u001B[0;34m)\u001B[0m \u001B[0;32mfrom\u001B[0m \u001B[0merr\u001B[0m\u001B[0;34m\u001B[0m\u001B[0;34m\u001B[0m\u001B[0m\n\u001B[0m\u001B[1;32m   3364\u001B[0m \u001B[0;34m\u001B[0m\u001B[0m\n\u001B[1;32m   3365\u001B[0m         \u001B[0;32mif\u001B[0m \u001B[0mis_scalar\u001B[0m\u001B[0;34m(\u001B[0m\u001B[0mkey\u001B[0m\u001B[0;34m)\u001B[0m \u001B[0;32mand\u001B[0m \u001B[0misna\u001B[0m\u001B[0;34m(\u001B[0m\u001B[0mkey\u001B[0m\u001B[0;34m)\u001B[0m \u001B[0;32mand\u001B[0m \u001B[0;32mnot\u001B[0m \u001B[0mself\u001B[0m\u001B[0;34m.\u001B[0m\u001B[0mhasnans\u001B[0m\u001B[0;34m:\u001B[0m\u001B[0;34m\u001B[0m\u001B[0;34m\u001B[0m\u001B[0m\n",
      "\u001B[0;31mKeyError\u001B[0m: 'Min'"
     ]
    }
   ],
   "source": [
    "# add indicators on volume, min max prices per rolling 365\n",
    "df['volume_rolling_5_var'] = df['Volume'].rolling(window=5).apply(np.var).shift(1)\n",
    "df['volume_rolling_365_var'] = df['Volume'].rolling(window=365).apply(np.var).shift(1)\n",
    "df['close_rolling_365_min'] = df['Min'].rolling(window=365).apply(np.mean).shift(1)\n",
    "df['close_rolling_365_max'] = df['Max'].rolling(window=365).apply(np.mean).shift(1)"
   ],
   "metadata": {
    "collapsed": false,
    "pycharm": {
     "name": "#%%\n"
    }
   }
  },
  {
   "cell_type": "code",
   "execution_count": 99,
   "outputs": [],
   "source": [
    "# create function for indicators:\n",
    "def create_indicator(df, col, name, window, function):\n",
    "    df[name] = df[col].rolling(window=window).apply().shift(1)"
   ],
   "metadata": {
    "collapsed": false,
    "pycharm": {
     "name": "#%%\n"
    }
   }
  },
  {
   "cell_type": "code",
   "execution_count": null,
   "outputs": [],
   "source": [],
   "metadata": {
    "collapsed": false,
    "pycharm": {
     "name": "#%%\n"
    }
   }
  },
  {
   "cell_type": "markdown",
   "source": [
    "### Data Cleaning\n",
    "We are going to remove NaN records and dates before 1950-01-03 to accomodate 365 rolling metrics"
   ],
   "metadata": {
    "collapsed": false,
    "pycharm": {
     "name": "#%% md\n"
    }
   }
  },
  {
   "cell_type": "code",
   "execution_count": 101,
   "outputs": [
    {
     "data": {
      "text/plain": "            Date   Open   High    Low  Close     Volume  Adj Close  \\\n15494 1954-05-20  28.82  28.82  28.82  28.82  2070000.0      28.82   \n15493 1954-05-21  28.99  28.99  28.99  28.99  2620000.0      28.99   \n15492 1954-05-24  29.00  29.00  29.00  29.00  2330000.0      29.00   \n15491 1954-05-25  28.93  28.93  28.93  28.93  2050000.0      28.93   \n15490 1954-05-26  29.17  29.17  29.17  29.17  2180000.0      29.17   \n\n       close_rolling_5_mean  close_rolling_15_mean  close_rolling_30_mean  \\\n15494             28.753999              28.532000              28.093667   \n15493             28.806000              28.574667              28.150666   \n15492             28.844000              28.623333              28.204333   \n15491             28.876000              28.676000              28.258333   \n15490             28.892000              28.719333              28.303667   \n\n       ...  close_rolling_30_var  close_rolling_365_var  \\\n15494  ...              0.240903               1.654401   \n15493  ...              0.222986               1.687644   \n15492  ...              0.223791               1.723787   \n15491  ...              0.219327               1.759508   \n15490  ...              0.216517               1.793537   \n\n       mean_var_ration_rolling_5  mean_var_ration_rolling_15  \\\n15494                2499.462573                  543.923568   \n15493               13435.403533                  596.488595   \n15492                3864.390156                  567.523769   \n15491                2554.479866                  627.064509   \n15490                2513.206932                  761.796223   \n\n       mean_var_ration_rolling_30  mean_var_ration_rolling_365  \\\n15494                  116.618065                    15.304454   \n15493                  126.243928                    15.008179   \n15492                  126.029642                    14.698637   \n15491                  128.840973                    14.405010   \n15490                  130.722865                    14.136202   \n\n       volume_rolling_5_var  volume_rolling_365_var  close_rolling_365_min  \\\n15494          1.818400e+10            1.968465e+11              22.709999   \n15493          9.760000e+09            1.975532e+11              22.709999   \n15492          4.356000e+10            2.004795e+11              22.709999   \n15491          3.497600e+10            2.012412e+11              22.709999   \n15490          4.441600e+10            2.016152e+11              22.709999   \n\n       close_rolling_365_max  \n15494                  28.85  \n15493                  28.85  \n15492                  28.99  \n15491                  29.00  \n15490                  29.00  \n\n[5 rows x 23 columns]",
      "text/html": "<div>\n<style scoped>\n    .dataframe tbody tr th:only-of-type {\n        vertical-align: middle;\n    }\n\n    .dataframe tbody tr th {\n        vertical-align: top;\n    }\n\n    .dataframe thead th {\n        text-align: right;\n    }\n</style>\n<table border=\"1\" class=\"dataframe\">\n  <thead>\n    <tr style=\"text-align: right;\">\n      <th></th>\n      <th>Date</th>\n      <th>Open</th>\n      <th>High</th>\n      <th>Low</th>\n      <th>Close</th>\n      <th>Volume</th>\n      <th>Adj Close</th>\n      <th>close_rolling_5_mean</th>\n      <th>close_rolling_15_mean</th>\n      <th>close_rolling_30_mean</th>\n      <th>...</th>\n      <th>close_rolling_30_var</th>\n      <th>close_rolling_365_var</th>\n      <th>mean_var_ration_rolling_5</th>\n      <th>mean_var_ration_rolling_15</th>\n      <th>mean_var_ration_rolling_30</th>\n      <th>mean_var_ration_rolling_365</th>\n      <th>volume_rolling_5_var</th>\n      <th>volume_rolling_365_var</th>\n      <th>close_rolling_365_min</th>\n      <th>close_rolling_365_max</th>\n    </tr>\n  </thead>\n  <tbody>\n    <tr>\n      <th>15494</th>\n      <td>1954-05-20</td>\n      <td>28.82</td>\n      <td>28.82</td>\n      <td>28.82</td>\n      <td>28.82</td>\n      <td>2070000.0</td>\n      <td>28.82</td>\n      <td>28.753999</td>\n      <td>28.532000</td>\n      <td>28.093667</td>\n      <td>...</td>\n      <td>0.240903</td>\n      <td>1.654401</td>\n      <td>2499.462573</td>\n      <td>543.923568</td>\n      <td>116.618065</td>\n      <td>15.304454</td>\n      <td>1.818400e+10</td>\n      <td>1.968465e+11</td>\n      <td>22.709999</td>\n      <td>28.85</td>\n    </tr>\n    <tr>\n      <th>15493</th>\n      <td>1954-05-21</td>\n      <td>28.99</td>\n      <td>28.99</td>\n      <td>28.99</td>\n      <td>28.99</td>\n      <td>2620000.0</td>\n      <td>28.99</td>\n      <td>28.806000</td>\n      <td>28.574667</td>\n      <td>28.150666</td>\n      <td>...</td>\n      <td>0.222986</td>\n      <td>1.687644</td>\n      <td>13435.403533</td>\n      <td>596.488595</td>\n      <td>126.243928</td>\n      <td>15.008179</td>\n      <td>9.760000e+09</td>\n      <td>1.975532e+11</td>\n      <td>22.709999</td>\n      <td>28.85</td>\n    </tr>\n    <tr>\n      <th>15492</th>\n      <td>1954-05-24</td>\n      <td>29.00</td>\n      <td>29.00</td>\n      <td>29.00</td>\n      <td>29.00</td>\n      <td>2330000.0</td>\n      <td>29.00</td>\n      <td>28.844000</td>\n      <td>28.623333</td>\n      <td>28.204333</td>\n      <td>...</td>\n      <td>0.223791</td>\n      <td>1.723787</td>\n      <td>3864.390156</td>\n      <td>567.523769</td>\n      <td>126.029642</td>\n      <td>14.698637</td>\n      <td>4.356000e+10</td>\n      <td>2.004795e+11</td>\n      <td>22.709999</td>\n      <td>28.99</td>\n    </tr>\n    <tr>\n      <th>15491</th>\n      <td>1954-05-25</td>\n      <td>28.93</td>\n      <td>28.93</td>\n      <td>28.93</td>\n      <td>28.93</td>\n      <td>2050000.0</td>\n      <td>28.93</td>\n      <td>28.876000</td>\n      <td>28.676000</td>\n      <td>28.258333</td>\n      <td>...</td>\n      <td>0.219327</td>\n      <td>1.759508</td>\n      <td>2554.479866</td>\n      <td>627.064509</td>\n      <td>128.840973</td>\n      <td>14.405010</td>\n      <td>3.497600e+10</td>\n      <td>2.012412e+11</td>\n      <td>22.709999</td>\n      <td>29.00</td>\n    </tr>\n    <tr>\n      <th>15490</th>\n      <td>1954-05-26</td>\n      <td>29.17</td>\n      <td>29.17</td>\n      <td>29.17</td>\n      <td>29.17</td>\n      <td>2180000.0</td>\n      <td>29.17</td>\n      <td>28.892000</td>\n      <td>28.719333</td>\n      <td>28.303667</td>\n      <td>...</td>\n      <td>0.216517</td>\n      <td>1.793537</td>\n      <td>2513.206932</td>\n      <td>761.796223</td>\n      <td>130.722865</td>\n      <td>14.136202</td>\n      <td>4.441600e+10</td>\n      <td>2.016152e+11</td>\n      <td>22.709999</td>\n      <td>29.00</td>\n    </tr>\n  </tbody>\n</table>\n<p>5 rows × 23 columns</p>\n</div>"
     },
     "execution_count": 101,
     "metadata": {},
     "output_type": "execute_result"
    }
   ],
   "source": [
    "# remove records before '1950-01-03' as they would have NaN for rolling 365 metrics\n",
    "df = df[df['Date'] > datetime(year=1951, month=1, day=2)]\n",
    "# drop NaN values\n",
    "df = df.dropna(axis=0)\n",
    "df.head()"
   ],
   "metadata": {
    "collapsed": false,
    "pycharm": {
     "name": "#%%\n"
    }
   }
  },
  {
   "cell_type": "markdown",
   "source": [
    "## Regression Models\n",
    "Now that we have cleaned the dataset we can split into train and test:\n",
    "1. Train dates before '2013-01-01'\n",
    "2. Test dates after or equal to '2013-01-01'\n",
    "\n",
    "Then we can train a model and test results using MSE and RMSE.\n",
    "We are going to try:\n",
    "1. Linear Regression Model"
   ],
   "metadata": {
    "collapsed": false,
    "pycharm": {
     "name": "#%% md\n"
    }
   }
  },
  {
   "cell_type": "code",
   "execution_count": 102,
   "outputs": [],
   "source": [
    "# split dataset in train and test\n",
    "train_df = df[df['Date'] < '2013-01-01'].copy()\n",
    "test_df = df[df['Date'] >= '2013-01-01'].copy()"
   ],
   "metadata": {
    "collapsed": false,
    "pycharm": {
     "name": "#%%\n"
    }
   }
  },
  {
   "cell_type": "code",
   "execution_count": 103,
   "outputs": [
    {
     "data": {
      "text/plain": "Index(['Date', 'Open', 'High', 'Low', 'Close', 'Volume', 'Adj Close',\n       'close_rolling_5_mean', 'close_rolling_15_mean',\n       'close_rolling_30_mean', 'close_rolling_365_mean',\n       'close_rolling_5_var', 'close_rolling_15_var', 'close_rolling_30_var',\n       'close_rolling_365_var', 'mean_var_ration_rolling_5',\n       'mean_var_ration_rolling_15', 'mean_var_ration_rolling_30',\n       'mean_var_ration_rolling_365', 'volume_rolling_5_var',\n       'volume_rolling_365_var', 'close_rolling_365_min',\n       'close_rolling_365_max'],\n      dtype='object')"
     },
     "execution_count": 103,
     "metadata": {},
     "output_type": "execute_result"
    }
   ],
   "source": [
    "df.columns"
   ],
   "metadata": {
    "collapsed": false,
    "pycharm": {
     "name": "#%%\n"
    }
   }
  },
  {
   "cell_type": "code",
   "execution_count": 104,
   "outputs": [],
   "source": [
    "# select features and target\n",
    "features_base = ['close_rolling_5_mean','close_rolling_365_mean','close_rolling_5_var',\n",
    "                 'close_rolling_365_var', 'mean_var_ration_rolling_5',\n",
    "                 'mean_var_ration_rolling_365']\n",
    "features_full = ['close_rolling_5_mean','close_rolling_15_mean','close_rolling_30_mean','close_rolling_365_mean','close_rolling_5_var','close_rolling_15_var','close_rolling_30_var',\n",
    "            'close_rolling_365_var', 'mean_var_ration_rolling_5',\n",
    "            'mean_var_ration_rolling_15', 'mean_var_ration_rolling_30',\n",
    "            'mean_var_ration_rolling_365']\n",
    "features_new =  ['close_rolling_5_mean','close_rolling_365_mean','close_rolling_5_var',\n",
    "                 'close_rolling_365_var', 'mean_var_ration_rolling_5',\n",
    "                 'mean_var_ration_rolling_365', 'volume_rolling_5_var',\n",
    "                 'volume_rolling_365_var']\n",
    "target = 'Close'"
   ],
   "metadata": {
    "collapsed": false,
    "pycharm": {
     "name": "#%%\n"
    }
   }
  },
  {
   "cell_type": "markdown",
   "source": [
    "### Linear Model"
   ],
   "metadata": {
    "collapsed": false,
    "pycharm": {
     "name": "#%% md\n"
    }
   }
  },
  {
   "cell_type": "code",
   "execution_count": 105,
   "outputs": [
    {
     "name": "stdout",
     "output_type": "stream",
     "text": [
      "MSE base features: 483.2006446429048\n",
      "RMSE base features: 21.98182532554803\n"
     ]
    }
   ],
   "source": [
    "# initiate model and train and test with initial set of features\n",
    "lr = LinearRegression()\n",
    "lr.fit(train_df[features_base], train_df[target])\n",
    "predictions = lr.predict(test_df[features_base])\n",
    "mse = mean_squared_error(test_df[target], predictions)\n",
    "rmse = np.sqrt(mse)\n",
    "print('MSE base features:', mse)\n",
    "print('RMSE base features:', rmse)"
   ],
   "metadata": {
    "collapsed": false,
    "pycharm": {
     "name": "#%%\n"
    }
   }
  },
  {
   "cell_type": "markdown",
   "source": [
    "We get an MSE of 483 and RMSE of 22."
   ],
   "metadata": {
    "collapsed": false,
    "pycharm": {
     "name": "#%% md\n"
    }
   }
  },
  {
   "cell_type": "code",
   "execution_count": 106,
   "outputs": [
    {
     "name": "stdout",
     "output_type": "stream",
     "text": [
      "MSE full features: 477.58196890731705\n",
      "RMSE full features: 21.853648869406616\n"
     ]
    }
   ],
   "source": [
    "# train and test with more features\n",
    "lr = LinearRegression()\n",
    "lr.fit(train_df[features_full], train_df[target])\n",
    "predictions = lr.predict(test_df[features_full])\n",
    "mse = mean_squared_error(test_df[target], predictions)\n",
    "rmse = np.sqrt(mse)\n",
    "print('MSE full features:', mse)\n",
    "print('RMSE full features:', rmse)"
   ],
   "metadata": {
    "collapsed": false,
    "pycharm": {
     "name": "#%%\n"
    }
   }
  },
  {
   "cell_type": "markdown",
   "source": [
    "Adding more of the same kind of indicators to the features list does not improve the model quality. Let's try with different indicators."
   ],
   "metadata": {
    "collapsed": false,
    "pycharm": {
     "name": "#%% md\n"
    }
   }
  },
  {
   "cell_type": "code",
   "execution_count": 107,
   "outputs": [
    {
     "name": "stdout",
     "output_type": "stream",
     "text": [
      "MSE full features: 2942.2159524988656\n",
      "RMSE full features: 54.24219715773749\n"
     ]
    }
   ],
   "source": [
    "# train and test model with features from volume as well\n",
    "lr = LinearRegression()\n",
    "lr.fit(train_df[features_new], train_df[target])\n",
    "predictions = lr.predict(test_df[features_new])\n",
    "mse = mean_squared_error(test_df[target], predictions)\n",
    "rmse = np.sqrt(mse)\n",
    "print('MSE full features:', mse)\n",
    "print('RMSE full features:', rmse)"
   ],
   "metadata": {
    "collapsed": false,
    "pycharm": {
     "name": "#%%\n"
    }
   }
  },
  {
   "cell_type": "markdown",
   "source": [
    "Adding volume indicators to the model decreased its precision in the train & test environment.\n",
    "\n",
    "## Next Steps:\n",
    "Take a different approach in feature engineering and building new indicators as well as testing different models (Random Forest)."
   ],
   "metadata": {
    "collapsed": false,
    "pycharm": {
     "name": "#%% md\n"
    }
   }
  },
  {
   "cell_type": "code",
   "execution_count": null,
   "outputs": [],
   "source": [],
   "metadata": {
    "collapsed": false,
    "pycharm": {
     "name": "#%%\n"
    }
   }
  }
 ],
 "metadata": {
  "kernelspec": {
   "display_name": "Python 3",
   "language": "python",
   "name": "python3"
  },
  "language_info": {
   "codemirror_mode": {
    "name": "ipython",
    "version": 2
   },
   "file_extension": ".py",
   "mimetype": "text/x-python",
   "name": "python",
   "nbconvert_exporter": "python",
   "pygments_lexer": "ipython2",
   "version": "2.7.6"
  }
 },
 "nbformat": 4,
 "nbformat_minor": 0
}