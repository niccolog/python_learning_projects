{
 "cells": [
  {
   "cell_type": "markdown",
   "metadata": {
    "collapsed": true
   },
   "source": [
    "# Guided Project - Predicting Bike Rentals\n",
    "## Project Introduction\n",
    "In this project we will try to predict the total number of bikes people rented in a given hour. We will predict the cnt column using all of the other columns, except for casual and registered. To accomplish this, we will create a few different machine learning models and evaluate their performance.\n",
    "## Data Documentation\n",
    "You can find the dataset [here](http://archive.ics.uci.edu/ml/datasets/Bike+Sharing+Dataset) and below is the relevant columns description:\n",
    "- instant - A unique sequential ID number for each row\n",
    "- dteday - The date of the rentals\n",
    "- season - The season in which the rentals occurred\n",
    "- yr - The year the rentals occurred\n",
    "- mnth - The month the rentals occurred\n",
    "- hr - The hour the rentals occurred\n",
    "- holiday - Whether or not the day was a holiday\n",
    "- weekday - The day of the week (as a number, 0 to 7)\n",
    "- workingday - Whether or not the day was a working day\n",
    "- weathersit - The weather (as a categorical variable)\n",
    "- temp - The temperature, on a 0-1 scale\n",
    "- atemp - The adjusted temperature\n",
    "- hum - The humidity, on a 0-1 scale\n",
    "- windspeed - The wind speed, on a 0-1 scale\n",
    "- casual - The number of casual riders (people who hadn't previously signed up with the bike sharing program)\n",
    "- registered - The number of registered riders (people who had already signed up)\n",
    "- cnt - The total number of bike rentals (casual + registered)\n",
    "\n",
    "## Import Data, Libraries & EDA"
   ]
  },
  {
   "cell_type": "code",
   "execution_count": 29,
   "metadata": {
    "collapsed": true
   },
   "outputs": [],
   "source": [
    "# import libraries\n",
    "import pandas as pd\n",
    "import numpy as np\n",
    "import math\n",
    "import seaborn as sns\n",
    "import matplotlib.pyplot as plt\n",
    "%matplotlib inline\n",
    "from sklearn.metrics import mean_squared_error\n",
    "from sklearn.linear_model import LinearRegression\n",
    "from sklearn.tree import DecisionTreeRegressor\n",
    "from sklearn.ensemble import RandomForestRegressor"
   ]
  },
  {
   "cell_type": "code",
   "execution_count": 2,
   "metadata": {
    "collapsed": false
   },
   "outputs": [
    {
     "data": {
      "text/plain": "   instant      dteday  season  yr  mnth  hr  holiday  weekday  workingday  \\\n0        1  2011-01-01       1   0     1   0        0        6           0   \n1        2  2011-01-01       1   0     1   1        0        6           0   \n2        3  2011-01-01       1   0     1   2        0        6           0   \n3        4  2011-01-01       1   0     1   3        0        6           0   \n4        5  2011-01-01       1   0     1   4        0        6           0   \n\n   weathersit  temp   atemp   hum  windspeed  casual  registered  cnt  \n0           1  0.24  0.2879  0.81        0.0       3          13   16  \n1           1  0.22  0.2727  0.80        0.0       8          32   40  \n2           1  0.22  0.2727  0.80        0.0       5          27   32  \n3           1  0.24  0.2879  0.75        0.0       3          10   13  \n4           1  0.24  0.2879  0.75        0.0       0           1    1  ",
      "text/html": "<div>\n<style scoped>\n    .dataframe tbody tr th:only-of-type {\n        vertical-align: middle;\n    }\n\n    .dataframe tbody tr th {\n        vertical-align: top;\n    }\n\n    .dataframe thead th {\n        text-align: right;\n    }\n</style>\n<table border=\"1\" class=\"dataframe\">\n  <thead>\n    <tr style=\"text-align: right;\">\n      <th></th>\n      <th>instant</th>\n      <th>dteday</th>\n      <th>season</th>\n      <th>yr</th>\n      <th>mnth</th>\n      <th>hr</th>\n      <th>holiday</th>\n      <th>weekday</th>\n      <th>workingday</th>\n      <th>weathersit</th>\n      <th>temp</th>\n      <th>atemp</th>\n      <th>hum</th>\n      <th>windspeed</th>\n      <th>casual</th>\n      <th>registered</th>\n      <th>cnt</th>\n    </tr>\n  </thead>\n  <tbody>\n    <tr>\n      <th>0</th>\n      <td>1</td>\n      <td>2011-01-01</td>\n      <td>1</td>\n      <td>0</td>\n      <td>1</td>\n      <td>0</td>\n      <td>0</td>\n      <td>6</td>\n      <td>0</td>\n      <td>1</td>\n      <td>0.24</td>\n      <td>0.2879</td>\n      <td>0.81</td>\n      <td>0.0</td>\n      <td>3</td>\n      <td>13</td>\n      <td>16</td>\n    </tr>\n    <tr>\n      <th>1</th>\n      <td>2</td>\n      <td>2011-01-01</td>\n      <td>1</td>\n      <td>0</td>\n      <td>1</td>\n      <td>1</td>\n      <td>0</td>\n      <td>6</td>\n      <td>0</td>\n      <td>1</td>\n      <td>0.22</td>\n      <td>0.2727</td>\n      <td>0.80</td>\n      <td>0.0</td>\n      <td>8</td>\n      <td>32</td>\n      <td>40</td>\n    </tr>\n    <tr>\n      <th>2</th>\n      <td>3</td>\n      <td>2011-01-01</td>\n      <td>1</td>\n      <td>0</td>\n      <td>1</td>\n      <td>2</td>\n      <td>0</td>\n      <td>6</td>\n      <td>0</td>\n      <td>1</td>\n      <td>0.22</td>\n      <td>0.2727</td>\n      <td>0.80</td>\n      <td>0.0</td>\n      <td>5</td>\n      <td>27</td>\n      <td>32</td>\n    </tr>\n    <tr>\n      <th>3</th>\n      <td>4</td>\n      <td>2011-01-01</td>\n      <td>1</td>\n      <td>0</td>\n      <td>1</td>\n      <td>3</td>\n      <td>0</td>\n      <td>6</td>\n      <td>0</td>\n      <td>1</td>\n      <td>0.24</td>\n      <td>0.2879</td>\n      <td>0.75</td>\n      <td>0.0</td>\n      <td>3</td>\n      <td>10</td>\n      <td>13</td>\n    </tr>\n    <tr>\n      <th>4</th>\n      <td>5</td>\n      <td>2011-01-01</td>\n      <td>1</td>\n      <td>0</td>\n      <td>1</td>\n      <td>4</td>\n      <td>0</td>\n      <td>6</td>\n      <td>0</td>\n      <td>1</td>\n      <td>0.24</td>\n      <td>0.2879</td>\n      <td>0.75</td>\n      <td>0.0</td>\n      <td>0</td>\n      <td>1</td>\n      <td>1</td>\n    </tr>\n  </tbody>\n</table>\n</div>"
     },
     "execution_count": 2,
     "metadata": {},
     "output_type": "execute_result"
    }
   ],
   "source": [
    "# import data\n",
    "bike_rentals = pd.read_csv('bike_rental_hour.csv')\n",
    "bike_rentals.head()"
   ]
  },
  {
   "cell_type": "code",
   "execution_count": 3,
   "metadata": {
    "collapsed": false
   },
   "outputs": [
    {
     "data": {
      "text/plain": "          instant        season            yr          mnth            hr  \\\ncount  17379.0000  17379.000000  17379.000000  17379.000000  17379.000000   \nmean    8690.0000      2.501640      0.502561      6.537775     11.546752   \nstd     5017.0295      1.106918      0.500008      3.438776      6.914405   \nmin        1.0000      1.000000      0.000000      1.000000      0.000000   \n25%     4345.5000      2.000000      0.000000      4.000000      6.000000   \n50%     8690.0000      3.000000      1.000000      7.000000     12.000000   \n75%    13034.5000      3.000000      1.000000     10.000000     18.000000   \nmax    17379.0000      4.000000      1.000000     12.000000     23.000000   \n\n            holiday       weekday    workingday    weathersit          temp  \\\ncount  17379.000000  17379.000000  17379.000000  17379.000000  17379.000000   \nmean       0.028770      3.003683      0.682721      1.425283      0.496987   \nstd        0.167165      2.005771      0.465431      0.639357      0.192556   \nmin        0.000000      0.000000      0.000000      1.000000      0.020000   \n25%        0.000000      1.000000      0.000000      1.000000      0.340000   \n50%        0.000000      3.000000      1.000000      1.000000      0.500000   \n75%        0.000000      5.000000      1.000000      2.000000      0.660000   \nmax        1.000000      6.000000      1.000000      4.000000      1.000000   \n\n              atemp           hum     windspeed        casual    registered  \\\ncount  17379.000000  17379.000000  17379.000000  17379.000000  17379.000000   \nmean       0.475775      0.627229      0.190098     35.676218    153.786869   \nstd        0.171850      0.192930      0.122340     49.305030    151.357286   \nmin        0.000000      0.000000      0.000000      0.000000      0.000000   \n25%        0.333300      0.480000      0.104500      4.000000     34.000000   \n50%        0.484800      0.630000      0.194000     17.000000    115.000000   \n75%        0.621200      0.780000      0.253700     48.000000    220.000000   \nmax        1.000000      1.000000      0.850700    367.000000    886.000000   \n\n                cnt  \ncount  17379.000000  \nmean     189.463088  \nstd      181.387599  \nmin        1.000000  \n25%       40.000000  \n50%      142.000000  \n75%      281.000000  \nmax      977.000000  ",
      "text/html": "<div>\n<style scoped>\n    .dataframe tbody tr th:only-of-type {\n        vertical-align: middle;\n    }\n\n    .dataframe tbody tr th {\n        vertical-align: top;\n    }\n\n    .dataframe thead th {\n        text-align: right;\n    }\n</style>\n<table border=\"1\" class=\"dataframe\">\n  <thead>\n    <tr style=\"text-align: right;\">\n      <th></th>\n      <th>instant</th>\n      <th>season</th>\n      <th>yr</th>\n      <th>mnth</th>\n      <th>hr</th>\n      <th>holiday</th>\n      <th>weekday</th>\n      <th>workingday</th>\n      <th>weathersit</th>\n      <th>temp</th>\n      <th>atemp</th>\n      <th>hum</th>\n      <th>windspeed</th>\n      <th>casual</th>\n      <th>registered</th>\n      <th>cnt</th>\n    </tr>\n  </thead>\n  <tbody>\n    <tr>\n      <th>count</th>\n      <td>17379.0000</td>\n      <td>17379.000000</td>\n      <td>17379.000000</td>\n      <td>17379.000000</td>\n      <td>17379.000000</td>\n      <td>17379.000000</td>\n      <td>17379.000000</td>\n      <td>17379.000000</td>\n      <td>17379.000000</td>\n      <td>17379.000000</td>\n      <td>17379.000000</td>\n      <td>17379.000000</td>\n      <td>17379.000000</td>\n      <td>17379.000000</td>\n      <td>17379.000000</td>\n      <td>17379.000000</td>\n    </tr>\n    <tr>\n      <th>mean</th>\n      <td>8690.0000</td>\n      <td>2.501640</td>\n      <td>0.502561</td>\n      <td>6.537775</td>\n      <td>11.546752</td>\n      <td>0.028770</td>\n      <td>3.003683</td>\n      <td>0.682721</td>\n      <td>1.425283</td>\n      <td>0.496987</td>\n      <td>0.475775</td>\n      <td>0.627229</td>\n      <td>0.190098</td>\n      <td>35.676218</td>\n      <td>153.786869</td>\n      <td>189.463088</td>\n    </tr>\n    <tr>\n      <th>std</th>\n      <td>5017.0295</td>\n      <td>1.106918</td>\n      <td>0.500008</td>\n      <td>3.438776</td>\n      <td>6.914405</td>\n      <td>0.167165</td>\n      <td>2.005771</td>\n      <td>0.465431</td>\n      <td>0.639357</td>\n      <td>0.192556</td>\n      <td>0.171850</td>\n      <td>0.192930</td>\n      <td>0.122340</td>\n      <td>49.305030</td>\n      <td>151.357286</td>\n      <td>181.387599</td>\n    </tr>\n    <tr>\n      <th>min</th>\n      <td>1.0000</td>\n      <td>1.000000</td>\n      <td>0.000000</td>\n      <td>1.000000</td>\n      <td>0.000000</td>\n      <td>0.000000</td>\n      <td>0.000000</td>\n      <td>0.000000</td>\n      <td>1.000000</td>\n      <td>0.020000</td>\n      <td>0.000000</td>\n      <td>0.000000</td>\n      <td>0.000000</td>\n      <td>0.000000</td>\n      <td>0.000000</td>\n      <td>1.000000</td>\n    </tr>\n    <tr>\n      <th>25%</th>\n      <td>4345.5000</td>\n      <td>2.000000</td>\n      <td>0.000000</td>\n      <td>4.000000</td>\n      <td>6.000000</td>\n      <td>0.000000</td>\n      <td>1.000000</td>\n      <td>0.000000</td>\n      <td>1.000000</td>\n      <td>0.340000</td>\n      <td>0.333300</td>\n      <td>0.480000</td>\n      <td>0.104500</td>\n      <td>4.000000</td>\n      <td>34.000000</td>\n      <td>40.000000</td>\n    </tr>\n    <tr>\n      <th>50%</th>\n      <td>8690.0000</td>\n      <td>3.000000</td>\n      <td>1.000000</td>\n      <td>7.000000</td>\n      <td>12.000000</td>\n      <td>0.000000</td>\n      <td>3.000000</td>\n      <td>1.000000</td>\n      <td>1.000000</td>\n      <td>0.500000</td>\n      <td>0.484800</td>\n      <td>0.630000</td>\n      <td>0.194000</td>\n      <td>17.000000</td>\n      <td>115.000000</td>\n      <td>142.000000</td>\n    </tr>\n    <tr>\n      <th>75%</th>\n      <td>13034.5000</td>\n      <td>3.000000</td>\n      <td>1.000000</td>\n      <td>10.000000</td>\n      <td>18.000000</td>\n      <td>0.000000</td>\n      <td>5.000000</td>\n      <td>1.000000</td>\n      <td>2.000000</td>\n      <td>0.660000</td>\n      <td>0.621200</td>\n      <td>0.780000</td>\n      <td>0.253700</td>\n      <td>48.000000</td>\n      <td>220.000000</td>\n      <td>281.000000</td>\n    </tr>\n    <tr>\n      <th>max</th>\n      <td>17379.0000</td>\n      <td>4.000000</td>\n      <td>1.000000</td>\n      <td>12.000000</td>\n      <td>23.000000</td>\n      <td>1.000000</td>\n      <td>6.000000</td>\n      <td>1.000000</td>\n      <td>4.000000</td>\n      <td>1.000000</td>\n      <td>1.000000</td>\n      <td>1.000000</td>\n      <td>0.850700</td>\n      <td>367.000000</td>\n      <td>886.000000</td>\n      <td>977.000000</td>\n    </tr>\n  </tbody>\n</table>\n</div>"
     },
     "execution_count": 3,
     "metadata": {},
     "output_type": "execute_result"
    }
   ],
   "source": [
    "bike_rentals.describe()"
   ]
  },
  {
   "cell_type": "code",
   "execution_count": 4,
   "metadata": {
    "collapsed": false
   },
   "outputs": [
    {
     "name": "stdout",
     "output_type": "stream",
     "text": [
      "<class 'pandas.core.frame.DataFrame'>\n",
      "RangeIndex: 17379 entries, 0 to 17378\n",
      "Data columns (total 17 columns):\n",
      " #   Column      Non-Null Count  Dtype  \n",
      "---  ------      --------------  -----  \n",
      " 0   instant     17379 non-null  int64  \n",
      " 1   dteday      17379 non-null  object \n",
      " 2   season      17379 non-null  int64  \n",
      " 3   yr          17379 non-null  int64  \n",
      " 4   mnth        17379 non-null  int64  \n",
      " 5   hr          17379 non-null  int64  \n",
      " 6   holiday     17379 non-null  int64  \n",
      " 7   weekday     17379 non-null  int64  \n",
      " 8   workingday  17379 non-null  int64  \n",
      " 9   weathersit  17379 non-null  int64  \n",
      " 10  temp        17379 non-null  float64\n",
      " 11  atemp       17379 non-null  float64\n",
      " 12  hum         17379 non-null  float64\n",
      " 13  windspeed   17379 non-null  float64\n",
      " 14  casual      17379 non-null  int64  \n",
      " 15  registered  17379 non-null  int64  \n",
      " 16  cnt         17379 non-null  int64  \n",
      "dtypes: float64(4), int64(12), object(1)\n",
      "memory usage: 2.3+ MB\n"
     ]
    }
   ],
   "source": [
    "bike_rentals.info()"
   ]
  },
  {
   "cell_type": "markdown",
   "metadata": {},
   "source": [
    "This looks pretty clean with no missing values. Now we are going to look into distributions and unique values."
   ]
  },
  {
   "cell_type": "code",
   "execution_count": 6,
   "metadata": {
    "collapsed": false
   },
   "outputs": [
    {
     "data": {
      "text/plain": "<Figure size 432x288 with 1 Axes>",
      "image/png": "[encoded data removed]"
     },
     "metadata": {
      "needs_background": "light"
     },
     "output_type": "display_data"
    }
   ],
   "source": [
    "# distributions\n",
    "plt.hist(bike_rentals['cnt'])\n",
    "plt.show()"
   ]
  },
  {
   "cell_type": "code",
   "execution_count": 22,
   "metadata": {
    "collapsed": false
   },
   "outputs": [
    {
     "data": {
      "image/png": "[encoded data removed]",
      "text/plain": [
       "<matplotlib.figure.Figure at 0x7f4eaed6cb38>"
      ]
     },
     "metadata": {},
     "output_type": "display_data"
    },
    {
     "data": {
      "image/png": "[encoded data removed]",
      "text/plain": [
       "<matplotlib.figure.Figure at 0x7f4eaeb668d0>"
      ]
     },
     "metadata": {},
     "output_type": "display_data"
    },
    {
     "data": {
      "image/png": "[encoded data removed]",
      "text/plain": [
       "<matplotlib.figure.Figure at 0x7f4eaea46198>"
      ]
     },
     "metadata": {},
     "output_type": "display_data"
    },
    {
     "data": {
      "image/png": "[encoded data removed]",
      "text/plain": [
       "<matplotlib.figure.Figure at 0x7f4eaebd5e10>"
      ]
     },
     "metadata": {},
     "output_type": "display_data"
    },
    {
     "data": {
      "image/png": "[encoded data removed]",
      "text/plain": [
       "<matplotlib.figure.Figure at 0x7f4eaea46358>"
      ]
     },
     "metadata": {},
     "output_type": "display_data"
    },
    {
     "data": {
      "image/png": "[encoded data removed]",
      "text/plain": [
       "<matplotlib.figure.Figure at 0x7f4eaebbaa20>"
      ]
     },
     "metadata": {},
     "output_type": "display_data"
    },
    {
     "data": {
      "image/png": "[encoded data removed]",
      "text/plain": [
       "<matplotlib.figure.Figure at 0x7f4eae7e1748>"
      ]
     },
     "metadata": {},
     "output_type": "display_data"
    },
    {
     "data": {
      "image/png": "[encoded data removed]",
      "text/plain": [
       "<matplotlib.figure.Figure at 0x7f4eaea6b2b0>"
      ]
     },
     "metadata": {},
     "output_type": "display_data"
    },
    {
     "data": {
      "image/png": "[encoded data removed]",
      "text/plain": [
       "<matplotlib.figure.Figure at 0x7f4eaebb02b0>"
      ]
     },
     "metadata": {},
     "output_type": "display_data"
    },
    {
     "data": {
      "image/png": "[encoded data removed]",
      "text/plain": [
       "<matplotlib.figure.Figure at 0x7f4eaed06518>"
      ]
     },
     "metadata": {},
     "output_type": "display_data"
    },
    {
     "data": {
      "image/png": "[encoded data removed]",
      "text/plain": [
       "<matplotlib.figure.Figure at 0x7f4eaea40908>"
      ]
     },
     "metadata": {},
     "output_type": "display_data"
    },
    {
     "data": {
      "image/png": "[encoded data removed]",
      "text/plain": [
       "<matplotlib.figure.Figure at 0x7f4eaedb5b70>"
      ]
     },
     "metadata": {},
     "output_type": "display_data"
    },
    {
     "data": {
      "image/png": "[encoded data removed]",
      "text/plain": [
       "<matplotlib.figure.Figure at 0x7f4eaed4de48>"
      ]
     },
     "metadata": {},
     "output_type": "display_data"
    },
    {
     "data": {
      "image/png": "[encoded data removed]",
      "text/plain": [
       "<matplotlib.figure.Figure at 0x7f4eaeb9bb70>"
      ]
     },
     "metadata": {},
     "output_type": "display_data"
    },
    {
     "data": {
      "image/png": "[encoded data removed]",
      "text/plain": [
       "<matplotlib.figure.Figure at 0x7f4eaeb459e8>"
      ]
     },
     "metadata": {},
     "output_type": "display_data"
    }
   ],
   "source": [
    "# distributions\n",
    "numeric = bike_rentals.select_dtypes(include=['int','float'])\n",
    "numeric_cols = numeric.columns\n",
    "for c in numeric_cols[1:]:\n",
    "    plt.hist(bike_rentals[c])\n",
    "    plt.show()"
   ]
  },
  {
   "cell_type": "code",
   "execution_count": 8,
   "outputs": [],
   "source": [
    "# distributions\n",
    "# numeric = bike_rentals.select_dtypes(include=['int','float'])\n",
    "# numeric_cols = numeric.columns\n",
    "# for c in numeric_cols[1:]:\n",
    "#     sns.displot(x=bike_rentals[c])\n",
    "#     plt.show()"
   ],
   "metadata": {
    "collapsed": false,
    "pycharm": {
     "name": "#%%\n"
    }
   }
  },
  {
   "cell_type": "code",
   "execution_count": 9,
   "metadata": {
    "collapsed": false
   },
   "outputs": [
    {
     "name": "stdout",
     "output_type": "stream",
     "text": [
      "Correlations with cnt:\n",
      "registered    0.97\n",
      "casual        0.69\n",
      "temp          0.40\n",
      "atemp         0.40\n",
      "hr            0.39\n",
      "instant       0.28\n",
      "yr            0.25\n",
      "season        0.18\n",
      "mnth          0.12\n",
      "windspeed     0.09\n",
      "workingday    0.03\n",
      "weekday       0.03\n",
      "holiday      -0.03\n",
      "weathersit   -0.14\n",
      "hum          -0.32\n",
      "Name: cnt, dtype: float64\n",
      "Abs Correlations with cnt (sorted)\n",
      "registered    0.97\n",
      "casual        0.69\n",
      "temp          0.40\n",
      "atemp         0.40\n",
      "hr            0.39\n",
      "hum           0.32\n",
      "instant       0.28\n",
      "yr            0.25\n",
      "season        0.18\n",
      "weathersit    0.14\n",
      "mnth          0.12\n",
      "windspeed     0.09\n",
      "holiday       0.03\n",
      "workingday    0.03\n",
      "weekday       0.03\n",
      "Name: cnt, dtype: float64\n"
     ]
    }
   ],
   "source": [
    "# correlations\n",
    "print('Correlations with cnt:')\n",
    "print(bike_rentals.corr()['cnt'].sort_values(ascending=False).drop('cnt').round(2))\n",
    "print('Abs Correlations with cnt (sorted)')\n",
    "print(bike_rentals.corr().abs()['cnt'].sort_values(ascending=False).drop('cnt').round(2))"
   ]
  },
  {
   "cell_type": "markdown",
   "metadata": {},
   "source": [
    "## Data Cleaning & Feature Engineering"
   ]
  },
  {
   "cell_type": "code",
   "execution_count": 10,
   "metadata": {
    "collapsed": true
   },
   "outputs": [],
   "source": [
    "# create a function to label the hour of the day in different 4 6-hour wide bins\n",
    "def assign_label(hr):\n",
    "    if hr >= 0 and hr < 6:\n",
    "        return 4\n",
    "    elif hr >= 6 and hr < 12:\n",
    "        return 1\n",
    "    elif hr >= 12 and hr < 18:\n",
    "        return 2\n",
    "    elif hr >= 18 and hr < 24:\n",
    "        return 3"
   ]
  },
  {
   "cell_type": "code",
   "execution_count": 11,
   "outputs": [
    {
     "data": {
      "text/plain": "<Figure size 432x288 with 1 Axes>",
      "image/png": "[encoded data removed]"
     },
     "metadata": {
      "needs_background": "light"
     },
     "output_type": "display_data"
    }
   ],
   "source": [
    "# apply above function to 'hr' column\n",
    "bike_rentals['time_label'] = bike_rentals['hr'].apply(assign_label)\n",
    "plt.hist(bike_rentals['time_label'])\n",
    "plt.show()"
   ],
   "metadata": {
    "collapsed": false,
    "pycharm": {
     "name": "#%%\n"
    }
   }
  },
  {
   "cell_type": "code",
   "execution_count": 13,
   "outputs": [],
   "source": [
    "# sns.displot(bike_rentals['time_label'])\n",
    "# plt.show()"
   ],
   "metadata": {
    "collapsed": false,
    "pycharm": {
     "name": "#%%\n"
    }
   }
  },
  {
   "cell_type": "markdown",
   "source": [
    "## Train & Test\n",
    "Now that we have the additional feature we can split the DataFrame into a train and test before applying our ML models.\n",
    "We are going to select a random 80% sample of the DataFrame as train and the rest as test\n",
    "### Error Metric\n",
    "We are going to use MSE and RMSE as our error metric."
   ],
   "metadata": {
    "collapsed": false,
    "pycharm": {
     "name": "#%% md\n"
    }
   }
  },
  {
   "cell_type": "code",
   "execution_count": 28,
   "outputs": [],
   "source": [
    "# train_cutoff = round(len(bike_rentals)*0.8)\n",
    "# print(train_cutoff)\n",
    "# print(len(bike_rentals))\n",
    "# print(bike_rentals.shape)\n",
    "# print(bike_rentals.shape[0])"
   ],
   "metadata": {
    "collapsed": false,
    "pycharm": {
     "name": "#%%\n"
    }
   }
  },
  {
   "cell_type": "code",
   "execution_count": 24,
   "outputs": [],
   "source": [
    "# get train as random sample\n",
    "train = bike_rentals.sample(frac=0.8).copy()"
   ],
   "metadata": {
    "collapsed": false,
    "pycharm": {
     "name": "#%%\n"
    }
   }
  },
  {
   "cell_type": "code",
   "execution_count": 25,
   "outputs": [],
   "source": [
    "# get test as remaining rows compared to train\n",
    "test = bike_rentals.loc[~bike_rentals.index.isin(train.index)]"
   ],
   "metadata": {
    "collapsed": false,
    "pycharm": {
     "name": "#%%\n"
    }
   }
  },
  {
   "cell_type": "code",
   "execution_count": 27,
   "outputs": [],
   "source": [
    "# print(len(train))\n",
    "# print(len(test))\n",
    "# print(len(test) + len(train))\n",
    "# print(len(bike_rentals))"
   ],
   "metadata": {
    "collapsed": false,
    "pycharm": {
     "name": "#%%\n"
    }
   }
  },
  {
   "cell_type": "code",
   "execution_count": 20,
   "outputs": [
    {
     "name": "stdout",
     "output_type": "stream",
     "text": [
      "['instant', 'season', 'yr', 'mnth', 'hr', 'holiday', 'weekday', 'workingday', 'weathersit', 'temp', 'atemp', 'hum', 'windspeed', 'time_label']\n"
     ]
    }
   ],
   "source": [
    "features = list(bike_rentals.columns)\n",
    "# remove the target\n",
    "features.remove('cnt')\n",
    "target = 'cnt'\n",
    "# remove columns that tell if there is a rental\n",
    "features.remove('casual')\n",
    "features.remove('registered')\n",
    "features.remove('dteday')\n",
    "print(features)"
   ],
   "metadata": {
    "collapsed": false,
    "pycharm": {
     "name": "#%%\n"
    }
   }
  },
  {
   "cell_type": "markdown",
   "source": [
    "### Linear Model"
   ],
   "metadata": {
    "collapsed": false,
    "pycharm": {
     "name": "#%% md\n"
    }
   }
  },
  {
   "cell_type": "code",
   "execution_count": 30,
   "outputs": [
    {
     "name": "stdout",
     "output_type": "stream",
     "text": [
      "LR MSE: 18501.256542949515\n",
      "LR RMSE: 136.01932415267146\n"
     ]
    }
   ],
   "source": [
    "# initiate model\n",
    "lr = LinearRegression()\n",
    "# fit model\n",
    "lr.fit(train[features], train[target])\n",
    "# predict model\n",
    "lr_predictions = lr.predict(test[features])\n",
    "# calculate MSE and RMSE\n",
    "lr_mse = mean_squared_error(test[target], lr_predictions)\n",
    "lr_rmse = np.sqrt(lr_mse)\n",
    "print('LR MSE:', lr_mse)\n",
    "print('LR RMSE:', lr_rmse)"
   ],
   "metadata": {
    "collapsed": false,
    "pycharm": {
     "name": "#%%\n"
    }
   }
  },
  {
   "cell_type": "markdown",
   "source": [
    "### Decision Tree Model"
   ],
   "metadata": {
    "collapsed": false,
    "pycharm": {
     "name": "#%% md\n"
    }
   }
  },
  {
   "cell_type": "code",
   "execution_count": 31,
   "outputs": [
    {
     "name": "stdout",
     "output_type": "stream",
     "text": [
      "DT MSE: 3111.580727166289\n",
      "DT RMSE: 55.78154468250489\n"
     ]
    }
   ],
   "source": [
    "# initiate Decision Tree model\n",
    "# we are going to try different parameters in this section\n",
    "dt = DecisionTreeRegressor(min_samples_leaf=5, max_depth=10, min_samples_split=2)\n",
    "# fit model\n",
    "dt.fit(train[features], train[target])\n",
    "# make predictions\n",
    "dt_predictions = dt.predict(test[features])\n",
    "# calculate MSE and RMSE\n",
    "dt_mse = mean_squared_error(test[target], dt_predictions)\n",
    "dt_rmse = np.sqrt(dt_mse)\n",
    "print('DT MSE:', dt_mse)\n",
    "print('DT RMSE:', dt_rmse)"
   ],
   "metadata": {
    "collapsed": false,
    "pycharm": {
     "name": "#%%\n"
    }
   }
  },
  {
   "cell_type": "code",
   "execution_count": 38,
   "outputs": [
    {
     "name": "stdout",
     "output_type": "stream",
     "text": [
      "DT MSE: 3111.5716607499844\n",
      "DT RMSE: 55.78146341527788\n"
     ]
    }
   ],
   "source": [
    "# initiate Decision Tree model\n",
    "# we are going to try different parameters in this section\n",
    "dt = DecisionTreeRegressor(min_samples_leaf=5, max_depth=5, min_samples_split=2)\n",
    "# fit model\n",
    "dt.fit(train[features], train[target])\n",
    "# make predictions\n",
    "dt_predictions = dt.predict(test[features])\n",
    "# calculate MSE and RMSE\n",
    "dt_mse = mean_squared_error(test[target], dt_predictions)\n",
    "dt_rmse = np.sqrt(dt_mse)\n",
    "print('DT MSE:', dt_mse)\n",
    "print('DT RMSE:', dt_rmse)"
   ],
   "metadata": {
    "collapsed": false,
    "pycharm": {
     "name": "#%%\n"
    }
   }
  },
  {
   "cell_type": "markdown",
   "source": [
    "Looks like max_depth is the parameter driving most changes in the model accuracy, so we are going to loop through a list of values for this parameter and display how the accuracy changes."
   ],
   "metadata": {
    "collapsed": false,
    "pycharm": {
     "name": "#%% md\n"
    }
   }
  },
  {
   "cell_type": "code",
   "execution_count": 43,
   "outputs": [],
   "source": [
    "dt_max_depth_rmse_values = {}\n",
    "mse_dt_values = []\n",
    "rmse_dt_values = []\n",
    "for i in range(1,101):\n",
    "    dt = DecisionTreeRegressor(min_samples_leaf=5, max_depth=i)\n",
    "    dt.fit(train[features], train[target])\n",
    "    dt_predictions = dt.predict(test[features])\n",
    "    dt_mse = mean_squared_error(test[target], dt_predictions)\n",
    "    dt_rmse = np.sqrt(dt_mse)\n",
    "    mse_dt_values.append(dt_mse)\n",
    "    rmse_dt_values.append(dt_rmse)\n",
    "    dt_max_depth_rmse_values[i] = dt_rmse"
   ],
   "metadata": {
    "collapsed": false,
    "pycharm": {
     "name": "#%%\n"
    }
   }
  },
  {
   "cell_type": "code",
   "execution_count": 49,
   "outputs": [],
   "source": [
    "# plot the values in a scatter plot\n",
    "dt_rmse_values = pd.DataFrame.from_dict(dt_max_depth_rmse_values,orient='index', columns=['RMSE'])"
   ],
   "metadata": {
    "collapsed": false,
    "pycharm": {
     "name": "#%%\n"
    }
   }
  },
  {
   "cell_type": "code",
   "execution_count": 51,
   "outputs": [
    {
     "data": {
      "text/plain": "           RMSE\n1    155.459110\n2    140.352663\n3    129.009062\n4    119.408716\n5    110.804611\n..          ...\n96    50.817644\n97    50.728377\n98    50.696619\n99    50.676494\n100   50.793123\n\n[100 rows x 1 columns]",
      "text/html": "<div>\n<style scoped>\n    .dataframe tbody tr th:only-of-type {\n        vertical-align: middle;\n    }\n\n    .dataframe tbody tr th {\n        vertical-align: top;\n    }\n\n    .dataframe thead th {\n        text-align: right;\n    }\n</style>\n<table border=\"1\" class=\"dataframe\">\n  <thead>\n    <tr style=\"text-align: right;\">\n      <th></th>\n      <th>RMSE</th>\n    </tr>\n  </thead>\n  <tbody>\n    <tr>\n      <th>1</th>\n      <td>155.459110</td>\n    </tr>\n    <tr>\n      <th>2</th>\n      <td>140.352663</td>\n    </tr>\n    <tr>\n      <th>3</th>\n      <td>129.009062</td>\n    </tr>\n    <tr>\n      <th>4</th>\n      <td>119.408716</td>\n    </tr>\n    <tr>\n      <th>5</th>\n      <td>110.804611</td>\n    </tr>\n    <tr>\n      <th>...</th>\n      <td>...</td>\n    </tr>\n    <tr>\n      <th>96</th>\n      <td>50.817644</td>\n    </tr>\n    <tr>\n      <th>97</th>\n      <td>50.728377</td>\n    </tr>\n    <tr>\n      <th>98</th>\n      <td>50.696619</td>\n    </tr>\n    <tr>\n      <th>99</th>\n      <td>50.676494</td>\n    </tr>\n    <tr>\n      <th>100</th>\n      <td>50.793123</td>\n    </tr>\n  </tbody>\n</table>\n<p>100 rows × 1 columns</p>\n</div>"
     },
     "execution_count": 51,
     "metadata": {},
     "output_type": "execute_result"
    }
   ],
   "source": [
    "dt_rmse_values"
   ],
   "metadata": {
    "collapsed": false,
    "pycharm": {
     "name": "#%%\n"
    }
   }
  },
  {
   "cell_type": "code",
   "execution_count": 50,
   "outputs": [
    {
     "data": {
      "text/plain": "<Figure size 432x288 with 1 Axes>",
      "image/png": "[encoded data removed]"
     },
     "metadata": {
      "needs_background": "light"
     },
     "output_type": "display_data"
    }
   ],
   "source": [
    "plt.scatter(x=dt_rmse_values.index, y=dt_rmse_values['RMSE'])\n",
    "plt.show()"
   ],
   "metadata": {
    "collapsed": false,
    "pycharm": {
     "name": "#%%\n"
    }
   }
  },
  {
   "cell_type": "markdown",
   "source": [
    "The accuracy of the model plateus as ~50 RMSE after getting to 15 nodes."
   ],
   "metadata": {
    "collapsed": false,
    "pycharm": {
     "name": "#%% md\n"
    }
   }
  },
  {
   "cell_type": "markdown",
   "source": [
    "### Random Forest Model"
   ],
   "metadata": {
    "collapsed": false,
    "pycharm": {
     "name": "#%% md\n"
    }
   }
  },
  {
   "cell_type": "code",
   "execution_count": 62,
   "outputs": [
    {
     "name": "stdout",
     "output_type": "stream",
     "text": [
      "RF MSE: 1609.8519475834291\n",
      "RF RMSE: 40.1229603541841\n"
     ]
    }
   ],
   "source": [
    "# initiate random forest regressor\n",
    "rf = RandomForestRegressor()\n",
    "# fit model\n",
    "rf.fit(train[features], train[target])\n",
    "# predict with model\n",
    "rf_predictions = rf.predict(test[features])\n",
    "# calculate MSE and RMSE\n",
    "rf_mse = mean_squared_error(test[target], rf_predictions)\n",
    "rf_rmse = np.sqrt(rf_mse)\n",
    "print('RF MSE:', rf_mse)\n",
    "print('RF RMSE:', rf_rmse)"
   ],
   "metadata": {
    "collapsed": false,
    "pycharm": {
     "name": "#%%\n"
    }
   }
  },
  {
   "cell_type": "markdown",
   "source": [
    "A standard Random Forest model greatly increases the accuracy. Let's take a look at the estimators and other parameters and how we can tweak."
   ],
   "metadata": {
    "collapsed": false,
    "pycharm": {
     "name": "#%% md\n"
    }
   }
  },
  {
   "cell_type": "code",
   "execution_count": 73,
   "outputs": [],
   "source": [
    "rf_max_depth_rmse_values = {}\n",
    "for i in range(1,201,10):\n",
    "    rf = RandomForestRegressor(n_estimators=i,min_samples_leaf=5)\n",
    "    rf.fit(train[features], train[target])\n",
    "    rf_predictions = rf.predict(test[features])\n",
    "    rf_mse = mean_squared_error(test[target], rf_predictions)\n",
    "    rf_rmse = np.sqrt(rf_mse)\n",
    "    rf_max_depth_rmse_values[i] = rf_rmse"
   ],
   "metadata": {
    "collapsed": false,
    "pycharm": {
     "name": "#%%\n"
    }
   }
  },
  {
   "cell_type": "code",
   "execution_count": 74,
   "outputs": [],
   "source": [
    "# plot the values in a scatter plot\n",
    "rf_rmse_values = pd.DataFrame.from_dict(rf_max_depth_rmse_values,orient='index', columns=['RMSE'])"
   ],
   "metadata": {
    "collapsed": false,
    "pycharm": {
     "name": "#%%\n"
    }
   }
  },
  {
   "cell_type": "code",
   "execution_count": 75,
   "outputs": [
    {
     "data": {
      "text/plain": "          RMSE\n1    54.417378\n11   43.628549\n21   42.696165\n31   42.127852\n41   42.952014\n51   42.012128\n61   42.219153\n71   42.308537\n81   42.336621\n91   42.095177\n101  42.092242\n111  42.316908\n121  42.103540\n131  42.202345\n141  42.051395\n151  41.955800\n161  41.954822\n171  42.141286\n181  42.170992\n191  42.090937",
      "text/html": "<div>\n<style scoped>\n    .dataframe tbody tr th:only-of-type {\n        vertical-align: middle;\n    }\n\n    .dataframe tbody tr th {\n        vertical-align: top;\n    }\n\n    .dataframe thead th {\n        text-align: right;\n    }\n</style>\n<table border=\"1\" class=\"dataframe\">\n  <thead>\n    <tr style=\"text-align: right;\">\n      <th></th>\n      <th>RMSE</th>\n    </tr>\n  </thead>\n  <tbody>\n    <tr>\n      <th>1</th>\n      <td>54.417378</td>\n    </tr>\n    <tr>\n      <th>11</th>\n      <td>43.628549</td>\n    </tr>\n    <tr>\n      <th>21</th>\n      <td>42.696165</td>\n    </tr>\n    <tr>\n      <th>31</th>\n      <td>42.127852</td>\n    </tr>\n    <tr>\n      <th>41</th>\n      <td>42.952014</td>\n    </tr>\n    <tr>\n      <th>51</th>\n      <td>42.012128</td>\n    </tr>\n    <tr>\n      <th>61</th>\n      <td>42.219153</td>\n    </tr>\n    <tr>\n      <th>71</th>\n      <td>42.308537</td>\n    </tr>\n    <tr>\n      <th>81</th>\n      <td>42.336621</td>\n    </tr>\n    <tr>\n      <th>91</th>\n      <td>42.095177</td>\n    </tr>\n    <tr>\n      <th>101</th>\n      <td>42.092242</td>\n    </tr>\n    <tr>\n      <th>111</th>\n      <td>42.316908</td>\n    </tr>\n    <tr>\n      <th>121</th>\n      <td>42.103540</td>\n    </tr>\n    <tr>\n      <th>131</th>\n      <td>42.202345</td>\n    </tr>\n    <tr>\n      <th>141</th>\n      <td>42.051395</td>\n    </tr>\n    <tr>\n      <th>151</th>\n      <td>41.955800</td>\n    </tr>\n    <tr>\n      <th>161</th>\n      <td>41.954822</td>\n    </tr>\n    <tr>\n      <th>171</th>\n      <td>42.141286</td>\n    </tr>\n    <tr>\n      <th>181</th>\n      <td>42.170992</td>\n    </tr>\n    <tr>\n      <th>191</th>\n      <td>42.090937</td>\n    </tr>\n  </tbody>\n</table>\n</div>"
     },
     "execution_count": 75,
     "metadata": {},
     "output_type": "execute_result"
    }
   ],
   "source": [
    "rf_rmse_values"
   ],
   "metadata": {
    "collapsed": false,
    "pycharm": {
     "name": "#%%\n"
    }
   }
  },
  {
   "cell_type": "code",
   "execution_count": 76,
   "outputs": [
    {
     "data": {
      "text/plain": "<Figure size 432x288 with 1 Axes>",
      "image/png": "[encoded data removed]"
     },
     "metadata": {
      "needs_background": "light"
     },
     "output_type": "display_data"
    }
   ],
   "source": [
    "plt.scatter(x=rf_rmse_values.index, y=rf_rmse_values['RMSE'])\n",
    "plt.show()"
   ],
   "metadata": {
    "collapsed": false,
    "pycharm": {
     "name": "#%%\n"
    }
   }
  },
  {
   "cell_type": "markdown",
   "source": [
    "After reaching ~30 estimators the model accuracy stays constant around RMSE 40."
   ],
   "metadata": {
    "collapsed": false,
    "pycharm": {
     "name": "#%% md\n"
    }
   }
  },
  {
   "cell_type": "markdown",
   "source": [
    "### Check overfitting\n",
    "We are going to test the most efficient Decision Tree and Random Forest models for overfitting."
   ],
   "metadata": {
    "collapsed": false,
    "pycharm": {
     "name": "#%% md\n"
    }
   }
  },
  {
   "cell_type": "markdown",
   "source": [
    "**Decision Tree**"
   ],
   "metadata": {
    "collapsed": false,
    "pycharm": {
     "name": "#%% md\n"
    }
   }
  },
  {
   "cell_type": "code",
   "execution_count": 77,
   "outputs": [
    {
     "name": "stdout",
     "output_type": "stream",
     "text": [
      "33.89804694990605\n",
      "50.79312254901373\n"
     ]
    }
   ],
   "source": [
    "# check Decision Tree overfitting based on the parameters that give us the best results using less resources\n",
    "dt = DecisionTreeRegressor(min_samples_leaf=5, max_depth=15)\n",
    "dt.fit(train[features], train[target])\n",
    "dt_pred_train = dt.predict(train[features])\n",
    "dt_train_mse = mean_squared_error(train[target], dt_pred_train)\n",
    "dt_train_rmse = np.sqrt(dt_train_mse)\n",
    "print(dt_train_rmse)\n",
    "print(dt_rmse)"
   ],
   "metadata": {
    "collapsed": false,
    "pycharm": {
     "name": "#%%\n"
    }
   }
  },
  {
   "cell_type": "markdown",
   "source": [
    "**Random Forest**"
   ],
   "metadata": {
    "collapsed": false,
    "pycharm": {
     "name": "#%% md\n"
    }
   }
  },
  {
   "cell_type": "code",
   "execution_count": 78,
   "outputs": [
    {
     "name": "stdout",
     "output_type": "stream",
     "text": [
      "31.99062117312012\n",
      "42.090937477820255\n"
     ]
    }
   ],
   "source": [
    "# check Random Forest with 30 estimators\n",
    "rf = RandomForestRegressor(n_estimators=30, min_samples_leaf=5)\n",
    "rf.fit(train[features], train[target])\n",
    "rf_pred_train = rf.predict(train[features])\n",
    "rf_train_mse = mean_squared_error(train[target], rf_pred_train)\n",
    "rf_train_rmse = np.sqrt(rf_train_mse)\n",
    "print(rf_train_rmse)\n",
    "print(rf_rmse)"
   ],
   "metadata": {
    "collapsed": false,
    "pycharm": {
     "name": "#%%\n"
    }
   }
  },
  {
   "cell_type": "markdown",
   "source": [
    "Using a Random Forest reduces the level of overfitting compared to a DecisionTree."
   ],
   "metadata": {
    "collapsed": false,
    "pycharm": {
     "name": "#%% md\n"
    }
   }
  },
  {
   "cell_type": "markdown",
   "source": [
    "## Next Steps\n",
    "This project was pretty straightforward with very clean data, limited cleaning and feature engineering.\n",
    "For next steps we should:\n",
    "- Calculate additional features like a weather index combining temperature, humidity, wind speed - some ideas can be a [Heat Index](https://en.wikipedia.org/wiki/Heat_index)\n",
    "- Predict casual and interested rentals instead of total count 'cnt'"
   ],
   "metadata": {
    "collapsed": false
   }
  },
  {
   "cell_type": "code",
   "execution_count": null,
   "outputs": [],
   "source": [],
   "metadata": {
    "collapsed": false,
    "pycharm": {
     "name": "#%%\n"
    }
   }
  }
 ],
 "metadata": {
  "kernelspec": {
   "display_name": "Python 3",
   "language": "python",
   "name": "python3"
  },
  "language_info": {
   "codemirror_mode": {
    "name": "ipython",
    "version": 3
   },
   "file_extension": ".py",
   "mimetype": "text/x-python",
   "name": "python",
   "nbconvert_exporter": "python",
   "pygments_lexer": "ipython3",
   "version": "3.4.3"
  }
 },
 "nbformat": 4,
 "nbformat_minor": 0
}