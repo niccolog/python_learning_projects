{
 "cells": [
  {
   "cell_type": "markdown",
   "metadata": {
    "collapsed": true,
    "pycharm": {
     "name": "#%% md\n"
    }
   },
   "source": [
    "# Titanic Kaggle Project\n",
    "## Project Overview:\n",
    "You are provided with a train and test dataset to build an ML model to predict survival among Titanic Passengers.\n",
    "Columns in dataset:\n",
    "- PassengerID\n",
    "- Survived: 0 = No, 1 = Yes\n",
    "- Pclass: Ticket class, 1 = 1st, 2 = 2nd, 3 = 3rd\n",
    "- Name\n",
    "- Sex: male, female\n",
    "- Age: Age in years\n",
    "- Sib: # of siblings / spouses aboard the Titanic\n",
    "- parch: # of parents / children aboard the Titanic\n",
    "- Ticket: Ticket number\n",
    "- fare: Passenger fare\n",
    "- cabin: Cabin number\n",
    "- Embarked: Port of Embarkation, C = Cherbourg, Q = Queenstown, S = Southampton\n",
    "### Libraries & Data Import\n",
    "The below code cell is default from Kaggle"
   ]
  },
  {
   "cell_type": "code",
   "execution_count": 78,
   "outputs": [],
   "source": [
    "# This Python 3 environment comes with many helpful analytics libraries installed\n",
    "# It is defined by the kaggle/python Docker image: https://github.com/kaggle/docker-python\n",
    "# For example, here's several helpful packages to load\n",
    "\n",
    "import numpy as np # linear algebra\n",
    "import pandas as pd # data processing, CSV file I/O (e.g. pd.read_csv)\n",
    "\n",
    "# Input data files are available in the read-only \"../input/\" directory\n",
    "# For example, running this (by clicking run or pressing Shift+Enter) will list all files under the input directory\n",
    "\n",
    "import os\n",
    "for dirname, _, filenames in os.walk('/kaggle/input'):\n",
    "    for filename in filenames:\n",
    "        print(os.path.join(dirname, filename))\n",
    "\n",
    "# You can write up to 5GB to the current directory (/kaggle/working/) that gets preserved as output when you create a version using \"Save & Run All\"\n",
    "# You can also write temporary files to /kaggle/temp/, but they won't be saved outside of the current session"
   ],
   "metadata": {
    "collapsed": false,
    "pycharm": {
     "name": "#%%\n"
    }
   }
  },
  {
   "cell_type": "code",
   "execution_count": 79,
   "outputs": [],
   "source": [
    "### Other general libraries needed:\n",
    "import matplotlib.pyplot as plt\n",
    "%matplotlib inline\n",
    "import seaborn as sns\n",
    "import missingno"
   ],
   "metadata": {
    "collapsed": false,
    "pycharm": {
     "name": "#%%\n"
    }
   }
  },
  {
   "cell_type": "code",
   "execution_count": 80,
   "outputs": [],
   "source": [
    "#train_data = pd.read_csv(\"../input/titanic/train.csv\")\n",
    "# ignore above for offline work\n",
    "# code for offline work\n",
    "train_data = pd.read_csv('train.csv')\n",
    "#test_data = pd.read_csv(\"../input/titanic/test.csv\")\n",
    "test_data = pd.read_csv(\"test.csv\")"
   ],
   "metadata": {
    "collapsed": false,
    "pycharm": {
     "name": "#%%\n"
    }
   }
  },
  {
   "cell_type": "markdown",
   "source": [
    "## Projects Attack Plan:\n",
    "1. Understanding data:\n",
    "   - Distributions (histograms, box plots) for numeric column\n",
    "   - Value counts for non-numeric columns\n",
    "   - Missing data\n",
    "   - Correlations\n",
    "2. Data Trends: Who is more likely to survive from averages?\n",
    "   - by Class\n",
    "   - by Gender\n",
    "   - by Port\n",
    "   - by Title\n",
    "   - by Family Size\n",
    "   - by Fare\n",
    "   - by Cabin\n",
    "3. Data Cleaning:\n",
    "   - Filling data gaps\n",
    "   - Normalize columns\n",
    "   - Process relevant columns to numeric to be used in a model\n",
    "4. Modeling"
   ],
   "metadata": {
    "collapsed": false,
    "pycharm": {
     "name": "#%% md\n"
    }
   }
  },
  {
   "cell_type": "markdown",
   "source": [
    "## Exploratory Data Analysis\n",
    "### Understanding data"
   ],
   "metadata": {
    "collapsed": false,
    "pycharm": {
     "name": "#%% md\n"
    }
   }
  },
  {
   "cell_type": "code",
   "execution_count": 81,
   "outputs": [],
   "source": [
    "# combine data for feature engineering later\n",
    "train_data['train_test']=1\n",
    "test_data['train_test']=0\n",
    "test_data['Survived']= np.NaN\n",
    "all_data = pd.concat([train_data, test_data]).copy()"
   ],
   "metadata": {
    "collapsed": false,
    "pycharm": {
     "name": "#%%\n"
    }
   }
  },
  {
   "cell_type": "code",
   "execution_count": 82,
   "outputs": [
    {
     "data": {
      "text/plain": "Index(['PassengerId', 'Survived', 'Pclass', 'Name', 'Sex', 'Age', 'SibSp',\n       'Parch', 'Ticket', 'Fare', 'Cabin', 'Embarked', 'train_test'],\n      dtype='object')"
     },
     "execution_count": 82,
     "metadata": {},
     "output_type": "execute_result"
    }
   ],
   "source": [
    "#check it's fine\n",
    "all_data.columns"
   ],
   "metadata": {
    "collapsed": false,
    "pycharm": {
     "name": "#%%\n"
    }
   }
  },
  {
   "cell_type": "markdown",
   "source": [
    "### Train Data EDA"
   ],
   "metadata": {
    "collapsed": false,
    "pycharm": {
     "name": "#%% md\n"
    }
   }
  },
  {
   "cell_type": "code",
   "execution_count": 83,
   "outputs": [
    {
     "name": "stdout",
     "output_type": "stream",
     "text": [
      "<class 'pandas.core.frame.DataFrame'>\n",
      "RangeIndex: 891 entries, 0 to 890\n",
      "Data columns (total 13 columns):\n",
      " #   Column       Non-Null Count  Dtype  \n",
      "---  ------       --------------  -----  \n",
      " 0   PassengerId  891 non-null    int64  \n",
      " 1   Survived     891 non-null    int64  \n",
      " 2   Pclass       891 non-null    int64  \n",
      " 3   Name         891 non-null    object \n",
      " 4   Sex          891 non-null    object \n",
      " 5   Age          714 non-null    float64\n",
      " 6   SibSp        891 non-null    int64  \n",
      " 7   Parch        891 non-null    int64  \n",
      " 8   Ticket       891 non-null    object \n",
      " 9   Fare         891 non-null    float64\n",
      " 10  Cabin        204 non-null    object \n",
      " 11  Embarked     889 non-null    object \n",
      " 12  train_test   891 non-null    int64  \n",
      "dtypes: float64(2), int64(6), object(5)\n",
      "memory usage: 90.6+ KB\n"
     ]
    }
   ],
   "source": [
    "# quick look into data types and missing values\n",
    "train_data.info()"
   ],
   "metadata": {
    "collapsed": false,
    "pycharm": {
     "name": "#%%\n"
    }
   }
  },
  {
   "cell_type": "code",
   "execution_count": 84,
   "outputs": [
    {
     "data": {
      "text/plain": "<AxesSubplot:>"
     },
     "execution_count": 84,
     "metadata": {},
     "output_type": "execute_result"
    },
    {
     "data": {
      "text/plain": "<Figure size 1800x720 with 2 Axes>",
      "image/png": "[encoded data removed]"
     },
     "metadata": {
      "needs_background": "light"
     },
     "output_type": "display_data"
    }
   ],
   "source": [
    "missingno.matrix(train_data)"
   ],
   "metadata": {
    "collapsed": false,
    "pycharm": {
     "name": "#%%\n"
    }
   }
  },
  {
   "cell_type": "markdown",
   "source": [
    "1. Age, Cabin and Embarked seem to have missing values, Cabin has almost 700 missing values, Age ~180 and a couple for Embarked (which we could exclude). The missing matrix did not notable distributions.\n",
    "2. All other columns seem fine and don't need evaluation for data filling."
   ],
   "metadata": {
    "collapsed": false,
    "pycharm": {
     "name": "#%% md\n"
    }
   }
  },
  {
   "cell_type": "code",
   "execution_count": 85,
   "outputs": [
    {
     "data": {
      "text/plain": "       PassengerId    Survived      Pclass         Age       SibSp  \\\ncount   891.000000  891.000000  891.000000  714.000000  891.000000   \nmean    446.000000    0.383838    2.308642   29.699118    0.523008   \nstd     257.353842    0.486592    0.836071   14.526497    1.102743   \nmin       1.000000    0.000000    1.000000    0.420000    0.000000   \n25%     223.500000    0.000000    2.000000   20.125000    0.000000   \n50%     446.000000    0.000000    3.000000   28.000000    0.000000   \n75%     668.500000    1.000000    3.000000   38.000000    1.000000   \nmax     891.000000    1.000000    3.000000   80.000000    8.000000   \n\n            Parch        Fare  train_test  \ncount  891.000000  891.000000       891.0  \nmean     0.381594   32.204208         1.0  \nstd      0.806057   49.693429         0.0  \nmin      0.000000    0.000000         1.0  \n25%      0.000000    7.910400         1.0  \n50%      0.000000   14.454200         1.0  \n75%      0.000000   31.000000         1.0  \nmax      6.000000  512.329200         1.0  ",
      "text/html": "<div>\n<style scoped>\n    .dataframe tbody tr th:only-of-type {\n        vertical-align: middle;\n    }\n\n    .dataframe tbody tr th {\n        vertical-align: top;\n    }\n\n    .dataframe thead th {\n        text-align: right;\n    }\n</style>\n<table border=\"1\" class=\"dataframe\">\n  <thead>\n    <tr style=\"text-align: right;\">\n      <th></th>\n      <th>PassengerId</th>\n      <th>Survived</th>\n      <th>Pclass</th>\n      <th>Age</th>\n      <th>SibSp</th>\n      <th>Parch</th>\n      <th>Fare</th>\n      <th>train_test</th>\n    </tr>\n  </thead>\n  <tbody>\n    <tr>\n      <th>count</th>\n      <td>891.000000</td>\n      <td>891.000000</td>\n      <td>891.000000</td>\n      <td>714.000000</td>\n      <td>891.000000</td>\n      <td>891.000000</td>\n      <td>891.000000</td>\n      <td>891.0</td>\n    </tr>\n    <tr>\n      <th>mean</th>\n      <td>446.000000</td>\n      <td>0.383838</td>\n      <td>2.308642</td>\n      <td>29.699118</td>\n      <td>0.523008</td>\n      <td>0.381594</td>\n      <td>32.204208</td>\n      <td>1.0</td>\n    </tr>\n    <tr>\n      <th>std</th>\n      <td>257.353842</td>\n      <td>0.486592</td>\n      <td>0.836071</td>\n      <td>14.526497</td>\n      <td>1.102743</td>\n      <td>0.806057</td>\n      <td>49.693429</td>\n      <td>0.0</td>\n    </tr>\n    <tr>\n      <th>min</th>\n      <td>1.000000</td>\n      <td>0.000000</td>\n      <td>1.000000</td>\n      <td>0.420000</td>\n      <td>0.000000</td>\n      <td>0.000000</td>\n      <td>0.000000</td>\n      <td>1.0</td>\n    </tr>\n    <tr>\n      <th>25%</th>\n      <td>223.500000</td>\n      <td>0.000000</td>\n      <td>2.000000</td>\n      <td>20.125000</td>\n      <td>0.000000</td>\n      <td>0.000000</td>\n      <td>7.910400</td>\n      <td>1.0</td>\n    </tr>\n    <tr>\n      <th>50%</th>\n      <td>446.000000</td>\n      <td>0.000000</td>\n      <td>3.000000</td>\n      <td>28.000000</td>\n      <td>0.000000</td>\n      <td>0.000000</td>\n      <td>14.454200</td>\n      <td>1.0</td>\n    </tr>\n    <tr>\n      <th>75%</th>\n      <td>668.500000</td>\n      <td>1.000000</td>\n      <td>3.000000</td>\n      <td>38.000000</td>\n      <td>1.000000</td>\n      <td>0.000000</td>\n      <td>31.000000</td>\n      <td>1.0</td>\n    </tr>\n    <tr>\n      <th>max</th>\n      <td>891.000000</td>\n      <td>1.000000</td>\n      <td>3.000000</td>\n      <td>80.000000</td>\n      <td>8.000000</td>\n      <td>6.000000</td>\n      <td>512.329200</td>\n      <td>1.0</td>\n    </tr>\n  </tbody>\n</table>\n</div>"
     },
     "execution_count": 85,
     "metadata": {},
     "output_type": "execute_result"
    }
   ],
   "source": [
    "# quick look at numeric data\n",
    "train_data.describe()"
   ],
   "metadata": {
    "collapsed": false,
    "pycharm": {
     "name": "#%%\n"
    }
   }
  },
  {
   "cell_type": "code",
   "execution_count": 86,
   "outputs": [
    {
     "data": {
      "text/plain": "Index(['PassengerId', 'Survived', 'Pclass', 'Age', 'SibSp', 'Parch', 'Fare',\n       'train_test'],\n      dtype='object')"
     },
     "execution_count": 86,
     "metadata": {},
     "output_type": "execute_result"
    }
   ],
   "source": [
    "# split train dataset in numeric and non-numeric columns\n",
    "train_data.describe().columns"
   ],
   "metadata": {
    "collapsed": false,
    "pycharm": {
     "name": "#%%\n"
    }
   }
  },
  {
   "cell_type": "code",
   "execution_count": 87,
   "outputs": [
    {
     "data": {
      "text/plain": "   PassengerId  Survived  Pclass  \\\n0            1         0       3   \n1            2         1       1   \n2            3         1       3   \n3            4         1       1   \n4            5         0       3   \n\n                                                Name     Sex   Age  SibSp  \\\n0                            Braund, Mr. Owen Harris    male  22.0      1   \n1  Cumings, Mrs. John Bradley (Florence Briggs Th...  female  38.0      1   \n2                             Heikkinen, Miss. Laina  female  26.0      0   \n3       Futrelle, Mrs. Jacques Heath (Lily May Peel)  female  35.0      1   \n4                           Allen, Mr. William Henry    male  35.0      0   \n\n   Parch            Ticket     Fare Cabin Embarked  train_test  \n0      0         A/5 21171   7.2500   NaN        S           1  \n1      0          PC 17599  71.2833   C85        C           1  \n2      0  STON/O2. 3101282   7.9250   NaN        S           1  \n3      0            113803  53.1000  C123        S           1  \n4      0            373450   8.0500   NaN        S           1  ",
      "text/html": "<div>\n<style scoped>\n    .dataframe tbody tr th:only-of-type {\n        vertical-align: middle;\n    }\n\n    .dataframe tbody tr th {\n        vertical-align: top;\n    }\n\n    .dataframe thead th {\n        text-align: right;\n    }\n</style>\n<table border=\"1\" class=\"dataframe\">\n  <thead>\n    <tr style=\"text-align: right;\">\n      <th></th>\n      <th>PassengerId</th>\n      <th>Survived</th>\n      <th>Pclass</th>\n      <th>Name</th>\n      <th>Sex</th>\n      <th>Age</th>\n      <th>SibSp</th>\n      <th>Parch</th>\n      <th>Ticket</th>\n      <th>Fare</th>\n      <th>Cabin</th>\n      <th>Embarked</th>\n      <th>train_test</th>\n    </tr>\n  </thead>\n  <tbody>\n    <tr>\n      <th>0</th>\n      <td>1</td>\n      <td>0</td>\n      <td>3</td>\n      <td>Braund, Mr. Owen Harris</td>\n      <td>male</td>\n      <td>22.0</td>\n      <td>1</td>\n      <td>0</td>\n      <td>A/5 21171</td>\n      <td>7.2500</td>\n      <td>NaN</td>\n      <td>S</td>\n      <td>1</td>\n    </tr>\n    <tr>\n      <th>1</th>\n      <td>2</td>\n      <td>1</td>\n      <td>1</td>\n      <td>Cumings, Mrs. John Bradley (Florence Briggs Th...</td>\n      <td>female</td>\n      <td>38.0</td>\n      <td>1</td>\n      <td>0</td>\n      <td>PC 17599</td>\n      <td>71.2833</td>\n      <td>C85</td>\n      <td>C</td>\n      <td>1</td>\n    </tr>\n    <tr>\n      <th>2</th>\n      <td>3</td>\n      <td>1</td>\n      <td>3</td>\n      <td>Heikkinen, Miss. Laina</td>\n      <td>female</td>\n      <td>26.0</td>\n      <td>0</td>\n      <td>0</td>\n      <td>STON/O2. 3101282</td>\n      <td>7.9250</td>\n      <td>NaN</td>\n      <td>S</td>\n      <td>1</td>\n    </tr>\n    <tr>\n      <th>3</th>\n      <td>4</td>\n      <td>1</td>\n      <td>1</td>\n      <td>Futrelle, Mrs. Jacques Heath (Lily May Peel)</td>\n      <td>female</td>\n      <td>35.0</td>\n      <td>1</td>\n      <td>0</td>\n      <td>113803</td>\n      <td>53.1000</td>\n      <td>C123</td>\n      <td>S</td>\n      <td>1</td>\n    </tr>\n    <tr>\n      <th>4</th>\n      <td>5</td>\n      <td>0</td>\n      <td>3</td>\n      <td>Allen, Mr. William Henry</td>\n      <td>male</td>\n      <td>35.0</td>\n      <td>0</td>\n      <td>0</td>\n      <td>373450</td>\n      <td>8.0500</td>\n      <td>NaN</td>\n      <td>S</td>\n      <td>1</td>\n    </tr>\n  </tbody>\n</table>\n</div>"
     },
     "execution_count": 87,
     "metadata": {},
     "output_type": "execute_result"
    }
   ],
   "source": [
    "train_data.head()"
   ],
   "metadata": {
    "collapsed": false,
    "pycharm": {
     "name": "#%%\n"
    }
   }
  },
  {
   "cell_type": "code",
   "execution_count": 88,
   "outputs": [],
   "source": [
    "# split between numeric and non-numeric\n",
    "train_data_num = train_data[['Age','SibSp','Parch','Fare']].copy()\n",
    "train_data_cat = train_data[['Survived','Pclass','Name','Sex','Ticket','Cabin','Embarked']].copy()"
   ],
   "metadata": {
    "collapsed": false,
    "pycharm": {
     "name": "#%%\n"
    }
   }
  },
  {
   "cell_type": "code",
   "execution_count": 89,
   "outputs": [
    {
     "data": {
      "text/plain": "<Figure size 432x288 with 1 Axes>",
      "image/png": "[encoded data removed]"
     },
     "metadata": {
      "needs_background": "light"
     },
     "output_type": "display_data"
    },
    {
     "data": {
      "text/plain": "<Figure size 432x288 with 1 Axes>",
      "image/png": "[encoded data removed]"
     },
     "metadata": {
      "needs_background": "light"
     },
     "output_type": "display_data"
    },
    {
     "data": {
      "text/plain": "<Figure size 432x288 with 1 Axes>",
      "image/png": "[encoded data removed]"
     },
     "metadata": {
      "needs_background": "light"
     },
     "output_type": "display_data"
    },
    {
     "data": {
      "text/plain": "<Figure size 432x288 with 1 Axes>",
      "image/png": "[encoded data removed]"
     },
     "metadata": {
      "needs_background": "light"
     },
     "output_type": "display_data"
    }
   ],
   "source": [
    "#histogram distributions for all numeric columns\n",
    "for i in train_data_num.columns:\n",
    "    plt.hist(train_data_num[i])\n",
    "    plt.title(i)\n",
    "    plt.show()"
   ],
   "metadata": {
    "collapsed": false,
    "pycharm": {
     "name": "#%%\n"
    }
   }
  },
  {
   "cell_type": "markdown",
   "source": [
    "None of the distributions looks normal. Should we consider normalizing any of these columns or classifying them into bands?\n",
    "Normalize candidates:\n",
    "    - Fare (spike at low fare)\n",
    "    - SibSp ?\n",
    "    - Parch ?\n",
    "Group into bands:\n",
    "    - Age\n",
    "    - Parch ?\n",
    "    - SibSp ?"
   ],
   "metadata": {
    "collapsed": false,
    "pycharm": {
     "name": "#%% md\n"
    }
   }
  },
  {
   "cell_type": "code",
   "execution_count": 90,
   "outputs": [
    {
     "data": {
      "text/plain": "<AxesSubplot:>"
     },
     "execution_count": 90,
     "metadata": {},
     "output_type": "execute_result"
    },
    {
     "data": {
      "text/plain": "<Figure size 432x288 with 2 Axes>",
      "image/png": "[encoded data removed]"
     },
     "metadata": {
      "needs_background": "light"
     },
     "output_type": "display_data"
    }
   ],
   "source": [
    "train_data_corr = train_data.corr()\n",
    "sns.heatmap(train_data_corr, annot=True)"
   ],
   "metadata": {
    "collapsed": false,
    "pycharm": {
     "name": "#%%\n"
    }
   }
  },
  {
   "cell_type": "markdown",
   "source": [
    "Notable correlations to Survived:\n",
    "    - Pclass (negative means First Class gives you higher chances)\n",
    "    - Fare is weakly positively correlated\n",
    "    - Age is not particularly correlated"
   ],
   "metadata": {
    "collapsed": false,
    "pycharm": {
     "name": "#%% md\n"
    }
   }
  },
  {
   "cell_type": "code",
   "execution_count": 91,
   "outputs": [
    {
     "data": {
      "text/plain": "                Age       Fare     Parch     SibSp\nSurvived                                          \n0         30.626179  22.117887  0.329690  0.553734\n1         28.343690  48.395408  0.464912  0.473684",
      "text/html": "<div>\n<style scoped>\n    .dataframe tbody tr th:only-of-type {\n        vertical-align: middle;\n    }\n\n    .dataframe tbody tr th {\n        vertical-align: top;\n    }\n\n    .dataframe thead th {\n        text-align: right;\n    }\n</style>\n<table border=\"1\" class=\"dataframe\">\n  <thead>\n    <tr style=\"text-align: right;\">\n      <th></th>\n      <th>Age</th>\n      <th>Fare</th>\n      <th>Parch</th>\n      <th>SibSp</th>\n    </tr>\n    <tr>\n      <th>Survived</th>\n      <th></th>\n      <th></th>\n      <th></th>\n      <th></th>\n    </tr>\n  </thead>\n  <tbody>\n    <tr>\n      <th>0</th>\n      <td>30.626179</td>\n      <td>22.117887</td>\n      <td>0.329690</td>\n      <td>0.553734</td>\n    </tr>\n    <tr>\n      <th>1</th>\n      <td>28.343690</td>\n      <td>48.395408</td>\n      <td>0.464912</td>\n      <td>0.473684</td>\n    </tr>\n  </tbody>\n</table>\n</div>"
     },
     "execution_count": 91,
     "metadata": {},
     "output_type": "execute_result"
    }
   ],
   "source": [
    "# Avg Age, SibSp, Parch, Fare by Survival\n",
    "pd.pivot_table(train_data, index='Survived', values=['Age','SibSp','Parch','Fare'])"
   ],
   "metadata": {
    "collapsed": false,
    "pycharm": {
     "name": "#%%\n"
    }
   }
  },
  {
   "cell_type": "markdown",
   "source": [
    "- Survivors are slightly younger, but we would need to segment more (by Gender, Class and maybe Embarked) to get some insights from this column;\n",
    "- Fare paid by Survived is over 2x the one paid by who did not make it;\n",
    "- Higher # of parents seems to give you a slightly higher chance;\n",
    "- SibSp lower seems to give more chances"
   ],
   "metadata": {
    "collapsed": false,
    "pycharm": {
     "name": "#%% md\n"
    }
   }
  },
  {
   "cell_type": "code",
   "execution_count": 92,
   "outputs": [
    {
     "name": "stderr",
     "output_type": "stream",
     "text": [
      "/Library/Frameworks/Python.framework/Versions/3.9/lib/python3.9/site-packages/seaborn/_decorators.py:36: FutureWarning: Pass the following variables as keyword args: x, y. From version 0.12, the only valid positional argument will be `data`, and passing other arguments without an explicit keyword will result in an error or misinterpretation.\n",
      "  warnings.warn(\n"
     ]
    },
    {
     "data": {
      "text/plain": "<Figure size 432x288 with 1 Axes>",
      "image/png": "[encoded data removed]"
     },
     "metadata": {
      "needs_background": "light"
     },
     "output_type": "display_data"
    },
    {
     "name": "stderr",
     "output_type": "stream",
     "text": [
      "/Library/Frameworks/Python.framework/Versions/3.9/lib/python3.9/site-packages/seaborn/_decorators.py:36: FutureWarning: Pass the following variables as keyword args: x, y. From version 0.12, the only valid positional argument will be `data`, and passing other arguments without an explicit keyword will result in an error or misinterpretation.\n",
      "  warnings.warn(\n"
     ]
    },
    {
     "data": {
      "text/plain": "<Figure size 432x288 with 1 Axes>",
      "image/png": "[encoded data removed]"
     },
     "metadata": {
      "needs_background": "light"
     },
     "output_type": "display_data"
    },
    {
     "name": "stderr",
     "output_type": "stream",
     "text": [
      "/Library/Frameworks/Python.framework/Versions/3.9/lib/python3.9/site-packages/seaborn/_decorators.py:36: FutureWarning: Pass the following variables as keyword args: x, y. From version 0.12, the only valid positional argument will be `data`, and passing other arguments without an explicit keyword will result in an error or misinterpretation.\n",
      "  warnings.warn(\n"
     ]
    },
    {
     "data": {
      "text/plain": "<Figure size 432x288 with 1 Axes>",
      "image/png": "[encoded data removed]"
     },
     "metadata": {
      "needs_background": "light"
     },
     "output_type": "display_data"
    },
    {
     "name": "stderr",
     "output_type": "stream",
     "text": [
      "/Library/Frameworks/Python.framework/Versions/3.9/lib/python3.9/site-packages/seaborn/_decorators.py:36: FutureWarning: Pass the following variables as keyword args: x, y. From version 0.12, the only valid positional argument will be `data`, and passing other arguments without an explicit keyword will result in an error or misinterpretation.\n",
      "  warnings.warn(\n"
     ]
    },
    {
     "data": {
      "text/plain": "<Figure size 432x288 with 1 Axes>",
      "image/png": "[encoded data removed]"
     },
     "metadata": {
      "needs_background": "light"
     },
     "output_type": "display_data"
    },
    {
     "name": "stderr",
     "output_type": "stream",
     "text": [
      "/Library/Frameworks/Python.framework/Versions/3.9/lib/python3.9/site-packages/seaborn/_decorators.py:36: FutureWarning: Pass the following variables as keyword args: x, y. From version 0.12, the only valid positional argument will be `data`, and passing other arguments without an explicit keyword will result in an error or misinterpretation.\n",
      "  warnings.warn(\n"
     ]
    },
    {
     "data": {
      "text/plain": "<Figure size 432x288 with 1 Axes>",
      "image/png": "[encoded data removed]"
     },
     "metadata": {
      "needs_background": "light"
     },
     "output_type": "display_data"
    },
    {
     "name": "stderr",
     "output_type": "stream",
     "text": [
      "/Library/Frameworks/Python.framework/Versions/3.9/lib/python3.9/site-packages/seaborn/_decorators.py:36: FutureWarning: Pass the following variables as keyword args: x, y. From version 0.12, the only valid positional argument will be `data`, and passing other arguments without an explicit keyword will result in an error or misinterpretation.\n",
      "  warnings.warn(\n"
     ]
    },
    {
     "data": {
      "text/plain": "<Figure size 432x288 with 1 Axes>",
      "image/png": "[encoded data removed]"
     },
     "metadata": {
      "needs_background": "light"
     },
     "output_type": "display_data"
    },
    {
     "name": "stderr",
     "output_type": "stream",
     "text": [
      "/Library/Frameworks/Python.framework/Versions/3.9/lib/python3.9/site-packages/seaborn/_decorators.py:36: FutureWarning: Pass the following variables as keyword args: x, y. From version 0.12, the only valid positional argument will be `data`, and passing other arguments without an explicit keyword will result in an error or misinterpretation.\n",
      "  warnings.warn(\n"
     ]
    },
    {
     "data": {
      "text/plain": "<Figure size 432x288 with 1 Axes>",
      "image/png": "[encoded data removed]"
     },
     "metadata": {
      "needs_background": "light"
     },
     "output_type": "display_data"
    }
   ],
   "source": [
    "# Look into Survival Rate by Category Columns\n",
    "for i in train_data_cat.columns:\n",
    "    sns.barplot(train_data_cat[i].value_counts().index , train_data_cat[i].value_counts()).set_title(i)\n",
    "    plt.show()"
   ],
   "metadata": {
    "collapsed": false,
    "pycharm": {
     "name": "#%%\n"
    }
   }
  },
  {
   "cell_type": "markdown",
   "source": [
    "Ticket and Cabin might require some work. But we are going to probably drop Cabin as there are too many missing values."
   ],
   "metadata": {
    "collapsed": false,
    "pycharm": {
     "name": "#%% md\n"
    }
   }
  },
  {
   "cell_type": "markdown",
   "source": [
    "### Age\n",
    "Let's take a closer look at Age. We start by looking at Age distribution by Sex"
   ],
   "metadata": {
    "collapsed": false,
    "pycharm": {
     "name": "#%% md\n"
    }
   }
  },
  {
   "cell_type": "code",
   "execution_count": 93,
   "outputs": [
    {
     "data": {
      "text/plain": "(0.339, 8.378]       28\n(8.378, 16.336]      23\n(16.336, 24.294]    109\n(24.294, 32.252]    117\n(32.252, 40.21]      74\n(40.21, 48.168]      46\n(48.168, 56.126]     29\n(56.126, 64.084]     16\n(64.084, 72.042]      9\n(72.042, 80.0]        2\nName: Age, dtype: int64"
     },
     "execution_count": 93,
     "metadata": {},
     "output_type": "execute_result"
    }
   ],
   "source": [
    "# Look at Age distribution by both Sex\n",
    "# Let's look at age distribution (Male vs Female)\n",
    "train_data_female = train_data[train_data['Sex']=='female'].copy()\n",
    "train_data_male = train_data[train_data['Sex']=='male'].copy()\n",
    "train_data_female['Age'].value_counts(bins=10, dropna=False).sort_index()\n",
    "train_data_male['Age'].value_counts(bins=10, dropna=False).sort_index()"
   ],
   "metadata": {
    "collapsed": false,
    "pycharm": {
     "name": "#%%\n"
    }
   }
  },
  {
   "cell_type": "code",
   "execution_count": 94,
   "outputs": [
    {
     "data": {
      "text/plain": "<Figure size 432x288 with 1 Axes>",
      "image/png": "[encoded data removed]"
     },
     "metadata": {
      "needs_background": "light"
     },
     "output_type": "display_data"
    }
   ],
   "source": [
    "sns.histplot(data=train_data, x=\"Age\", binwidth=5,kde=True, hue='Sex', element='step')\n",
    "plt.show()"
   ],
   "metadata": {
    "collapsed": false,
    "pycharm": {
     "name": "#%%\n"
    }
   }
  },
  {
   "cell_type": "code",
   "execution_count": 95,
   "outputs": [
    {
     "data": {
      "text/plain": "<Figure size 432x288 with 1 Axes>",
      "image/png": "[encoded data removed]"
     },
     "metadata": {
      "needs_background": "light"
     },
     "output_type": "display_data"
    }
   ],
   "source": [
    "sns.histplot(data=test_data, x=\"Age\", binwidth=5,kde=True, hue='Sex', element='step')\n",
    "plt.show()"
   ],
   "metadata": {
    "collapsed": false,
    "pycharm": {
     "name": "#%%\n"
    }
   }
  },
  {
   "cell_type": "code",
   "execution_count": 96,
   "outputs": [
    {
     "data": {
      "text/plain": "<Figure size 792x288 with 2 Axes>",
      "image/png": "[encoded data removed]"
     },
     "metadata": {
      "needs_background": "light"
     },
     "output_type": "display_data"
    }
   ],
   "source": [
    "#Age distribution\n",
    "plt.figure(figsize=(11,4))\n",
    "\n",
    "plt.subplot(1,2,1)\n",
    "train_data_female['Age'].plot.hist()\n",
    "plt.title('Women Age Distribution')\n",
    "plt.xlim(0,100)\n",
    "plt.ylim([0,200])\n",
    "plt.xlabel(('Age Bin'))\n",
    "\n",
    "plt.subplot(1,2,2)\n",
    "train_data_male['Age'].plot.hist()\n",
    "plt.title('Men Age Distribution')\n",
    "plt.xlim(0,100)\n",
    "plt.ylim([0,200])\n",
    "plt.xlabel(('Age Bin'))\n",
    "\n",
    "plt.show()"
   ],
   "metadata": {
    "collapsed": false,
    "pycharm": {
     "name": "#%%\n"
    }
   }
  },
  {
   "cell_type": "markdown",
   "source": [
    "Distribution does not look too messy. We should be able to fill missing data by Sex and Pclass averages. No need to use medians, not many outliers."
   ],
   "metadata": {
    "collapsed": false,
    "pycharm": {
     "name": "#%% md\n"
    }
   }
  },
  {
   "cell_type": "code",
   "execution_count": 97,
   "outputs": [
    {
     "data": {
      "text/plain": "                     Age  Survived\nSex    Pclass                     \nfemale 1       34.611765  0.968085\n       2       28.722973  0.921053\n       3       21.750000  0.500000\nmale   1       41.281386  0.368852\n       2       30.740707  0.157407\n       3       26.507589  0.135447",
      "text/html": "<div>\n<style scoped>\n    .dataframe tbody tr th:only-of-type {\n        vertical-align: middle;\n    }\n\n    .dataframe tbody tr th {\n        vertical-align: top;\n    }\n\n    .dataframe thead th {\n        text-align: right;\n    }\n</style>\n<table border=\"1\" class=\"dataframe\">\n  <thead>\n    <tr style=\"text-align: right;\">\n      <th></th>\n      <th></th>\n      <th>Age</th>\n      <th>Survived</th>\n    </tr>\n    <tr>\n      <th>Sex</th>\n      <th>Pclass</th>\n      <th></th>\n      <th></th>\n    </tr>\n  </thead>\n  <tbody>\n    <tr>\n      <th rowspan=\"3\" valign=\"top\">female</th>\n      <th>1</th>\n      <td>34.611765</td>\n      <td>0.968085</td>\n    </tr>\n    <tr>\n      <th>2</th>\n      <td>28.722973</td>\n      <td>0.921053</td>\n    </tr>\n    <tr>\n      <th>3</th>\n      <td>21.750000</td>\n      <td>0.500000</td>\n    </tr>\n    <tr>\n      <th rowspan=\"3\" valign=\"top\">male</th>\n      <th>1</th>\n      <td>41.281386</td>\n      <td>0.368852</td>\n    </tr>\n    <tr>\n      <th>2</th>\n      <td>30.740707</td>\n      <td>0.157407</td>\n    </tr>\n    <tr>\n      <th>3</th>\n      <td>26.507589</td>\n      <td>0.135447</td>\n    </tr>\n  </tbody>\n</table>\n</div>"
     },
     "execution_count": 97,
     "metadata": {},
     "output_type": "execute_result"
    }
   ],
   "source": [
    "train_data[['Sex','Pclass','Age','Survived']].groupby(['Sex','Pclass']).mean()\n",
    "#avg_ages = train_data[['Sex','Pclass','Age']].groupby(['Sex','Pclass']).mean()"
   ],
   "metadata": {
    "collapsed": false,
    "pycharm": {
     "name": "#%%\n"
    }
   }
  },
  {
   "cell_type": "code",
   "execution_count": 98,
   "outputs": [
    {
     "data": {
      "text/plain": "                   Pclass        Age  Survived\nEmbarked Sex                                  \nC        female  1.726027  28.344262  0.876712\n         male    2.010526  32.998841  0.305263\nQ        female  2.888889  24.291667  0.750000\n         male    2.926829  30.937500  0.073171\nS        female  2.197044  27.771505  0.689655\n         male    2.421769  30.291440  0.174603",
      "text/html": "<div>\n<style scoped>\n    .dataframe tbody tr th:only-of-type {\n        vertical-align: middle;\n    }\n\n    .dataframe tbody tr th {\n        vertical-align: top;\n    }\n\n    .dataframe thead th {\n        text-align: right;\n    }\n</style>\n<table border=\"1\" class=\"dataframe\">\n  <thead>\n    <tr style=\"text-align: right;\">\n      <th></th>\n      <th></th>\n      <th>Pclass</th>\n      <th>Age</th>\n      <th>Survived</th>\n    </tr>\n    <tr>\n      <th>Embarked</th>\n      <th>Sex</th>\n      <th></th>\n      <th></th>\n      <th></th>\n    </tr>\n  </thead>\n  <tbody>\n    <tr>\n      <th rowspan=\"2\" valign=\"top\">C</th>\n      <th>female</th>\n      <td>1.726027</td>\n      <td>28.344262</td>\n      <td>0.876712</td>\n    </tr>\n    <tr>\n      <th>male</th>\n      <td>2.010526</td>\n      <td>32.998841</td>\n      <td>0.305263</td>\n    </tr>\n    <tr>\n      <th rowspan=\"2\" valign=\"top\">Q</th>\n      <th>female</th>\n      <td>2.888889</td>\n      <td>24.291667</td>\n      <td>0.750000</td>\n    </tr>\n    <tr>\n      <th>male</th>\n      <td>2.926829</td>\n      <td>30.937500</td>\n      <td>0.073171</td>\n    </tr>\n    <tr>\n      <th rowspan=\"2\" valign=\"top\">S</th>\n      <th>female</th>\n      <td>2.197044</td>\n      <td>27.771505</td>\n      <td>0.689655</td>\n    </tr>\n    <tr>\n      <th>male</th>\n      <td>2.421769</td>\n      <td>30.291440</td>\n      <td>0.174603</td>\n    </tr>\n  </tbody>\n</table>\n</div>"
     },
     "execution_count": 98,
     "metadata": {},
     "output_type": "execute_result"
    }
   ],
   "source": [
    "# Pclass, Embarked, Sex  averages for Age and Survival Rate\n",
    "train_data[['Sex','Pclass','Embarked','Age','Survived']].groupby(['Embarked','Sex']).mean()"
   ],
   "metadata": {
    "collapsed": false,
    "pycharm": {
     "name": "#%%\n"
    }
   }
  },
  {
   "cell_type": "code",
   "execution_count": 99,
   "outputs": [
    {
     "data": {
      "text/plain": "Pclass          1          2          3\nSex                                    \nfemale  34.611765  28.722973  21.750000\nmale    41.281386  30.740707  26.507589",
      "text/html": "<div>\n<style scoped>\n    .dataframe tbody tr th:only-of-type {\n        vertical-align: middle;\n    }\n\n    .dataframe tbody tr th {\n        vertical-align: top;\n    }\n\n    .dataframe thead th {\n        text-align: right;\n    }\n</style>\n<table border=\"1\" class=\"dataframe\">\n  <thead>\n    <tr style=\"text-align: right;\">\n      <th>Pclass</th>\n      <th>1</th>\n      <th>2</th>\n      <th>3</th>\n    </tr>\n    <tr>\n      <th>Sex</th>\n      <th></th>\n      <th></th>\n      <th></th>\n    </tr>\n  </thead>\n  <tbody>\n    <tr>\n      <th>female</th>\n      <td>34.611765</td>\n      <td>28.722973</td>\n      <td>21.750000</td>\n    </tr>\n    <tr>\n      <th>male</th>\n      <td>41.281386</td>\n      <td>30.740707</td>\n      <td>26.507589</td>\n    </tr>\n  </tbody>\n</table>\n</div>"
     },
     "execution_count": 99,
     "metadata": {},
     "output_type": "execute_result"
    }
   ],
   "source": [
    "# Age by Pclass and Sex\n",
    "pvt_ages = pd.pivot_table(train_data, values='Age', index='Sex', columns='Pclass')\n",
    "pd.pivot_table(train_data, values='Age', index='Sex', columns='Pclass')\n",
    "#pd.pivot_table(combined_updated, values='dissatisfied', index='service_cat',columns='gender')"
   ],
   "metadata": {
    "collapsed": false,
    "pycharm": {
     "name": "#%%\n"
    }
   }
  },
  {
   "cell_type": "code",
   "execution_count": 100,
   "outputs": [
    {
     "data": {
      "text/plain": "<Figure size 432x288 with 1 Axes>",
      "image/png": "[encoded data removed]"
     },
     "metadata": {
      "needs_background": "light"
     },
     "output_type": "display_data"
    }
   ],
   "source": [
    "# Let's plot Age by Sex and Class\n",
    "pvt_ages.plot(kind='barh',grid=True)\n",
    "plt.title('Avg Age by Gender & Class',alpha=0.7)\n",
    "plt.xlabel('Gender')\n",
    "plt.xlabel('Age')\n",
    "plt.show()"
   ],
   "metadata": {
    "collapsed": false,
    "pycharm": {
     "name": "#%%\n"
    }
   }
  },
  {
   "cell_type": "code",
   "execution_count": 101,
   "outputs": [
    {
     "data": {
      "text/plain": "Pclass         1         2         3\nSex                                 \nfemale  0.968085  0.921053  0.500000\nmale    0.368852  0.157407  0.135447",
      "text/html": "<div>\n<style scoped>\n    .dataframe tbody tr th:only-of-type {\n        vertical-align: middle;\n    }\n\n    .dataframe tbody tr th {\n        vertical-align: top;\n    }\n\n    .dataframe thead th {\n        text-align: right;\n    }\n</style>\n<table border=\"1\" class=\"dataframe\">\n  <thead>\n    <tr style=\"text-align: right;\">\n      <th>Pclass</th>\n      <th>1</th>\n      <th>2</th>\n      <th>3</th>\n    </tr>\n    <tr>\n      <th>Sex</th>\n      <th></th>\n      <th></th>\n      <th></th>\n    </tr>\n  </thead>\n  <tbody>\n    <tr>\n      <th>female</th>\n      <td>0.968085</td>\n      <td>0.921053</td>\n      <td>0.500000</td>\n    </tr>\n    <tr>\n      <th>male</th>\n      <td>0.368852</td>\n      <td>0.157407</td>\n      <td>0.135447</td>\n    </tr>\n  </tbody>\n</table>\n</div>"
     },
     "execution_count": 101,
     "metadata": {},
     "output_type": "execute_result"
    }
   ],
   "source": [
    "# Survival Rate by Sex and Class\n",
    "pvt_survival = pd.pivot_table(train_data, values='Survived', index='Sex', columns='Pclass')\n",
    "pd.pivot_table(train_data, values='Survived', index='Sex', columns='Pclass')"
   ],
   "metadata": {
    "collapsed": false,
    "pycharm": {
     "name": "#%%\n"
    }
   }
  },
  {
   "cell_type": "code",
   "execution_count": 102,
   "outputs": [
    {
     "data": {
      "text/plain": "<Figure size 432x288 with 1 Axes>",
      "image/png": "[encoded data removed]"
     },
     "metadata": {
      "needs_background": "light"
     },
     "output_type": "display_data"
    }
   ],
   "source": [
    "# Let's plot Age by Sex and Class\n",
    "pvt_survival.plot(kind='barh',grid=True)\n",
    "plt.title('Survival Rate by Gender & Class',alpha=0.7)\n",
    "plt.xlabel('Gender')\n",
    "plt.xlabel('Survival Rate')\n",
    "plt.show()"
   ],
   "metadata": {
    "collapsed": false,
    "pycharm": {
     "name": "#%%\n"
    }
   }
  },
  {
   "cell_type": "markdown",
   "source": [
    "Things we notice regarding Age:\n",
    "- Female survival rate is much higher in first & second class vs any other group and even 3rd class women has a higher survival rate vs Men in 1st class.\n",
    "- People embarked at Southampton seem to have a lower survival rate within the same gender and class categories."
   ],
   "metadata": {
    "collapsed": false,
    "pycharm": {
     "name": "#%% md\n"
    }
   }
  },
  {
   "cell_type": "markdown",
   "source": [
    "### Embarked\n",
    "There are only 2 missing values in the train dataset, we will either remove those 2 rows or fill with the most common value which is S (Southampton) from the previous chart:"
   ],
   "metadata": {
    "collapsed": false,
    "pycharm": {
     "name": "#%% md\n"
    }
   }
  },
  {
   "cell_type": "code",
   "execution_count": 103,
   "outputs": [
    {
     "data": {
      "text/plain": "S      644\nC      168\nQ       77\nNaN      2\nName: Embarked, dtype: int64"
     },
     "execution_count": 103,
     "metadata": {},
     "output_type": "execute_result"
    }
   ],
   "source": [
    "train_data['Embarked'].value_counts(dropna=False)"
   ],
   "metadata": {
    "collapsed": false,
    "pycharm": {
     "name": "#%%\n"
    }
   }
  },
  {
   "cell_type": "code",
   "execution_count": 104,
   "outputs": [
    {
     "data": {
      "text/plain": "S    270\nC    102\nQ     46\nName: Embarked, dtype: int64"
     },
     "execution_count": 104,
     "metadata": {},
     "output_type": "execute_result"
    }
   ],
   "source": [
    "test_data['Embarked'].value_counts(dropna=False)"
   ],
   "metadata": {
    "collapsed": false,
    "pycharm": {
     "name": "#%%\n"
    }
   }
  },
  {
   "cell_type": "markdown",
   "source": [
    "We are going to fill train_data with S. Test data does not need to be filled"
   ],
   "metadata": {
    "collapsed": false,
    "pycharm": {
     "name": "#%% md\n"
    }
   }
  },
  {
   "cell_type": "markdown",
   "source": [
    "### Cabin\n",
    "There are a lot of missing values. We are going to take a look into this column to see if there is something we can do to fill the gaps or categorize this column differently"
   ],
   "metadata": {
    "collapsed": false,
    "pycharm": {
     "name": "#%% md\n"
    }
   }
  },
  {
   "cell_type": "code",
   "execution_count": 105,
   "outputs": [
    {
     "name": "stderr",
     "output_type": "stream",
     "text": [
      "/Library/Frameworks/Python.framework/Versions/3.9/lib/python3.9/site-packages/seaborn/_decorators.py:36: FutureWarning: Pass the following variables as keyword args: x, y. From version 0.12, the only valid positional argument will be `data`, and passing other arguments without an explicit keyword will result in an error or misinterpretation.\n",
      "  warnings.warn(\n"
     ]
    },
    {
     "data": {
      "text/plain": "<Figure size 432x288 with 1 Axes>",
      "image/png": "[encoded data removed]"
     },
     "metadata": {
      "needs_background": "light"
     },
     "output_type": "display_data"
    }
   ],
   "source": [
    "sns.barplot(train_data['Cabin'].value_counts().index, train_data['Cabin'].value_counts()).set_title('Cabin Distribution')\n",
    "plt.show()\n",
    "# ~80% is not available, we don't think there is a way to fill"
   ],
   "metadata": {
    "collapsed": false,
    "pycharm": {
     "name": "#%%\n"
    }
   }
  },
  {
   "cell_type": "markdown",
   "source": [
    "### Fare\n",
    "We might want to normalize this column as most values are towards the lowest values"
   ],
   "metadata": {
    "collapsed": false,
    "pycharm": {
     "name": "#%% md\n"
    }
   }
  },
  {
   "cell_type": "code",
   "execution_count": 106,
   "outputs": [
    {
     "name": "stderr",
     "output_type": "stream",
     "text": [
      "/Library/Frameworks/Python.framework/Versions/3.9/lib/python3.9/site-packages/seaborn/_decorators.py:36: FutureWarning: Pass the following variables as keyword args: x, y. From version 0.12, the only valid positional argument will be `data`, and passing other arguments without an explicit keyword will result in an error or misinterpretation.\n",
      "  warnings.warn(\n"
     ]
    },
    {
     "data": {
      "text/plain": "<Figure size 432x288 with 1 Axes>",
      "image/png": "[encoded data removed]"
     },
     "metadata": {
      "needs_background": "light"
     },
     "output_type": "display_data"
    }
   ],
   "source": [
    "sns.barplot(train_data['Fare'].value_counts().index, train_data['Fare'].value_counts()).set_title('Fare Distribution')\n",
    "plt.show()"
   ],
   "metadata": {
    "collapsed": false,
    "pycharm": {
     "name": "#%%\n"
    }
   }
  },
  {
   "cell_type": "code",
   "execution_count": 107,
   "outputs": [
    {
     "data": {
      "text/plain": "<Figure size 432x288 with 1 Axes>",
      "image/png": "[encoded data removed]"
     },
     "metadata": {
      "needs_background": "light"
     },
     "output_type": "display_data"
    }
   ],
   "source": [
    "sns.histplot(data=train_data, x=\"Fare\", binwidth=50,kde=True, hue='Sex', element='step')\n",
    "plt.show()"
   ],
   "metadata": {
    "collapsed": false,
    "pycharm": {
     "name": "#%%\n"
    }
   }
  },
  {
   "cell_type": "markdown",
   "source": [],
   "metadata": {
    "collapsed": false,
    "pycharm": {
     "name": "#%% md\n"
    }
   }
  },
  {
   "cell_type": "code",
   "execution_count": 108,
   "outputs": [
    {
     "data": {
      "text/plain": "<Figure size 432x288 with 1 Axes>",
      "image/png": "[encoded data removed]"
     },
     "metadata": {
      "needs_background": "light"
     },
     "output_type": "display_data"
    }
   ],
   "source": [
    "sns.histplot(data=train_data, x=\"Fare\", binwidth=25, kde=True, hue='Embarked', element='step')\n",
    "plt.show()"
   ],
   "metadata": {
    "collapsed": false,
    "pycharm": {
     "name": "#%%\n"
    }
   }
  },
  {
   "cell_type": "markdown",
   "source": [
    "### Name\n",
    "Let’s see if we can extract something from names"
   ],
   "metadata": {
    "collapsed": false,
    "pycharm": {
     "name": "#%% md\n"
    }
   }
  },
  {
   "cell_type": "code",
   "execution_count": 109,
   "outputs": [
    {
     "data": {
      "text/plain": "Braund, Mr. Owen Harris                     1\nBoulos, Mr. Hanna                           1\nFrolicher-Stehli, Mr. Maxmillian            1\nGilinski, Mr. Eliezer                       1\nMurdlin, Mr. Joseph                         1\n                                           ..\nKelly, Miss. Anna Katherine \"Annie Kate\"    1\nMcCoy, Mr. Bernard                          1\nJohnson, Mr. William Cahoone Jr             1\nKeane, Miss. Nora A                         1\nDooley, Mr. Patrick                         1\nName: Name, Length: 891, dtype: int64"
     },
     "execution_count": 109,
     "metadata": {},
     "output_type": "execute_result"
    }
   ],
   "source": [
    "train_data['Name'].value_counts()"
   ],
   "metadata": {
    "collapsed": false,
    "pycharm": {
     "name": "#%%\n"
    }
   }
  },
  {
   "cell_type": "code",
   "execution_count": 110,
   "outputs": [
    {
     "data": {
      "text/plain": "Mr              517\nMiss            182\nMrs             125\nMaster           40\nDr                7\nRev               6\nMlle              2\nMajor             2\nCol               2\nthe Countess      1\nCapt              1\nMs                1\nSir               1\nLady              1\nMme               1\nDon               1\nJonkheer          1\nName: Name, dtype: int64"
     },
     "execution_count": 110,
     "metadata": {},
     "output_type": "execute_result"
    }
   ],
   "source": [
    "# We can see titles such as Mr. Miss. but also Dr. Let's isolate and see what we can find:\n",
    "def extract_title(s):\n",
    "    title = (s.split(',')[1]).split('. ')[0].strip()\n",
    "    return title\n",
    "titles = train_data['Name'].apply(extract_title)\n",
    "titles.value_counts()"
   ],
   "metadata": {
    "collapsed": false,
    "pycharm": {
     "name": "#%%\n"
    }
   }
  },
  {
   "cell_type": "code",
   "execution_count": 111,
   "outputs": [
    {
     "data": {
      "text/plain": "Mr        240\nMiss       78\nMrs        72\nMaster     21\nCol         2\nRev         2\nMs          1\nDr          1\nDona        1\nName: Name, dtype: int64"
     },
     "execution_count": 111,
     "metadata": {},
     "output_type": "execute_result"
    }
   ],
   "source": [
    "titles_2 = test_data['Name'].apply(extract_title)\n",
    "titles_2.value_counts()"
   ],
   "metadata": {
    "collapsed": false,
    "pycharm": {
     "name": "#%%\n"
    }
   }
  },
  {
   "cell_type": "code",
   "source": [
    "# We can create a new column called Title and later map into a numeric in order to use it in our model.\n",
    "all_data['Title'] = all_data['Name'].apply(extract_title)\n",
    "all_data['Title'].value_counts()"
   ],
   "metadata": {
    "collapsed": false,
    "pycharm": {
     "name": "#%%\n"
    }
   },
   "execution_count": 112,
   "outputs": [
    {
     "data": {
      "text/plain": "Mr              757\nMiss            260\nMrs             197\nMaster           61\nRev               8\nDr                8\nCol               4\nMlle              2\nMajor             2\nMs                2\nLady              1\nSir               1\nMme               1\nDon               1\nCapt              1\nthe Countess      1\nJonkheer          1\nDona              1\nName: Title, dtype: int64"
     },
     "execution_count": 112,
     "metadata": {},
     "output_type": "execute_result"
    }
   ]
  },
  {
   "cell_type": "markdown",
   "source": [
    "## Data Processing for Model\n",
    "1. Fill missing values:\n",
    "    - Embarked\n",
    "    - Age\n",
    "2. Normalize Fare using logarithmic scale\n",
    "3. Categorize Title column\n",
    "4. Include only relevant columns (drop what we do not need)\n",
    "5. Map data to numeric/Scale from 0-1 with standard scaler"
   ],
   "metadata": {
    "collapsed": false,
    "pycharm": {
     "name": "#%% md\n"
    }
   }
  },
  {
   "cell_type": "markdown",
   "source": [
    "### Fill missing values: Embarked"
   ],
   "metadata": {
    "collapsed": false,
    "pycharm": {
     "name": "#%% md\n"
    }
   }
  },
  {
   "cell_type": "code",
   "execution_count": 113,
   "outputs": [
    {
     "data": {
      "text/plain": "S    916\nC    270\nQ    123\nName: Embarked, dtype: int64"
     },
     "execution_count": 113,
     "metadata": {},
     "output_type": "execute_result"
    }
   ],
   "source": [
    "all_data['Embarked'] = all_data['Embarked'].fillna('S')\n",
    "all_data['Embarked'].value_counts(dropna=False)"
   ],
   "metadata": {
    "collapsed": false,
    "pycharm": {
     "name": "#%%\n"
    }
   }
  },
  {
   "cell_type": "markdown",
   "source": [
    "### Fill missing values: Age"
   ],
   "metadata": {
    "collapsed": false,
    "pycharm": {
     "name": "#%% md\n"
    }
   }
  },
  {
   "cell_type": "code",
   "execution_count": 114,
   "outputs": [],
   "source": [
    "# Fill NaN values with Avg age by gender and ticket class, we do it on the full dataset so we have the best distribution\n",
    "all_data['Age_filled'] = all_data.groupby(['Sex','Pclass'])['Age'].transform(lambda grp: grp.fillna(np.mean(grp)))\n",
    "all_data['Age'] = all_data['Age_filled']\n",
    "all_data = all_data.drop('Age_filled', axis=1)"
   ],
   "metadata": {
    "collapsed": false,
    "pycharm": {
     "name": "#%%\n"
    }
   }
  },
  {
   "cell_type": "markdown",
   "source": [
    "### Normalize Fare using logarithmic scale"
   ],
   "metadata": {
    "collapsed": false,
    "pycharm": {
     "name": "#%% md\n"
    }
   }
  },
  {
   "cell_type": "code",
   "execution_count": 115,
   "outputs": [
    {
     "name": "stdout",
     "output_type": "stream",
     "text": [
      "<class 'pandas.core.frame.DataFrame'>\n",
      "Int64Index: 1309 entries, 0 to 417\n",
      "Data columns (total 14 columns):\n",
      " #   Column       Non-Null Count  Dtype  \n",
      "---  ------       --------------  -----  \n",
      " 0   PassengerId  1309 non-null   int64  \n",
      " 1   Survived     891 non-null    float64\n",
      " 2   Pclass       1309 non-null   int64  \n",
      " 3   Name         1309 non-null   object \n",
      " 4   Sex          1309 non-null   object \n",
      " 5   Age          1309 non-null   float64\n",
      " 6   SibSp        1309 non-null   int64  \n",
      " 7   Parch        1309 non-null   int64  \n",
      " 8   Ticket       1309 non-null   object \n",
      " 9   Fare         1309 non-null   float64\n",
      " 10  Cabin        295 non-null    object \n",
      " 11  Embarked     1309 non-null   object \n",
      " 12  train_test   1309 non-null   int64  \n",
      " 13  Title        1309 non-null   object \n",
      "dtypes: float64(3), int64(5), object(6)\n",
      "memory usage: 153.4+ KB\n"
     ]
    }
   ],
   "source": [
    "#Fill Missing Value\n",
    "all_data['Fare'] = all_data['Fare'].fillna(all_data.Fare.median())\n",
    "all_data.info()"
   ],
   "metadata": {
    "collapsed": false,
    "pycharm": {
     "name": "#%%\n"
    }
   }
  },
  {
   "cell_type": "code",
   "execution_count": 116,
   "outputs": [
    {
     "data": {
      "text/plain": "<Figure size 432x288 with 1 Axes>",
      "image/png": "[encoded data removed]"
     },
     "metadata": {
      "needs_background": "light"
     },
     "output_type": "display_data"
    }
   ],
   "source": [
    "norm_fare = np.log(all_data.Fare+1)\n",
    "sns.histplot(data=norm_fare,kde=True, element='step')\n",
    "plt.show()"
   ],
   "metadata": {
    "collapsed": false,
    "pycharm": {
     "name": "#%%\n"
    }
   }
  },
  {
   "cell_type": "code",
   "execution_count": 117,
   "outputs": [],
   "source": [
    "all_data['Norm_Fare'] = np.log(all_data.Fare+1)"
   ],
   "metadata": {
    "collapsed": false,
    "pycharm": {
     "name": "#%%\n"
    }
   }
  },
  {
   "cell_type": "code",
   "execution_count": 118,
   "outputs": [
    {
     "name": "stdout",
     "output_type": "stream",
     "text": [
      "<class 'pandas.core.frame.DataFrame'>\n",
      "Int64Index: 1309 entries, 0 to 417\n",
      "Data columns (total 15 columns):\n",
      " #   Column       Non-Null Count  Dtype  \n",
      "---  ------       --------------  -----  \n",
      " 0   PassengerId  1309 non-null   int64  \n",
      " 1   Survived     891 non-null    float64\n",
      " 2   Pclass       1309 non-null   int64  \n",
      " 3   Name         1309 non-null   object \n",
      " 4   Sex          1309 non-null   object \n",
      " 5   Age          1309 non-null   float64\n",
      " 6   SibSp        1309 non-null   int64  \n",
      " 7   Parch        1309 non-null   int64  \n",
      " 8   Ticket       1309 non-null   object \n",
      " 9   Fare         1309 non-null   float64\n",
      " 10  Cabin        295 non-null    object \n",
      " 11  Embarked     1309 non-null   object \n",
      " 12  train_test   1309 non-null   int64  \n",
      " 13  Title        1309 non-null   object \n",
      " 14  Norm_Fare    1309 non-null   float64\n",
      "dtypes: float64(4), int64(5), object(6)\n",
      "memory usage: 163.6+ KB\n"
     ]
    }
   ],
   "source": [
    "all_data.info()"
   ],
   "metadata": {
    "collapsed": false,
    "pycharm": {
     "name": "#%%\n"
    }
   }
  },
  {
   "cell_type": "markdown",
   "source": [
    "### Categorize Title Column"
   ],
   "metadata": {
    "collapsed": false,
    "pycharm": {
     "name": "#%% md\n"
    }
   }
  },
  {
   "cell_type": "code",
   "execution_count": 119,
   "outputs": [],
   "source": [
    "# prepare dictionary\n",
    "title_dictionary = {\"Mr\":\"Mr\",\n",
    "                    \"Miss\":\"Miss\",\n",
    "                    \"Mrs\":\"Mrs\",\n",
    "                    \"Master\":\"Master\",\n",
    "                    \"Dr\":\"Officer\",\n",
    "                    \"Rev\":\"Officer\",\n",
    "                    \"Col\":\"Officer\",\n",
    "                    \"Major\":\"Officer\",\n",
    "                    \"Mlle\":\"Miss\",\n",
    "                    \"Mme\":\"Mrs\",\n",
    "                    \"Capt\":\"Officer\",\n",
    "                    \"Sir\":\"Noble\",\n",
    "                    \"Jonkheer\":\"Noble\",\n",
    "                    \"Lady\":\"Noble\",\n",
    "                    \"Ms\":\"Mrs\",\n",
    "                    \"Don\":\"Noble\",\n",
    "                    \"the Countess\":\"Noble\",\n",
    "                    \"Dona\":\"Noble\"}\n",
    "# update titles definition\n",
    "all_data['Title'] = all_data['Title'].map(title_dictionary)"
   ],
   "metadata": {
    "collapsed": false,
    "pycharm": {
     "name": "#%%\n"
    }
   }
  },
  {
   "cell_type": "markdown",
   "source": [
    "### Drop Columns not needed"
   ],
   "metadata": {
    "collapsed": false,
    "pycharm": {
     "name": "#%% md\n"
    }
   }
  },
  {
   "cell_type": "code",
   "execution_count": 120,
   "outputs": [
    {
     "data": {
      "text/plain": "   PassengerId  Survived  Pclass     Sex   Age  SibSp  Parch Embarked  \\\n0            1       0.0       3    male  22.0      1      0        S   \n1            2       1.0       1  female  38.0      1      0        C   \n2            3       1.0       3  female  26.0      0      0        S   \n3            4       1.0       1  female  35.0      1      0        S   \n4            5       0.0       3    male  35.0      0      0        S   \n\n   train_test Title  Norm_Fare  \n0           1    Mr   2.110213  \n1           1   Mrs   4.280593  \n2           1  Miss   2.188856  \n3           1   Mrs   3.990834  \n4           1    Mr   2.202765  ",
      "text/html": "<div>\n<style scoped>\n    .dataframe tbody tr th:only-of-type {\n        vertical-align: middle;\n    }\n\n    .dataframe tbody tr th {\n        vertical-align: top;\n    }\n\n    .dataframe thead th {\n        text-align: right;\n    }\n</style>\n<table border=\"1\" class=\"dataframe\">\n  <thead>\n    <tr style=\"text-align: right;\">\n      <th></th>\n      <th>PassengerId</th>\n      <th>Survived</th>\n      <th>Pclass</th>\n      <th>Sex</th>\n      <th>Age</th>\n      <th>SibSp</th>\n      <th>Parch</th>\n      <th>Embarked</th>\n      <th>train_test</th>\n      <th>Title</th>\n      <th>Norm_Fare</th>\n    </tr>\n  </thead>\n  <tbody>\n    <tr>\n      <th>0</th>\n      <td>1</td>\n      <td>0.0</td>\n      <td>3</td>\n      <td>male</td>\n      <td>22.0</td>\n      <td>1</td>\n      <td>0</td>\n      <td>S</td>\n      <td>1</td>\n      <td>Mr</td>\n      <td>2.110213</td>\n    </tr>\n    <tr>\n      <th>1</th>\n      <td>2</td>\n      <td>1.0</td>\n      <td>1</td>\n      <td>female</td>\n      <td>38.0</td>\n      <td>1</td>\n      <td>0</td>\n      <td>C</td>\n      <td>1</td>\n      <td>Mrs</td>\n      <td>4.280593</td>\n    </tr>\n    <tr>\n      <th>2</th>\n      <td>3</td>\n      <td>1.0</td>\n      <td>3</td>\n      <td>female</td>\n      <td>26.0</td>\n      <td>0</td>\n      <td>0</td>\n      <td>S</td>\n      <td>1</td>\n      <td>Miss</td>\n      <td>2.188856</td>\n    </tr>\n    <tr>\n      <th>3</th>\n      <td>4</td>\n      <td>1.0</td>\n      <td>1</td>\n      <td>female</td>\n      <td>35.0</td>\n      <td>1</td>\n      <td>0</td>\n      <td>S</td>\n      <td>1</td>\n      <td>Mrs</td>\n      <td>3.990834</td>\n    </tr>\n    <tr>\n      <th>4</th>\n      <td>5</td>\n      <td>0.0</td>\n      <td>3</td>\n      <td>male</td>\n      <td>35.0</td>\n      <td>0</td>\n      <td>0</td>\n      <td>S</td>\n      <td>1</td>\n      <td>Mr</td>\n      <td>2.202765</td>\n    </tr>\n  </tbody>\n</table>\n</div>"
     },
     "execution_count": 120,
     "metadata": {},
     "output_type": "execute_result"
    }
   ],
   "source": [
    "# Drop columns not needed\n",
    "all_data = all_data.drop(['Name','Ticket','Cabin','Fare'],axis=1)\n",
    "all_data.head()"
   ],
   "metadata": {
    "collapsed": false,
    "pycharm": {
     "name": "#%%\n"
    }
   }
  },
  {
   "cell_type": "markdown",
   "source": [
    "### Map Data to Numeric\n",
    "Should we use a preprocess scaler?\n",
    "from sklearn.preprocessing import StandardScaler\n",
    "scale = StandardScaler()"
   ],
   "metadata": {
    "collapsed": false,
    "pycharm": {
     "name": "#%% md\n"
    }
   }
  },
  {
   "cell_type": "code",
   "execution_count": 121,
   "outputs": [],
   "source": [
    "# map Sex, Title\n",
    "sex_map = { 'female':0 , 'male':1 }\n",
    "# map Title\n",
    "title_map = {'Mr':0, 'Miss':1, 'Mrs':2, 'Master':3, 'Officer':4, 'Noble':5}\n",
    "# map Embark\n",
    "embark_map = {'S':0, 'C':1, 'Q':2}\n",
    "\n",
    "# let's focus on non-numeric categories for now, thus skipping Fare, Cabin, Family Size, Age in mapping bands etc for now\n",
    "all_data['Sex'] = all_data['Sex'].map(sex_map)\n",
    "all_data['Title'] = all_data['Title'].map(title_map)\n",
    "all_data['Embarked'] = all_data['Embarked'].map(embark_map)"
   ],
   "metadata": {
    "collapsed": false,
    "pycharm": {
     "name": "#%%\n"
    }
   }
  },
  {
   "cell_type": "markdown",
   "source": [
    "## Model Building\n",
    "Before going further we need to split again the dataset into train and test.\n",
    "Then we can move ahead importing all libraries for ML and building different models and checking their accuracy"
   ],
   "metadata": {
    "collapsed": false,
    "pycharm": {
     "name": "#%% md\n"
    }
   }
  },
  {
   "cell_type": "code",
   "execution_count": 122,
   "outputs": [
    {
     "data": {
      "text/plain": "(891,)"
     },
     "execution_count": 122,
     "metadata": {},
     "output_type": "execute_result"
    }
   ],
   "source": [
    "#X_train = all_data[all_data['train_test']==1].drop(['train_test'],axis=1)\n",
    "X_train = all_data[all_data.train_test == 1].drop(['train_test','Survived'], axis =1)\n",
    "\n",
    "#X_test = all_data[all_data['train_test']==0].drop(['train_test'],axis=1)\n",
    "# there is a missing value for Norm_Fare we are going to exclude it from X_test\n",
    "X_test = all_data[all_data.train_test == 0  ].drop(['train_test','Survived'], axis =1)\n",
    "\n",
    "#y_train = all_data[all_data.train_test==1].Survived\n",
    "y_train = all_data[all_data.train_test==1].Survived\n",
    "y_train.shape"
   ],
   "metadata": {
    "collapsed": false,
    "pycharm": {
     "name": "#%%\n"
    }
   }
  },
  {
   "cell_type": "code",
   "execution_count": 143,
   "outputs": [],
   "source": [
    "# Import ML libraries\n",
    "from sklearn.model_selection import cross_val_score\n",
    "from sklearn.naive_bayes import GaussianNB\n",
    "from sklearn.linear_model import LogisticRegression\n",
    "from sklearn import tree\n",
    "from sklearn.neighbors import KNeighborsClassifier\n",
    "from sklearn.ensemble import RandomForestClassifier\n",
    "from sklearn.svm import SVC\n",
    "#from xgboost import XGBClassifier\n",
    "from sklearn.ensemble import VotingClassifier\n",
    "from sklearn.model_selection import GridSearchCV\n",
    "from sklearn.model_selection import RandomizedSearchCV"
   ],
   "metadata": {
    "collapsed": false,
    "pycharm": {
     "name": "#%%\n"
    }
   }
  },
  {
   "cell_type": "markdown",
   "source": [
    "### Initial Model Run & Results\n",
    "We are going to run a bunch of models. See their initial training results and based on that we are goint to submit some to check how their scores compare.\n",
    "1. Baysian\n",
    "2. Logistic Regression\n",
    "3. Decision Tree\n",
    "4. Random Forest\n",
    "5. KNN\n",
    "6. SVC\n",
    "7. *XGBoost (not available)*\n",
    "8. Voting Classifier (uses the above model and combines them)"
   ],
   "metadata": {
    "collapsed": false,
    "pycharm": {
     "name": "#%% md\n"
    }
   }
  },
  {
   "cell_type": "code",
   "execution_count": 124,
   "outputs": [
    {
     "name": "stdout",
     "output_type": "stream",
     "text": [
      "[0.77094972 0.78089888 0.80337079 0.79775281 0.82022472]\n",
      "0.7946393823363254\n"
     ]
    }
   ],
   "source": [
    "# Baysian as baseline model\n",
    "gnb = GaussianNB()\n",
    "cv = cross_val_score(gnb, X_train, y_train)\n",
    "print(cv)\n",
    "print(cv.mean())"
   ],
   "metadata": {
    "collapsed": false,
    "pycharm": {
     "name": "#%%\n"
    }
   }
  },
  {
   "cell_type": "code",
   "execution_count": 125,
   "outputs": [
    {
     "name": "stdout",
     "output_type": "stream",
     "text": [
      "[0.80446927 0.81460674 0.78651685 0.8258427  0.81460674]\n",
      "0.8092084614901764\n"
     ]
    }
   ],
   "source": [
    "# Logistic Regression\n",
    "lr = LogisticRegression(max_iter = 2000)\n",
    "cv = cross_val_score(lr,X_train,y_train,cv=5)\n",
    "print(cv)\n",
    "print(cv.mean())"
   ],
   "metadata": {
    "collapsed": false,
    "pycharm": {
     "name": "#%%\n"
    }
   }
  },
  {
   "cell_type": "code",
   "execution_count": 134,
   "outputs": [
    {
     "name": "stdout",
     "output_type": "stream",
     "text": [
      "[0.84357542 0.80898876 0.8258427  0.78089888 0.83707865]\n",
      "0.8192768815516918\n"
     ]
    }
   ],
   "source": [
    "# Decision Tree Classifier\n",
    "dt = tree.DecisionTreeClassifier(random_state = 1, max_depth=3)\n",
    "cv = cross_val_score(dt,X_train,y_train,cv=5)\n",
    "print(cv)\n",
    "print(cv.mean())"
   ],
   "metadata": {
    "collapsed": false,
    "pycharm": {
     "name": "#%%\n"
    }
   }
  },
  {
   "cell_type": "code",
   "execution_count": 127,
   "outputs": [
    {
     "name": "stdout",
     "output_type": "stream",
     "text": [
      "[0.61452514 0.43258427 0.46629213 0.42134831 0.61235955]\n",
      "0.5094218818655452\n"
     ]
    },
    {
     "name": "stderr",
     "output_type": "stream",
     "text": [
      "/Library/Frameworks/Python.framework/Versions/3.9/lib/python3.9/site-packages/sklearn/base.py:441: UserWarning: X does not have valid feature names, but KNeighborsClassifier was fitted with feature names\n",
      "  warnings.warn(\n",
      "/Library/Frameworks/Python.framework/Versions/3.9/lib/python3.9/site-packages/sklearn/base.py:441: UserWarning: X does not have valid feature names, but KNeighborsClassifier was fitted with feature names\n",
      "  warnings.warn(\n",
      "/Library/Frameworks/Python.framework/Versions/3.9/lib/python3.9/site-packages/sklearn/base.py:441: UserWarning: X does not have valid feature names, but KNeighborsClassifier was fitted with feature names\n",
      "  warnings.warn(\n",
      "/Library/Frameworks/Python.framework/Versions/3.9/lib/python3.9/site-packages/sklearn/base.py:441: UserWarning: X does not have valid feature names, but KNeighborsClassifier was fitted with feature names\n",
      "  warnings.warn(\n",
      "/Library/Frameworks/Python.framework/Versions/3.9/lib/python3.9/site-packages/sklearn/base.py:441: UserWarning: X does not have valid feature names, but KNeighborsClassifier was fitted with feature names\n",
      "  warnings.warn(\n"
     ]
    }
   ],
   "source": [
    "# KNN\n",
    "knn = KNeighborsClassifier()\n",
    "cv = cross_val_score(knn,X_train,y_train,cv=5)\n",
    "print(cv)\n",
    "print(cv.mean())"
   ],
   "metadata": {
    "collapsed": false,
    "pycharm": {
     "name": "#%%\n"
    }
   }
  },
  {
   "cell_type": "code",
   "execution_count": 128,
   "outputs": [
    {
     "name": "stdout",
     "output_type": "stream",
     "text": [
      "[0.69832402 0.80898876 0.87078652 0.79775281 0.83707865]\n",
      "0.8025861527838805\n"
     ]
    }
   ],
   "source": [
    "# Random Forest\n",
    "rf = RandomForestClassifier(random_state = 1)\n",
    "cv = cross_val_score(rf,X_train,y_train,cv=5)\n",
    "print(cv)\n",
    "print(cv.mean())"
   ],
   "metadata": {
    "collapsed": false,
    "pycharm": {
     "name": "#%%\n"
    }
   }
  },
  {
   "cell_type": "code",
   "execution_count": 129,
   "outputs": [
    {
     "name": "stdout",
     "output_type": "stream",
     "text": [
      "[0.61452514 0.61797753 0.61797753 0.61797753 0.61235955]\n",
      "0.6161634548992531\n"
     ]
    }
   ],
   "source": [
    "# SVC\n",
    "svc = SVC(probability = True)\n",
    "cv = cross_val_score(svc,X_train,y_train,cv=5)\n",
    "print(cv)\n",
    "print(cv.mean())"
   ],
   "metadata": {
    "collapsed": false,
    "pycharm": {
     "name": "#%%\n"
    }
   }
  },
  {
   "cell_type": "code",
   "execution_count": 130,
   "outputs": [],
   "source": [
    "# XGBoost excude as it does not run on this machine right now\n",
    "#xgb = XGBClassifier(random_state =1)\n",
    "#cv = cross_val_score(xgb,X_train,y_train,cv=5)\n",
    "#print(cv)\n",
    "#print(cv.mean())"
   ],
   "metadata": {
    "collapsed": false,
    "pycharm": {
     "name": "#%%\n"
    }
   }
  },
  {
   "cell_type": "code",
   "execution_count": 131,
   "outputs": [],
   "source": [
    "#Voting classifier takes all of the inputs and averages the results. For a \"hard\" voting classifier each classifier gets 1 vote \"yes\" or \"no\" and the result is just a popular vote. For this, you generally want odd numbers\n",
    "#A \"soft\" classifier averages the confidence of each of the models. If a the average confidence is > 50% that it is a 1 it will be counted as such\n",
    "voting_clf = VotingClassifier(estimators = [('lr',lr),('knn',knn),('rf',rf),('gnb',gnb),('svc',svc)], voting = 'soft')"
   ],
   "metadata": {
    "collapsed": false,
    "pycharm": {
     "name": "#%%\n"
    }
   }
  },
  {
   "cell_type": "code",
   "execution_count": 132,
   "outputs": [
    {
     "name": "stderr",
     "output_type": "stream",
     "text": [
      "/Library/Frameworks/Python.framework/Versions/3.9/lib/python3.9/site-packages/sklearn/base.py:441: UserWarning: X does not have valid feature names, but KNeighborsClassifier was fitted with feature names\n",
      "  warnings.warn(\n",
      "/Library/Frameworks/Python.framework/Versions/3.9/lib/python3.9/site-packages/sklearn/base.py:441: UserWarning: X does not have valid feature names, but KNeighborsClassifier was fitted with feature names\n",
      "  warnings.warn(\n",
      "/Library/Frameworks/Python.framework/Versions/3.9/lib/python3.9/site-packages/sklearn/base.py:441: UserWarning: X does not have valid feature names, but KNeighborsClassifier was fitted with feature names\n",
      "  warnings.warn(\n",
      "/Library/Frameworks/Python.framework/Versions/3.9/lib/python3.9/site-packages/sklearn/base.py:441: UserWarning: X does not have valid feature names, but KNeighborsClassifier was fitted with feature names\n",
      "  warnings.warn(\n"
     ]
    },
    {
     "name": "stdout",
     "output_type": "stream",
     "text": [
      "[0.67039106 0.79213483 0.8258427  0.80337079 0.82022472]\n",
      "0.7823928190320759\n"
     ]
    },
    {
     "name": "stderr",
     "output_type": "stream",
     "text": [
      "/Library/Frameworks/Python.framework/Versions/3.9/lib/python3.9/site-packages/sklearn/base.py:441: UserWarning: X does not have valid feature names, but KNeighborsClassifier was fitted with feature names\n",
      "  warnings.warn(\n"
     ]
    }
   ],
   "source": [
    "cv = cross_val_score(voting_clf,X_train,y_train,cv=5)\n",
    "print(cv)\n",
    "print(cv.mean())"
   ],
   "metadata": {
    "collapsed": false,
    "pycharm": {
     "name": "#%%\n"
    }
   }
  },
  {
   "cell_type": "markdown",
   "source": [
    "**Training Summary:**\n",
    "- Baysian 79.46%\n",
    "- Logistic 80.92%\n",
    "- Decision Tree 81.93%\n",
    "- KNN 50.94%\n",
    "- Support Vector Classifier 61.62%\n",
    "- XGBoost not available\n",
    "- Soft Voting Classifier: 78.24%\n",
    "\n",
    "It's entirely possible that some of the models are overtrained. So we need to try to predict with test data and submit in order to get the correct ranking."
   ],
   "metadata": {
    "collapsed": false,
    "pycharm": {
     "name": "#%% md\n"
    }
   }
  },
  {
   "cell_type": "code",
   "execution_count": 141,
   "outputs": [
    {
     "name": "stdout",
     "output_type": "stream",
     "text": [
      "Your Baysian submission was successfuly saved!\n"
     ]
    }
   ],
   "source": [
    "# Baysian Initial Submission\n",
    "gnb.fit(X_train, y_train)\n",
    "gnb_cv = gnb.predict(X_test).astype(int)\n",
    "gnb_submission = pd.DataFrame({'PassengerId': X_test.PassengerId, 'Survived': gnb_cv})\n",
    "gnb_submission.to_csv('my_submission_baysian_1.csv', index=False)\n",
    "print('Your Baysian submission was successfuly saved!')"
   ],
   "metadata": {
    "collapsed": false,
    "pycharm": {
     "name": "#%%\n"
    }
   }
  },
  {
   "cell_type": "code",
   "execution_count": 137,
   "outputs": [
    {
     "name": "stdout",
     "output_type": "stream",
     "text": [
      "Your Decision Tree submission was successfully saved!\n"
     ]
    }
   ],
   "source": [
    "# Decision Tree Initial Submission\n",
    "dt.fit(X_train,y_train)\n",
    "dt_vc = dt.predict(X_test).astype(int)\n",
    "dt_submission = pd.DataFrame({'PassengerId': X_test.PassengerId, 'Survived': dt_vc})\n",
    "dt_submission.to_csv('my_submission_decision_tree_1.csv', index=False)\n",
    "print(\"Your Decision Tree submission was successfully saved!\")"
   ],
   "metadata": {
    "collapsed": false,
    "pycharm": {
     "name": "#%%\n"
    }
   }
  },
  {
   "cell_type": "code",
   "execution_count": 138,
   "outputs": [
    {
     "name": "stdout",
     "output_type": "stream",
     "text": [
      "Your Random Forest submission was successfully saved!\n"
     ]
    }
   ],
   "source": [
    "# Random Forest Initial Submission\n",
    "rf.fit(X_train,y_train)\n",
    "rf_vc = rf.predict(X_test).astype(int)\n",
    "rf_submission = pd.DataFrame({'PassengerId': X_test.PassengerId, 'Survived': rf_vc})\n",
    "rf_submission.to_csv('my_submission_random_forest_x.csv',index=False)\n",
    "print('Your Random Forest submission was successfully saved!')"
   ],
   "metadata": {
    "collapsed": false,
    "pycharm": {
     "name": "#%%\n"
    }
   }
  },
  {
   "cell_type": "code",
   "execution_count": 139,
   "outputs": [
    {
     "name": "stdout",
     "output_type": "stream",
     "text": [
      "Your Logistic Regression submission was successfully saved!\n"
     ]
    }
   ],
   "source": [
    "# Logistic Regression Initial Submission\n",
    "lr.fit(X_train,y_train)\n",
    "lr_vc = lr.predict(X_test).astype(int)\n",
    "lr_submission = pd.DataFrame({'PassengerId': X_test.PassengerId, 'Survived': lr_vc})\n",
    "lr_submission.to_csv('my_submission_logistic_regression_x.csv',index=False)\n",
    "print('Your Logistic Regression submission was successfully saved!')"
   ],
   "metadata": {
    "collapsed": false,
    "pycharm": {
     "name": "#%%\n"
    }
   }
  },
  {
   "cell_type": "code",
   "execution_count": 140,
   "outputs": [
    {
     "name": "stdout",
     "output_type": "stream",
     "text": [
      "Your Voting Classifier submission was successfully saved!\n"
     ]
    },
    {
     "name": "stderr",
     "output_type": "stream",
     "text": [
      "/Library/Frameworks/Python.framework/Versions/3.9/lib/python3.9/site-packages/sklearn/base.py:441: UserWarning: X does not have valid feature names, but KNeighborsClassifier was fitted with feature names\n",
      "  warnings.warn(\n"
     ]
    }
   ],
   "source": [
    "# Voting Regressor Initial Submission\n",
    "voting_clf.fit(X_train,y_train)\n",
    "voting_clf_cv = voting_clf.predict(X_test).astype(int)\n",
    "voting_clf_submission = pd.DataFrame({'PassengerId': X_test.PassengerId, 'Survived': voting_clf_cv})\n",
    "voting_clf_submission.to_csv('my_submission_voting_classifier_x.csv',index=False)\n",
    "print('Your Voting Classifier submission was successfully saved!')"
   ],
   "metadata": {
    "collapsed": false,
    "pycharm": {
     "name": "#%%\n"
    }
   }
  },
  {
   "cell_type": "markdown",
   "source": [
    "### Model Feature Engineering\n",
    "The model that currently gives us the best actual prediction (not training) from this notebook is the voting classifier at 78.23%, followed by Decision Tree and Logistic Regression both at 76.55%. Random Forest at 75.60% and Baysian at 75.36%"
   ],
   "metadata": {
    "collapsed": false,
    "pycharm": {
     "name": "#%% md\n"
    }
   }
  },
  {
   "cell_type": "code",
   "execution_count": 145,
   "outputs": [],
   "source": [
    "# create a function to report model performance\n",
    "def model_perf(classifier, model_name):\n",
    "    print(model_name)\n",
    "    print('Top Score: '+ str(classifier.best_score_))\n",
    "    print('Best Hyperparameters' + str(classifier.best_params_))"
   ],
   "metadata": {
    "collapsed": false,
    "pycharm": {
     "name": "#%%\n"
    }
   }
  },
  {
   "cell_type": "code",
   "execution_count": 147,
   "outputs": [
    {
     "name": "stdout",
     "output_type": "stream",
     "text": [
      "Fitting 5 folds for each of 40 candidates, totalling 200 fits\n",
      "Logistic Regression\n",
      "Top Score: 0.8126106333563492\n",
      "Best Hyperparameters{'C': 0.03359818286283781, 'max_iter': 2000, 'penalty': 'l2', 'solver': 'liblinear'}\n"
     ]
    }
   ],
   "source": [
    "# Logistic Regressor Tuning\n",
    "lr_t = LogisticRegression()\n",
    "lr_param_dict = {'max_iter': [2000],\n",
    "              'penalty': ['l1','l2'],\n",
    "              'C':np.logspace(-4,4,20),\n",
    "              'solver':['liblinear']}\n",
    "clf_lr_t = GridSearchCV(lr_t, param_grid = lr_param_dict, cv=5, verbose=True, n_jobs = -1)\n",
    "best_clf_lr_t = clf_lr_t.fit(X_train, y_train)\n",
    "model_perf(best_clf_lr_t, 'Logistic Regression')"
   ],
   "metadata": {
    "collapsed": false,
    "pycharm": {
     "name": "#%%\n"
    }
   }
  },
  {
   "cell_type": "code",
   "execution_count": 150,
   "outputs": [
    {
     "name": "stdout",
     "output_type": "stream",
     "text": [
      "Your Logistic Regressor Tuned submission was successfully saved!\n"
     ]
    }
   ],
   "source": [
    "best_lr_t = LogisticRegression(max_iter=2000, penalty='l2', C=0.0335981286283781, solver='liblinear')\n",
    "best_lr_t.fit(X_train,y_train)\n",
    "best_lr_t_cv = best_lr_t.predict(X_test).astype(int)\n",
    "best_lr_submission = pd.DataFrame({'PassengerId':X_test.PassengerId, 'Survived':best_lr_t_cv})\n",
    "best_lr_submission.to_csv('my_submission_logistic_tuned_2.csv', index=False)\n",
    "print('Your Logistic Regressor Tuned submission was successfully saved!')"
   ],
   "metadata": {
    "collapsed": false,
    "pycharm": {
     "name": "#%%\n"
    }
   }
  },
  {
   "cell_type": "code",
   "execution_count": null,
   "outputs": [],
   "source": [
    "#lr = LogisticRegression(max_iter = 2000)\n",
    "cv = cross_val_score(lr,X_train,y_train,cv=5)"
   ],
   "metadata": {
    "collapsed": false,
    "pycharm": {
     "name": "#%%\n"
    }
   }
  }
 ],
 "metadata": {
  "kernelspec": {
   "display_name": "Python 3",
   "language": "python",
   "name": "python3"
  },
  "language_info": {
   "codemirror_mode": {
    "name": "ipython",
    "version": 2
   },
   "file_extension": ".py",
   "mimetype": "text/x-python",
   "name": "python",
   "nbconvert_exporter": "python",
   "pygments_lexer": "ipython2",
   "version": "2.7.6"
  }
 },
 "nbformat": 4,
 "nbformat_minor": 0
}