{
 "cells": [
  {
   "cell_type": "markdown",
   "id": "23c12bf8",
   "metadata": {
    "papermill": {
     "duration": 0.036319,
     "end_time": "2021-09-28T22:53:15.086993",
     "exception": false,
     "start_time": "2021-09-28T22:53:15.050674",
     "status": "completed"
    },
    "tags": []
   },
   "source": [
    "**This notebook is an exercise in the [Intermediate Machine Learning](https://www.kaggle.com/learn/intermediate-machine-learning) course.  You can reference the tutorial at [this link](https://www.kaggle.com/alexisbcook/categorical-variables).**\n",
    "\n",
    "---\n"
   ]
  },
  {
   "cell_type": "markdown",
   "id": "be8f8aac",
   "metadata": {
    "papermill": {
     "duration": 0.031794,
     "end_time": "2021-09-28T22:53:15.153051",
     "exception": false,
     "start_time": "2021-09-28T22:53:15.121257",
     "status": "completed"
    },
    "tags": []
   },
   "source": [
    "By encoding **categorical variables**, you'll obtain your best results thus far!\n",
    "\n",
    "# Setup\n",
    "\n",
    "The questions below will give you feedback on your work. Run the following cell to set up the feedback system."
   ]
  },
  {
   "cell_type": "code",
   "execution_count": 1,
   "id": "c96e163b",
   "metadata": {
    "execution": {
     "iopub.execute_input": "2021-09-28T22:53:15.232840Z",
     "iopub.status.busy": "2021-09-28T22:53:15.231662Z",
     "iopub.status.idle": "2021-09-28T22:53:15.286593Z",
     "shell.execute_reply": "2021-09-28T22:53:15.287208Z",
     "shell.execute_reply.started": "2021-09-28T22:39:30.197234Z"
    },
    "papermill": {
     "duration": 0.098687,
     "end_time": "2021-09-28T22:53:15.287478",
     "exception": false,
     "start_time": "2021-09-28T22:53:15.188791",
     "status": "completed"
    },
    "tags": []
   },
   "outputs": [
    {
     "name": "stdout",
     "output_type": "stream",
     "text": [
      "Setup Complete\n"
     ]
    }
   ],
   "source": [
    "# Set up code checking\n",
    "import os\n",
    "if not os.path.exists(\"../input/train.csv\"):\n",
    "    os.symlink(\"../input/home-data-for-ml-course/train.csv\", \"../input/train.csv\")  \n",
    "    os.symlink(\"../input/home-data-for-ml-course/test.csv\", \"../input/test.csv\") \n",
    "from learntools.core import binder\n",
    "binder.bind(globals())\n",
    "from learntools.ml_intermediate.ex3 import *\n",
    "print(\"Setup Complete\")"
   ]
  },
  {
   "cell_type": "markdown",
   "id": "0a4f7561",
   "metadata": {
    "papermill": {
     "duration": 0.03254,
     "end_time": "2021-09-28T22:53:15.353603",
     "exception": false,
     "start_time": "2021-09-28T22:53:15.321063",
     "status": "completed"
    },
    "tags": []
   },
   "source": [
    "In this exercise, you will work with data from the [Housing Prices Competition for Kaggle Learn Users](https://www.kaggle.com/c/home-data-for-ml-course). \n",
    "\n",
    "![Ames Housing dataset image](https://i.imgur.com/lTJVG4e.png)\n",
    "\n",
    "Run the next code cell without changes to load the training and validation sets in `X_train`, `X_valid`, `y_train`, and `y_valid`.  The test set is loaded in `X_test`."
   ]
  },
  {
   "cell_type": "code",
   "execution_count": 2,
   "id": "0a323ea2",
   "metadata": {
    "execution": {
     "iopub.execute_input": "2021-09-28T22:53:15.427980Z",
     "iopub.status.busy": "2021-09-28T22:53:15.427123Z",
     "iopub.status.idle": "2021-09-28T22:53:16.381132Z",
     "shell.execute_reply": "2021-09-28T22:53:16.380529Z",
     "shell.execute_reply.started": "2021-09-28T22:39:30.216528Z"
    },
    "papermill": {
     "duration": 0.994843,
     "end_time": "2021-09-28T22:53:16.381270",
     "exception": false,
     "start_time": "2021-09-28T22:53:15.386427",
     "status": "completed"
    },
    "tags": []
   },
   "outputs": [],
   "source": [
    "import pandas as pd\n",
    "from sklearn.model_selection import train_test_split\n",
    "\n",
    "# Read the data\n",
    "X = pd.read_csv('../input/train.csv', index_col='Id') \n",
    "X_test = pd.read_csv('../input/test.csv', index_col='Id')\n",
    "\n",
    "# Remove rows with missing target, separate target from predictors\n",
    "X.dropna(axis=0, subset=['SalePrice'], inplace=True)\n",
    "y = X.SalePrice\n",
    "X.drop(['SalePrice'], axis=1, inplace=True)\n",
    "\n",
    "# To keep things simple, we'll drop columns with missing values\n",
    "cols_with_missing = [col for col in X.columns if X[col].isnull().any()] \n",
    "X.drop(cols_with_missing, axis=1, inplace=True)\n",
    "X_test.drop(cols_with_missing, axis=1, inplace=True)\n",
    "\n",
    "# Break off validation set from training data\n",
    "X_train, X_valid, y_train, y_valid = train_test_split(X, y,\n",
    "                                                      train_size=0.8, test_size=0.2,\n",
    "                                                      random_state=0)"
   ]
  },
  {
   "cell_type": "markdown",
   "id": "cf5d3b7f",
   "metadata": {
    "papermill": {
     "duration": 0.032903,
     "end_time": "2021-09-28T22:53:16.447245",
     "exception": false,
     "start_time": "2021-09-28T22:53:16.414342",
     "status": "completed"
    },
    "tags": []
   },
   "source": [
    "Use the next code cell to print the first five rows of the data."
   ]
  },
  {
   "cell_type": "code",
   "execution_count": 3,
   "id": "76e0cc20",
   "metadata": {
    "execution": {
     "iopub.execute_input": "2021-09-28T22:53:16.525189Z",
     "iopub.status.busy": "2021-09-28T22:53:16.524567Z",
     "iopub.status.idle": "2021-09-28T22:53:16.545898Z",
     "shell.execute_reply": "2021-09-28T22:53:16.546390Z",
     "shell.execute_reply.started": "2021-09-28T22:39:30.322158Z"
    },
    "papermill": {
     "duration": 0.064804,
     "end_time": "2021-09-28T22:53:16.546546",
     "exception": false,
     "start_time": "2021-09-28T22:53:16.481742",
     "status": "completed"
    },
    "tags": []
   },
   "outputs": [
    {
     "data": {
      "text/html": [
       "<div>\n",
       "<style scoped>\n",
       "    .dataframe tbody tr th:only-of-type {\n",
       "        vertical-align: middle;\n",
       "    }\n",
       "\n",
       "    .dataframe tbody tr th {\n",
       "        vertical-align: top;\n",
       "    }\n",
       "\n",
       "    .dataframe thead th {\n",
       "        text-align: right;\n",
       "    }\n",
       "</style>\n",
       "<table border=\"1\" class=\"dataframe\">\n",
       "  <thead>\n",
       "    <tr style=\"text-align: right;\">\n",
       "      <th></th>\n",
       "      <th>MSSubClass</th>\n",
       "      <th>MSZoning</th>\n",
       "      <th>LotArea</th>\n",
       "      <th>Street</th>\n",
       "      <th>LotShape</th>\n",
       "      <th>LandContour</th>\n",
       "      <th>Utilities</th>\n",
       "      <th>LotConfig</th>\n",
       "      <th>LandSlope</th>\n",
       "      <th>Neighborhood</th>\n",
       "      <th>...</th>\n",
       "      <th>OpenPorchSF</th>\n",
       "      <th>EnclosedPorch</th>\n",
       "      <th>3SsnPorch</th>\n",
       "      <th>ScreenPorch</th>\n",
       "      <th>PoolArea</th>\n",
       "      <th>MiscVal</th>\n",
       "      <th>MoSold</th>\n",
       "      <th>YrSold</th>\n",
       "      <th>SaleType</th>\n",
       "      <th>SaleCondition</th>\n",
       "    </tr>\n",
       "    <tr>\n",
       "      <th>Id</th>\n",
       "      <th></th>\n",
       "      <th></th>\n",
       "      <th></th>\n",
       "      <th></th>\n",
       "      <th></th>\n",
       "      <th></th>\n",
       "      <th></th>\n",
       "      <th></th>\n",
       "      <th></th>\n",
       "      <th></th>\n",
       "      <th></th>\n",
       "      <th></th>\n",
       "      <th></th>\n",
       "      <th></th>\n",
       "      <th></th>\n",
       "      <th></th>\n",
       "      <th></th>\n",
       "      <th></th>\n",
       "      <th></th>\n",
       "      <th></th>\n",
       "      <th></th>\n",
       "    </tr>\n",
       "  </thead>\n",
       "  <tbody>\n",
       "    <tr>\n",
       "      <th>619</th>\n",
       "      <td>20</td>\n",
       "      <td>RL</td>\n",
       "      <td>11694</td>\n",
       "      <td>Pave</td>\n",
       "      <td>Reg</td>\n",
       "      <td>Lvl</td>\n",
       "      <td>AllPub</td>\n",
       "      <td>Inside</td>\n",
       "      <td>Gtl</td>\n",
       "      <td>NridgHt</td>\n",
       "      <td>...</td>\n",
       "      <td>108</td>\n",
       "      <td>0</td>\n",
       "      <td>0</td>\n",
       "      <td>260</td>\n",
       "      <td>0</td>\n",
       "      <td>0</td>\n",
       "      <td>7</td>\n",
       "      <td>2007</td>\n",
       "      <td>New</td>\n",
       "      <td>Partial</td>\n",
       "    </tr>\n",
       "    <tr>\n",
       "      <th>871</th>\n",
       "      <td>20</td>\n",
       "      <td>RL</td>\n",
       "      <td>6600</td>\n",
       "      <td>Pave</td>\n",
       "      <td>Reg</td>\n",
       "      <td>Lvl</td>\n",
       "      <td>AllPub</td>\n",
       "      <td>Inside</td>\n",
       "      <td>Gtl</td>\n",
       "      <td>NAmes</td>\n",
       "      <td>...</td>\n",
       "      <td>0</td>\n",
       "      <td>0</td>\n",
       "      <td>0</td>\n",
       "      <td>0</td>\n",
       "      <td>0</td>\n",
       "      <td>0</td>\n",
       "      <td>8</td>\n",
       "      <td>2009</td>\n",
       "      <td>WD</td>\n",
       "      <td>Normal</td>\n",
       "    </tr>\n",
       "    <tr>\n",
       "      <th>93</th>\n",
       "      <td>30</td>\n",
       "      <td>RL</td>\n",
       "      <td>13360</td>\n",
       "      <td>Pave</td>\n",
       "      <td>IR1</td>\n",
       "      <td>HLS</td>\n",
       "      <td>AllPub</td>\n",
       "      <td>Inside</td>\n",
       "      <td>Gtl</td>\n",
       "      <td>Crawfor</td>\n",
       "      <td>...</td>\n",
       "      <td>0</td>\n",
       "      <td>44</td>\n",
       "      <td>0</td>\n",
       "      <td>0</td>\n",
       "      <td>0</td>\n",
       "      <td>0</td>\n",
       "      <td>8</td>\n",
       "      <td>2009</td>\n",
       "      <td>WD</td>\n",
       "      <td>Normal</td>\n",
       "    </tr>\n",
       "    <tr>\n",
       "      <th>818</th>\n",
       "      <td>20</td>\n",
       "      <td>RL</td>\n",
       "      <td>13265</td>\n",
       "      <td>Pave</td>\n",
       "      <td>IR1</td>\n",
       "      <td>Lvl</td>\n",
       "      <td>AllPub</td>\n",
       "      <td>CulDSac</td>\n",
       "      <td>Gtl</td>\n",
       "      <td>Mitchel</td>\n",
       "      <td>...</td>\n",
       "      <td>59</td>\n",
       "      <td>0</td>\n",
       "      <td>0</td>\n",
       "      <td>0</td>\n",
       "      <td>0</td>\n",
       "      <td>0</td>\n",
       "      <td>7</td>\n",
       "      <td>2008</td>\n",
       "      <td>WD</td>\n",
       "      <td>Normal</td>\n",
       "    </tr>\n",
       "    <tr>\n",
       "      <th>303</th>\n",
       "      <td>20</td>\n",
       "      <td>RL</td>\n",
       "      <td>13704</td>\n",
       "      <td>Pave</td>\n",
       "      <td>IR1</td>\n",
       "      <td>Lvl</td>\n",
       "      <td>AllPub</td>\n",
       "      <td>Corner</td>\n",
       "      <td>Gtl</td>\n",
       "      <td>CollgCr</td>\n",
       "      <td>...</td>\n",
       "      <td>81</td>\n",
       "      <td>0</td>\n",
       "      <td>0</td>\n",
       "      <td>0</td>\n",
       "      <td>0</td>\n",
       "      <td>0</td>\n",
       "      <td>1</td>\n",
       "      <td>2006</td>\n",
       "      <td>WD</td>\n",
       "      <td>Normal</td>\n",
       "    </tr>\n",
       "  </tbody>\n",
       "</table>\n",
       "<p>5 rows × 60 columns</p>\n",
       "</div>"
      ],
      "text/plain": [
       "     MSSubClass MSZoning  LotArea Street LotShape LandContour Utilities  \\\n",
       "Id                                                                        \n",
       "619          20       RL    11694   Pave      Reg         Lvl    AllPub   \n",
       "871          20       RL     6600   Pave      Reg         Lvl    AllPub   \n",
       "93           30       RL    13360   Pave      IR1         HLS    AllPub   \n",
       "818          20       RL    13265   Pave      IR1         Lvl    AllPub   \n",
       "303          20       RL    13704   Pave      IR1         Lvl    AllPub   \n",
       "\n",
       "    LotConfig LandSlope Neighborhood  ... OpenPorchSF EnclosedPorch 3SsnPorch  \\\n",
       "Id                                    ...                                       \n",
       "619    Inside       Gtl      NridgHt  ...         108             0         0   \n",
       "871    Inside       Gtl        NAmes  ...           0             0         0   \n",
       "93     Inside       Gtl      Crawfor  ...           0            44         0   \n",
       "818   CulDSac       Gtl      Mitchel  ...          59             0         0   \n",
       "303    Corner       Gtl      CollgCr  ...          81             0         0   \n",
       "\n",
       "    ScreenPorch  PoolArea  MiscVal  MoSold  YrSold SaleType SaleCondition  \n",
       "Id                                                                         \n",
       "619         260         0        0       7    2007      New       Partial  \n",
       "871           0         0        0       8    2009       WD        Normal  \n",
       "93            0         0        0       8    2009       WD        Normal  \n",
       "818           0         0        0       7    2008       WD        Normal  \n",
       "303           0         0        0       1    2006       WD        Normal  \n",
       "\n",
       "[5 rows x 60 columns]"
      ]
     },
     "execution_count": 3,
     "metadata": {},
     "output_type": "execute_result"
    }
   ],
   "source": [
    "X_train.head()"
   ]
  },
  {
   "cell_type": "markdown",
   "id": "ef8b0b68",
   "metadata": {
    "papermill": {
     "duration": 0.033431,
     "end_time": "2021-09-28T22:53:16.613990",
     "exception": false,
     "start_time": "2021-09-28T22:53:16.580559",
     "status": "completed"
    },
    "tags": []
   },
   "source": [
    "Notice that the dataset contains both numerical and categorical variables.  You'll need to encode the categorical data before training a model.\n",
    "\n",
    "To compare different models, you'll use the same `score_dataset()` function from the tutorial.  This function reports the [mean absolute error](https://en.wikipedia.org/wiki/Mean_absolute_error) (MAE) from a random forest model."
   ]
  },
  {
   "cell_type": "code",
   "execution_count": 4,
   "id": "05cc9d5e",
   "metadata": {
    "execution": {
     "iopub.execute_input": "2021-09-28T22:53:16.687350Z",
     "iopub.status.busy": "2021-09-28T22:53:16.686561Z",
     "iopub.status.idle": "2021-09-28T22:53:16.866267Z",
     "shell.execute_reply": "2021-09-28T22:53:16.866802Z",
     "shell.execute_reply.started": "2021-09-28T22:39:30.350531Z"
    },
    "papermill": {
     "duration": 0.219431,
     "end_time": "2021-09-28T22:53:16.867015",
     "exception": false,
     "start_time": "2021-09-28T22:53:16.647584",
     "status": "completed"
    },
    "tags": []
   },
   "outputs": [],
   "source": [
    "from sklearn.ensemble import RandomForestRegressor\n",
    "from sklearn.metrics import mean_absolute_error\n",
    "\n",
    "# function for comparing different approaches\n",
    "def score_dataset(X_train, X_valid, y_train, y_valid):\n",
    "    model = RandomForestRegressor(n_estimators=100, random_state=0)\n",
    "    model.fit(X_train, y_train)\n",
    "    preds = model.predict(X_valid)\n",
    "    return mean_absolute_error(y_valid, preds)"
   ]
  },
  {
   "cell_type": "markdown",
   "id": "f535caeb",
   "metadata": {
    "papermill": {
     "duration": 0.03392,
     "end_time": "2021-09-28T22:53:16.936382",
     "exception": false,
     "start_time": "2021-09-28T22:53:16.902462",
     "status": "completed"
    },
    "tags": []
   },
   "source": [
    "# Step 1: Drop columns with categorical data\n",
    "\n",
    "You'll get started with the most straightforward approach.  Use the code cell below to preprocess the data in `X_train` and `X_valid` to remove columns with categorical data.  Set the preprocessed DataFrames to `drop_X_train` and `drop_X_valid`, respectively.  "
   ]
  },
  {
   "cell_type": "code",
   "execution_count": 5,
   "id": "695a5e83",
   "metadata": {
    "execution": {
     "iopub.execute_input": "2021-09-28T22:53:17.015640Z",
     "iopub.status.busy": "2021-09-28T22:53:17.015007Z",
     "iopub.status.idle": "2021-09-28T22:53:17.018573Z",
     "shell.execute_reply": "2021-09-28T22:53:17.019083Z",
     "shell.execute_reply.started": "2021-09-28T22:39:30.364675Z"
    },
    "papermill": {
     "duration": 0.048329,
     "end_time": "2021-09-28T22:53:17.019241",
     "exception": false,
     "start_time": "2021-09-28T22:53:16.970912",
     "status": "completed"
    },
    "tags": []
   },
   "outputs": [
    {
     "data": {
      "application/javascript": [
       "parent.postMessage({\"jupyterEvent\": \"custom.exercise_interaction\", \"data\": {\"outcomeType\": 1, \"valueTowardsCompletion\": 0.5, \"interactionType\": 1, \"questionType\": 2, \"questionId\": \"1_Drop\", \"learnToolsVersion\": \"0.3.4\", \"failureMessage\": \"\", \"exceptionClass\": \"\", \"trace\": \"\"}}, \"*\")"
      ],
      "text/plain": [
       "<IPython.core.display.Javascript object>"
      ]
     },
     "metadata": {},
     "output_type": "display_data"
    },
    {
     "data": {
      "text/markdown": [
       "<span style=\"color:#33cc33\">Correct</span>"
      ],
      "text/plain": [
       "Correct"
      ]
     },
     "metadata": {},
     "output_type": "display_data"
    }
   ],
   "source": [
    "# Fill in the lines below: drop columns in training and validation data\n",
    "\n",
    "drop_X_train = X_train.select_dtypes(exclude=['object'])\n",
    "drop_X_valid = X_valid.select_dtypes(exclude=['object'])\n",
    "\n",
    "# Check your answers\n",
    "step_1.check()"
   ]
  },
  {
   "cell_type": "code",
   "execution_count": 6,
   "id": "0e95f204",
   "metadata": {
    "execution": {
     "iopub.execute_input": "2021-09-28T22:53:17.091119Z",
     "iopub.status.busy": "2021-09-28T22:53:17.090478Z",
     "iopub.status.idle": "2021-09-28T22:53:17.093153Z",
     "shell.execute_reply": "2021-09-28T22:53:17.093663Z",
     "shell.execute_reply.started": "2021-09-28T22:39:30.385990Z"
    },
    "papermill": {
     "duration": 0.040337,
     "end_time": "2021-09-28T22:53:17.093809",
     "exception": false,
     "start_time": "2021-09-28T22:53:17.053472",
     "status": "completed"
    },
    "tags": []
   },
   "outputs": [],
   "source": [
    "# Lines below will give you a hint or solution code\n",
    "#step_1.hint()\n",
    "#step_1.solution()"
   ]
  },
  {
   "cell_type": "markdown",
   "id": "7b93705d",
   "metadata": {
    "papermill": {
     "duration": 0.03413,
     "end_time": "2021-09-28T22:53:17.162843",
     "exception": false,
     "start_time": "2021-09-28T22:53:17.128713",
     "status": "completed"
    },
    "tags": []
   },
   "source": [
    "Run the next code cell to get the MAE for this approach."
   ]
  },
  {
   "cell_type": "code",
   "execution_count": 7,
   "id": "d775cd6f",
   "metadata": {
    "execution": {
     "iopub.execute_input": "2021-09-28T22:53:17.235422Z",
     "iopub.status.busy": "2021-09-28T22:53:17.234801Z",
     "iopub.status.idle": "2021-09-28T22:53:18.451642Z",
     "shell.execute_reply": "2021-09-28T22:53:18.451093Z",
     "shell.execute_reply.started": "2021-09-28T22:39:30.395627Z"
    },
    "papermill": {
     "duration": 1.254154,
     "end_time": "2021-09-28T22:53:18.451780",
     "exception": false,
     "start_time": "2021-09-28T22:53:17.197626",
     "status": "completed"
    },
    "tags": []
   },
   "outputs": [
    {
     "name": "stdout",
     "output_type": "stream",
     "text": [
      "MAE from Approach 1 (Drop categorical variables):\n",
      "17837.82570776256\n"
     ]
    }
   ],
   "source": [
    "print(\"MAE from Approach 1 (Drop categorical variables):\")\n",
    "print(score_dataset(drop_X_train, drop_X_valid, y_train, y_valid))"
   ]
  },
  {
   "cell_type": "markdown",
   "id": "0b7f9c57",
   "metadata": {
    "papermill": {
     "duration": 0.034936,
     "end_time": "2021-09-28T22:53:18.521822",
     "exception": false,
     "start_time": "2021-09-28T22:53:18.486886",
     "status": "completed"
    },
    "tags": []
   },
   "source": [
    "Before jumping into ordinal encoding, we'll investigate the dataset.  Specifically, we'll look at the `'Condition2'` column.  The code cell below prints the unique entries in both the training and validation sets."
   ]
  },
  {
   "cell_type": "code",
   "execution_count": 8,
   "id": "85e53e77",
   "metadata": {
    "execution": {
     "iopub.execute_input": "2021-09-28T22:53:18.597171Z",
     "iopub.status.busy": "2021-09-28T22:53:18.596587Z",
     "iopub.status.idle": "2021-09-28T22:53:18.598828Z",
     "shell.execute_reply": "2021-09-28T22:53:18.599411Z",
     "shell.execute_reply.started": "2021-09-28T22:39:31.656020Z"
    },
    "papermill": {
     "duration": 0.043047,
     "end_time": "2021-09-28T22:53:18.599578",
     "exception": false,
     "start_time": "2021-09-28T22:53:18.556531",
     "status": "completed"
    },
    "tags": []
   },
   "outputs": [
    {
     "name": "stdout",
     "output_type": "stream",
     "text": [
      "Unique values in 'Condition2' column in training data: ['Norm' 'PosA' 'Feedr' 'PosN' 'Artery' 'RRAe']\n",
      "\n",
      "Unique values in 'Condition2' column in validation data: ['Norm' 'RRAn' 'RRNn' 'Artery' 'Feedr' 'PosN']\n"
     ]
    }
   ],
   "source": [
    "print(\"Unique values in 'Condition2' column in training data:\", X_train['Condition2'].unique())\n",
    "print(\"\\nUnique values in 'Condition2' column in validation data:\", X_valid['Condition2'].unique())"
   ]
  },
  {
   "cell_type": "markdown",
   "id": "221e9c69",
   "metadata": {
    "papermill": {
     "duration": 0.035069,
     "end_time": "2021-09-28T22:53:18.669668",
     "exception": false,
     "start_time": "2021-09-28T22:53:18.634599",
     "status": "completed"
    },
    "tags": []
   },
   "source": [
    "# Step 2: Ordinal encoding\n",
    "\n",
    "### Part A\n",
    "\n",
    "If you now write code to: \n",
    "- fit an ordinal encoder to the training data, and then \n",
    "- use it to transform both the training and validation data, \n",
    "\n",
    "you'll get an error.  Can you see why this is the case?  (_You'll need  to use the above output to answer this question._)"
   ]
  },
  {
   "cell_type": "code",
   "execution_count": 9,
   "id": "e9995f37",
   "metadata": {
    "execution": {
     "iopub.execute_input": "2021-09-28T22:53:18.744430Z",
     "iopub.status.busy": "2021-09-28T22:53:18.743776Z",
     "iopub.status.idle": "2021-09-28T22:53:18.750062Z",
     "shell.execute_reply": "2021-09-28T22:53:18.750574Z",
     "shell.execute_reply.started": "2021-09-28T22:39:31.665872Z"
    },
    "papermill": {
     "duration": 0.045458,
     "end_time": "2021-09-28T22:53:18.750732",
     "exception": false,
     "start_time": "2021-09-28T22:53:18.705274",
     "status": "completed"
    },
    "tags": []
   },
   "outputs": [
    {
     "data": {
      "application/javascript": [
       "parent.postMessage({\"jupyterEvent\": \"custom.exercise_interaction\", \"data\": {\"outcomeType\": 1, \"valueTowardsCompletion\": 0.5, \"interactionType\": 1, \"questionType\": 4, \"questionId\": \"2.1_LabelA\", \"learnToolsVersion\": \"0.3.4\", \"failureMessage\": \"\", \"exceptionClass\": \"\", \"trace\": \"\"}}, \"*\")"
      ],
      "text/plain": [
       "<IPython.core.display.Javascript object>"
      ]
     },
     "metadata": {},
     "output_type": "display_data"
    },
    {
     "data": {
      "text/markdown": [
       "<span style=\"color:#33cc33\">Correct:</span> \n",
       "\n",
       "Fitting an ordinal encoder to a column in the training data creates a corresponding integer-valued label for each unique value **that appears in the training data**. In the case that the validation data contains values that don't also appear in the training data, the encoder will throw an error, because these values won't have an integer assigned to them.  Notice that the `'Condition2'` column in the validation data contains the values `'RRAn'` and `'RRNn'`, but these don't appear in the training data -- thus, if we try to use an ordinal encoder with scikit-learn, the code will throw an error."
      ],
      "text/plain": [
       "Correct: \n",
       "\n",
       "Fitting an ordinal encoder to a column in the training data creates a corresponding integer-valued label for each unique value **that appears in the training data**. In the case that the validation data contains values that don't also appear in the training data, the encoder will throw an error, because these values won't have an integer assigned to them.  Notice that the `'Condition2'` column in the validation data contains the values `'RRAn'` and `'RRNn'`, but these don't appear in the training data -- thus, if we try to use an ordinal encoder with scikit-learn, the code will throw an error."
      ]
     },
     "metadata": {},
     "output_type": "display_data"
    }
   ],
   "source": [
    "# Check your answer (Run this code cell to receive credit!)\n",
    "step_2.a.check()"
   ]
  },
  {
   "cell_type": "code",
   "execution_count": 10,
   "id": "7028ad67",
   "metadata": {
    "execution": {
     "iopub.execute_input": "2021-09-28T22:53:18.828159Z",
     "iopub.status.busy": "2021-09-28T22:53:18.826777Z",
     "iopub.status.idle": "2021-09-28T22:53:18.829799Z",
     "shell.execute_reply": "2021-09-28T22:53:18.830316Z",
     "shell.execute_reply.started": "2021-09-28T22:39:31.683885Z"
    },
    "papermill": {
     "duration": 0.042816,
     "end_time": "2021-09-28T22:53:18.830474",
     "exception": false,
     "start_time": "2021-09-28T22:53:18.787658",
     "status": "completed"
    },
    "tags": []
   },
   "outputs": [],
   "source": [
    "#step_2.a.hint()"
   ]
  },
  {
   "cell_type": "markdown",
   "id": "96153723",
   "metadata": {
    "papermill": {
     "duration": 0.036253,
     "end_time": "2021-09-28T22:53:18.902914",
     "exception": false,
     "start_time": "2021-09-28T22:53:18.866661",
     "status": "completed"
    },
    "tags": []
   },
   "source": [
    "This is a common problem that you'll encounter with real-world data, and there are many approaches to fixing this issue.  For instance, you can write a custom ordinal encoder to deal with new categories.  The simplest approach, however, is to drop the problematic categorical columns.  \n",
    "\n",
    "Run the code cell below to save the problematic columns to a Python list `bad_label_cols`.  Likewise, columns that can be safely ordinal encoded are stored in `good_label_cols`."
   ]
  },
  {
   "cell_type": "code",
   "execution_count": 11,
   "id": "2654d21f",
   "metadata": {
    "execution": {
     "iopub.execute_input": "2021-09-28T22:53:18.984027Z",
     "iopub.status.busy": "2021-09-28T22:53:18.983377Z",
     "iopub.status.idle": "2021-09-28T22:53:18.993785Z",
     "shell.execute_reply": "2021-09-28T22:53:18.994251Z",
     "shell.execute_reply.started": "2021-09-28T22:39:31.691072Z"
    },
    "papermill": {
     "duration": 0.055286,
     "end_time": "2021-09-28T22:53:18.994424",
     "exception": false,
     "start_time": "2021-09-28T22:53:18.939138",
     "status": "completed"
    },
    "tags": []
   },
   "outputs": [
    {
     "name": "stdout",
     "output_type": "stream",
     "text": [
      "Categorical columns that will be ordinal encoded: ['MSZoning', 'Street', 'LotShape', 'LandContour', 'Utilities', 'LotConfig', 'LandSlope', 'Neighborhood', 'Condition1', 'BldgType', 'HouseStyle', 'RoofStyle', 'Exterior1st', 'Exterior2nd', 'ExterQual', 'ExterCond', 'Foundation', 'Heating', 'HeatingQC', 'CentralAir', 'KitchenQual', 'PavedDrive', 'SaleType', 'SaleCondition']\n",
      "\n",
      "Categorical columns that will be dropped from the dataset: ['RoofMatl', 'Functional', 'Condition2']\n"
     ]
    }
   ],
   "source": [
    "# Categorical columns in the training data\n",
    "object_cols = [col for col in X_train.columns if X_train[col].dtype == \"object\"]\n",
    "\n",
    "# Columns that can be safely ordinal encoded\n",
    "good_label_cols = [col for col in object_cols if \n",
    "                   set(X_valid[col]).issubset(set(X_train[col]))]\n",
    "        \n",
    "# Problematic columns that will be dropped from the dataset\n",
    "bad_label_cols = list(set(object_cols)-set(good_label_cols))\n",
    "        \n",
    "print('Categorical columns that will be ordinal encoded:', good_label_cols)\n",
    "print('\\nCategorical columns that will be dropped from the dataset:', bad_label_cols)"
   ]
  },
  {
   "cell_type": "markdown",
   "id": "bc33d061",
   "metadata": {
    "papermill": {
     "duration": 0.037137,
     "end_time": "2021-09-28T22:53:19.068434",
     "exception": false,
     "start_time": "2021-09-28T22:53:19.031297",
     "status": "completed"
    },
    "tags": []
   },
   "source": [
    "### Part B\n",
    "\n",
    "Use the next code cell to ordinal encode the data in `X_train` and `X_valid`.  Set the preprocessed DataFrames to `label_X_train` and `label_X_valid`, respectively.  \n",
    "- We have provided code below to drop the categorical columns in `bad_label_cols` from the dataset. \n",
    "- You should ordinal encode the categorical columns in `good_label_cols`.  "
   ]
  },
  {
   "cell_type": "code",
   "execution_count": 12,
   "id": "9fb2c308",
   "metadata": {
    "execution": {
     "iopub.execute_input": "2021-09-28T22:53:19.151649Z",
     "iopub.status.busy": "2021-09-28T22:53:19.151038Z",
     "iopub.status.idle": "2021-09-28T22:53:19.206310Z",
     "shell.execute_reply": "2021-09-28T22:53:19.206776Z",
     "shell.execute_reply.started": "2021-09-28T22:39:31.713604Z"
    },
    "papermill": {
     "duration": 0.100425,
     "end_time": "2021-09-28T22:53:19.206980",
     "exception": false,
     "start_time": "2021-09-28T22:53:19.106555",
     "status": "completed"
    },
    "tags": []
   },
   "outputs": [
    {
     "data": {
      "application/javascript": [
       "parent.postMessage({\"jupyterEvent\": \"custom.exercise_interaction\", \"data\": {\"outcomeType\": 1, \"valueTowardsCompletion\": 0.5, \"interactionType\": 1, \"questionType\": 2, \"questionId\": \"2.2_LabelB\", \"learnToolsVersion\": \"0.3.4\", \"failureMessage\": \"\", \"exceptionClass\": \"\", \"trace\": \"\"}}, \"*\")"
      ],
      "text/plain": [
       "<IPython.core.display.Javascript object>"
      ]
     },
     "metadata": {},
     "output_type": "display_data"
    },
    {
     "data": {
      "text/markdown": [
       "<span style=\"color:#33cc33\">Correct</span>"
      ],
      "text/plain": [
       "Correct"
      ]
     },
     "metadata": {},
     "output_type": "display_data"
    }
   ],
   "source": [
    "from sklearn.preprocessing import OrdinalEncoder\n",
    "\n",
    "# Drop categorical columns that will not be encoded\n",
    "label_X_train = X_train.drop(bad_label_cols, axis=1)\n",
    "label_X_valid = X_valid.drop(bad_label_cols, axis=1)\n",
    "\n",
    "# Apply ordinal encoder \n",
    "ordinal_encoder = OrdinalEncoder()\n",
    "label_X_train[good_label_cols] = ordinal_encoder.fit_transform(X_train[good_label_cols])\n",
    "label_X_valid[good_label_cols] = ordinal_encoder.transform(X_valid[good_label_cols])\n",
    "# Your code here\n",
    "\n",
    "# Check your answer\n",
    "step_2.b.check()"
   ]
  },
  {
   "cell_type": "code",
   "execution_count": 13,
   "id": "777b54d0",
   "metadata": {
    "execution": {
     "iopub.execute_input": "2021-09-28T22:53:19.286660Z",
     "iopub.status.busy": "2021-09-28T22:53:19.285804Z",
     "iopub.status.idle": "2021-09-28T22:53:19.288431Z",
     "shell.execute_reply": "2021-09-28T22:53:19.287842Z",
     "shell.execute_reply.started": "2021-09-28T22:39:31.783384Z"
    },
    "papermill": {
     "duration": 0.043948,
     "end_time": "2021-09-28T22:53:19.288559",
     "exception": false,
     "start_time": "2021-09-28T22:53:19.244611",
     "status": "completed"
    },
    "tags": []
   },
   "outputs": [],
   "source": [
    "# Lines below will give you a hint or solution code\n",
    "#step_2.b.hint()\n",
    "#step_2.b.solution()"
   ]
  },
  {
   "cell_type": "markdown",
   "id": "5e3252c1",
   "metadata": {
    "papermill": {
     "duration": 0.037693,
     "end_time": "2021-09-28T22:53:19.363834",
     "exception": false,
     "start_time": "2021-09-28T22:53:19.326141",
     "status": "completed"
    },
    "tags": []
   },
   "source": [
    "Run the next code cell to get the MAE for this approach."
   ]
  },
  {
   "cell_type": "code",
   "execution_count": 14,
   "id": "12d1a88f",
   "metadata": {
    "execution": {
     "iopub.execute_input": "2021-09-28T22:53:19.443199Z",
     "iopub.status.busy": "2021-09-28T22:53:19.442244Z",
     "iopub.status.idle": "2021-09-28T22:53:21.013797Z",
     "shell.execute_reply": "2021-09-28T22:53:21.013174Z",
     "shell.execute_reply.started": "2021-09-28T22:39:31.790748Z"
    },
    "papermill": {
     "duration": 1.612414,
     "end_time": "2021-09-28T22:53:21.013955",
     "exception": false,
     "start_time": "2021-09-28T22:53:19.401541",
     "status": "completed"
    },
    "tags": []
   },
   "outputs": [
    {
     "name": "stdout",
     "output_type": "stream",
     "text": [
      "MAE from Approach 2 (Ordinal Encoding):\n",
      "17098.01649543379\n"
     ]
    }
   ],
   "source": [
    "print(\"MAE from Approach 2 (Ordinal Encoding):\") \n",
    "print(score_dataset(label_X_train, label_X_valid, y_train, y_valid))"
   ]
  },
  {
   "cell_type": "markdown",
   "id": "40f2e457",
   "metadata": {
    "papermill": {
     "duration": 0.039205,
     "end_time": "2021-09-28T22:53:21.091971",
     "exception": false,
     "start_time": "2021-09-28T22:53:21.052766",
     "status": "completed"
    },
    "tags": []
   },
   "source": [
    "So far, you've tried two different approaches to dealing with categorical variables.  And, you've seen that encoding categorical data yields better results than removing columns from the dataset.\n",
    "\n",
    "Soon, you'll try one-hot encoding.  Before then, there's one additional topic we need to cover.  Begin by running the next code cell without changes.  "
   ]
  },
  {
   "cell_type": "code",
   "execution_count": 15,
   "id": "2594cfb5",
   "metadata": {
    "execution": {
     "iopub.execute_input": "2021-09-28T22:53:21.178151Z",
     "iopub.status.busy": "2021-09-28T22:53:21.177474Z",
     "iopub.status.idle": "2021-09-28T22:53:21.187219Z",
     "shell.execute_reply": "2021-09-28T22:53:21.187702Z",
     "shell.execute_reply.started": "2021-09-28T22:39:33.405801Z"
    },
    "papermill": {
     "duration": 0.055455,
     "end_time": "2021-09-28T22:53:21.187897",
     "exception": false,
     "start_time": "2021-09-28T22:53:21.132442",
     "status": "completed"
    },
    "tags": []
   },
   "outputs": [
    {
     "data": {
      "text/plain": [
       "[('Street', 2),\n",
       " ('Utilities', 2),\n",
       " ('CentralAir', 2),\n",
       " ('LandSlope', 3),\n",
       " ('PavedDrive', 3),\n",
       " ('LotShape', 4),\n",
       " ('LandContour', 4),\n",
       " ('ExterQual', 4),\n",
       " ('KitchenQual', 4),\n",
       " ('MSZoning', 5),\n",
       " ('LotConfig', 5),\n",
       " ('BldgType', 5),\n",
       " ('ExterCond', 5),\n",
       " ('HeatingQC', 5),\n",
       " ('Condition2', 6),\n",
       " ('RoofStyle', 6),\n",
       " ('Foundation', 6),\n",
       " ('Heating', 6),\n",
       " ('Functional', 6),\n",
       " ('SaleCondition', 6),\n",
       " ('RoofMatl', 7),\n",
       " ('HouseStyle', 8),\n",
       " ('Condition1', 9),\n",
       " ('SaleType', 9),\n",
       " ('Exterior1st', 15),\n",
       " ('Exterior2nd', 16),\n",
       " ('Neighborhood', 25)]"
      ]
     },
     "execution_count": 15,
     "metadata": {},
     "output_type": "execute_result"
    }
   ],
   "source": [
    "# Get number of unique entries in each column with categorical data\n",
    "object_nunique = list(map(lambda col: X_train[col].nunique(), object_cols))\n",
    "d = dict(zip(object_cols, object_nunique))\n",
    "\n",
    "# Print number of unique entries by column, in ascending order\n",
    "sorted(d.items(), key=lambda x: x[1])"
   ]
  },
  {
   "cell_type": "markdown",
   "id": "4e3f52cb",
   "metadata": {
    "papermill": {
     "duration": 0.038339,
     "end_time": "2021-09-28T22:53:21.264883",
     "exception": false,
     "start_time": "2021-09-28T22:53:21.226544",
     "status": "completed"
    },
    "tags": []
   },
   "source": [
    "# Step 3: Investigating cardinality\n",
    "\n",
    "### Part A\n",
    "\n",
    "The output above shows, for each column with categorical data, the number of unique values in the column.  For instance, the `'Street'` column in the training data has two unique values: `'Grvl'` and `'Pave'`, corresponding to a gravel road and a paved road, respectively.\n",
    "\n",
    "We refer to the number of unique entries of a categorical variable as the **cardinality** of that categorical variable.  For instance, the `'Street'` variable has cardinality 2.\n",
    "\n",
    "Use the output above to answer the questions below."
   ]
  },
  {
   "cell_type": "code",
   "execution_count": 16,
   "id": "c0ab8fd7",
   "metadata": {
    "execution": {
     "iopub.execute_input": "2021-09-28T22:53:21.348383Z",
     "iopub.status.busy": "2021-09-28T22:53:21.347347Z",
     "iopub.status.idle": "2021-09-28T22:53:21.357542Z",
     "shell.execute_reply": "2021-09-28T22:53:21.356895Z",
     "shell.execute_reply.started": "2021-09-28T22:39:33.424217Z"
    },
    "papermill": {
     "duration": 0.052814,
     "end_time": "2021-09-28T22:53:21.357670",
     "exception": false,
     "start_time": "2021-09-28T22:53:21.304856",
     "status": "completed"
    },
    "tags": []
   },
   "outputs": [
    {
     "name": "stdout",
     "output_type": "stream",
     "text": [
      "3\n"
     ]
    }
   ],
   "source": [
    "newDict={}\n",
    "for (key, value) in d.items():\n",
    "    if value > 10:\n",
    "       newDict[key] = value\n",
    "len(newDict)\n",
    "print(len([col for col in object_cols if X_train[col].nunique() > 10]))"
   ]
  },
  {
   "cell_type": "code",
   "execution_count": 17,
   "id": "061de4fb",
   "metadata": {
    "execution": {
     "iopub.execute_input": "2021-09-28T22:53:21.439786Z",
     "iopub.status.busy": "2021-09-28T22:53:21.439178Z",
     "iopub.status.idle": "2021-09-28T22:53:21.446046Z",
     "shell.execute_reply": "2021-09-28T22:53:21.446601Z",
     "shell.execute_reply.started": "2021-09-28T22:39:33.439708Z"
    },
    "papermill": {
     "duration": 0.049908,
     "end_time": "2021-09-28T22:53:21.446751",
     "exception": false,
     "start_time": "2021-09-28T22:53:21.396843",
     "status": "completed"
    },
    "tags": []
   },
   "outputs": [
    {
     "data": {
      "application/javascript": [
       "parent.postMessage({\"jupyterEvent\": \"custom.exercise_interaction\", \"data\": {\"outcomeType\": 1, \"valueTowardsCompletion\": 0.5, \"interactionType\": 1, \"questionType\": 1, \"questionId\": \"3.1_CardinalityA\", \"learnToolsVersion\": \"0.3.4\", \"failureMessage\": \"\", \"exceptionClass\": \"\", \"trace\": \"\"}}, \"*\")"
      ],
      "text/plain": [
       "<IPython.core.display.Javascript object>"
      ]
     },
     "metadata": {},
     "output_type": "display_data"
    },
    {
     "data": {
      "text/markdown": [
       "<span style=\"color:#33cc33\">Correct</span>"
      ],
      "text/plain": [
       "Correct"
      ]
     },
     "metadata": {},
     "output_type": "display_data"
    }
   ],
   "source": [
    "# Fill in the line below: How many categorical variables in the training data\n",
    "# have cardinality greater than 10?\n",
    "newDict={}\n",
    "for (key, value) in d.items():\n",
    "    if value > 10:\n",
    "       newDict[key] = value\n",
    "# or you can use the expression inside the list\n",
    "# high_cardinality_numcols = len([col for col in object_cols if X_train[col].nunique() > 10])\n",
    "high_cardinality_numcols = len(newDict)\n",
    "\n",
    "# Fill in the line below: How many columns are needed to one-hot encode the \n",
    "# 'Neighborhood' variable in the training data?\n",
    "\n",
    "num_cols_neighborhood = d['Neighborhood']\n",
    "\n",
    "# Check your answers\n",
    "step_3.a.check()"
   ]
  },
  {
   "cell_type": "code",
   "execution_count": 18,
   "id": "2b41265f",
   "metadata": {
    "execution": {
     "iopub.execute_input": "2021-09-28T22:53:21.530020Z",
     "iopub.status.busy": "2021-09-28T22:53:21.529416Z",
     "iopub.status.idle": "2021-09-28T22:53:21.532184Z",
     "shell.execute_reply": "2021-09-28T22:53:21.532790Z",
     "shell.execute_reply.started": "2021-09-28T22:39:33.452506Z"
    },
    "papermill": {
     "duration": 0.046255,
     "end_time": "2021-09-28T22:53:21.532954",
     "exception": false,
     "start_time": "2021-09-28T22:53:21.486699",
     "status": "completed"
    },
    "tags": []
   },
   "outputs": [],
   "source": [
    "# Lines below will give you a hint or solution code\n",
    "#step_3.a.hint()\n",
    "#step_3.a.solution()"
   ]
  },
  {
   "cell_type": "markdown",
   "id": "e673381d",
   "metadata": {
    "papermill": {
     "duration": 0.039917,
     "end_time": "2021-09-28T22:53:21.613246",
     "exception": false,
     "start_time": "2021-09-28T22:53:21.573329",
     "status": "completed"
    },
    "tags": []
   },
   "source": [
    "### Part B\n",
    "\n",
    "For large datasets with many rows, one-hot encoding can greatly expand the size of the dataset.  For this reason, we typically will only one-hot encode columns with relatively low cardinality.  Then, high cardinality columns can either be dropped from the dataset, or we can use ordinal encoding.\n",
    "\n",
    "As an example, consider a dataset with 10,000 rows, and containing one categorical column with 100 unique entries.  \n",
    "- If this column is replaced with the corresponding one-hot encoding, how many entries are added to the dataset?  \n",
    "- If we instead replace the column with the ordinal encoding, how many entries are added?  \n",
    "\n",
    "Use your answers to fill in the lines below."
   ]
  },
  {
   "cell_type": "code",
   "execution_count": 19,
   "id": "65087b2c",
   "metadata": {
    "execution": {
     "iopub.execute_input": "2021-09-28T22:53:21.699152Z",
     "iopub.status.busy": "2021-09-28T22:53:21.696771Z",
     "iopub.status.idle": "2021-09-28T22:53:21.703453Z",
     "shell.execute_reply": "2021-09-28T22:53:21.703915Z",
     "shell.execute_reply.started": "2021-09-28T22:39:33.459839Z"
    },
    "papermill": {
     "duration": 0.050578,
     "end_time": "2021-09-28T22:53:21.704111",
     "exception": false,
     "start_time": "2021-09-28T22:53:21.653533",
     "status": "completed"
    },
    "tags": []
   },
   "outputs": [
    {
     "data": {
      "application/javascript": [
       "parent.postMessage({\"jupyterEvent\": \"custom.exercise_interaction\", \"data\": {\"outcomeType\": 1, \"valueTowardsCompletion\": 0.5, \"interactionType\": 1, \"questionType\": 1, \"questionId\": \"3.2_CardinalityB\", \"learnToolsVersion\": \"0.3.4\", \"failureMessage\": \"\", \"exceptionClass\": \"\", \"trace\": \"\"}}, \"*\")"
      ],
      "text/plain": [
       "<IPython.core.display.Javascript object>"
      ]
     },
     "metadata": {},
     "output_type": "display_data"
    },
    {
     "data": {
      "text/markdown": [
       "<span style=\"color:#33cc33\">Correct</span>"
      ],
      "text/plain": [
       "Correct"
      ]
     },
     "metadata": {},
     "output_type": "display_data"
    }
   ],
   "source": [
    "# Fill in the line below: How many entries are added to the dataset by \n",
    "# replacing the column with a one-hot encoding?\n",
    "OH_entries_added = 1e4*100 - 1e4\n",
    "\n",
    "# Fill in the line below: How many entries are added to the dataset by\n",
    "# replacing the column with an ordinal encoding?\n",
    "label_entries_added = 0\n",
    "\n",
    "# Check your answers\n",
    "step_3.b.check()"
   ]
  },
  {
   "cell_type": "code",
   "execution_count": 20,
   "id": "41f79389",
   "metadata": {
    "execution": {
     "iopub.execute_input": "2021-09-28T22:53:21.790027Z",
     "iopub.status.busy": "2021-09-28T22:53:21.789368Z",
     "iopub.status.idle": "2021-09-28T22:53:21.791785Z",
     "shell.execute_reply": "2021-09-28T22:53:21.792429Z",
     "shell.execute_reply.started": "2021-09-28T22:39:33.474732Z"
    },
    "papermill": {
     "duration": 0.04724,
     "end_time": "2021-09-28T22:53:21.792586",
     "exception": false,
     "start_time": "2021-09-28T22:53:21.745346",
     "status": "completed"
    },
    "tags": []
   },
   "outputs": [],
   "source": [
    "# Lines below will give you a hint or solution code\n",
    "#step_3.b.hint()\n",
    "#step_3.b.solution()"
   ]
  },
  {
   "cell_type": "markdown",
   "id": "9c187777",
   "metadata": {
    "papermill": {
     "duration": 0.040333,
     "end_time": "2021-09-28T22:53:21.873802",
     "exception": false,
     "start_time": "2021-09-28T22:53:21.833469",
     "status": "completed"
    },
    "tags": []
   },
   "source": [
    "Next, you'll experiment with one-hot encoding.  But, instead of encoding all of the categorical variables in the dataset, you'll only create a one-hot encoding for columns with cardinality less than 10.\n",
    "\n",
    "Run the code cell below without changes to set `low_cardinality_cols` to a Python list containing the columns that will be one-hot encoded.  Likewise, `high_cardinality_cols` contains a list of categorical columns that will be dropped from the dataset."
   ]
  },
  {
   "cell_type": "code",
   "execution_count": 21,
   "id": "aaa0aab3",
   "metadata": {
    "execution": {
     "iopub.execute_input": "2021-09-28T22:53:21.958728Z",
     "iopub.status.busy": "2021-09-28T22:53:21.958053Z",
     "iopub.status.idle": "2021-09-28T22:53:21.969753Z",
     "shell.execute_reply": "2021-09-28T22:53:21.970225Z",
     "shell.execute_reply.started": "2021-09-28T22:39:33.488926Z"
    },
    "papermill": {
     "duration": 0.055466,
     "end_time": "2021-09-28T22:53:21.970395",
     "exception": false,
     "start_time": "2021-09-28T22:53:21.914929",
     "status": "completed"
    },
    "tags": []
   },
   "outputs": [
    {
     "name": "stdout",
     "output_type": "stream",
     "text": [
      "Categorical columns that will be one-hot encoded: ['MSZoning', 'Street', 'LotShape', 'LandContour', 'Utilities', 'LotConfig', 'LandSlope', 'Condition1', 'Condition2', 'BldgType', 'HouseStyle', 'RoofStyle', 'RoofMatl', 'ExterQual', 'ExterCond', 'Foundation', 'Heating', 'HeatingQC', 'CentralAir', 'KitchenQual', 'Functional', 'PavedDrive', 'SaleType', 'SaleCondition']\n",
      "\n",
      "Categorical columns that will be dropped from the dataset: ['Exterior1st', 'Exterior2nd', 'Neighborhood']\n"
     ]
    }
   ],
   "source": [
    "# Columns that will be one-hot encoded\n",
    "low_cardinality_cols = [col for col in object_cols if X_train[col].nunique() < 10]\n",
    "\n",
    "# Columns that will be dropped from the dataset\n",
    "high_cardinality_cols = list(set(object_cols)-set(low_cardinality_cols))\n",
    "\n",
    "print('Categorical columns that will be one-hot encoded:', low_cardinality_cols)\n",
    "print('\\nCategorical columns that will be dropped from the dataset:', high_cardinality_cols)"
   ]
  },
  {
   "cell_type": "markdown",
   "id": "eea3f29f",
   "metadata": {
    "papermill": {
     "duration": 0.041388,
     "end_time": "2021-09-28T22:53:22.053180",
     "exception": false,
     "start_time": "2021-09-28T22:53:22.011792",
     "status": "completed"
    },
    "tags": []
   },
   "source": [
    "# Step 4: One-hot encoding\n",
    "\n",
    "Use the next code cell to one-hot encode the data in `X_train` and `X_valid`.  Set the preprocessed DataFrames to `OH_X_train` and `OH_X_valid`, respectively.  \n",
    "- The full list of categorical columns in the dataset can be found in the Python list `object_cols`.\n",
    "- You should only one-hot encode the categorical columns in `low_cardinality_cols`.  All other categorical columns should be dropped from the dataset. "
   ]
  },
  {
   "cell_type": "code",
   "execution_count": 22,
   "id": "fa939929",
   "metadata": {
    "execution": {
     "iopub.execute_input": "2021-09-28T22:53:22.157167Z",
     "iopub.status.busy": "2021-09-28T22:53:22.156298Z",
     "iopub.status.idle": "2021-09-28T22:53:22.185855Z",
     "shell.execute_reply": "2021-09-28T22:53:22.186337Z",
     "shell.execute_reply.started": "2021-09-28T22:39:33.510371Z"
    },
    "papermill": {
     "duration": 0.092005,
     "end_time": "2021-09-28T22:53:22.186508",
     "exception": false,
     "start_time": "2021-09-28T22:53:22.094503",
     "status": "completed"
    },
    "tags": []
   },
   "outputs": [
    {
     "data": {
      "application/javascript": [
       "parent.postMessage({\"jupyterEvent\": \"custom.exercise_interaction\", \"data\": {\"outcomeType\": 1, \"valueTowardsCompletion\": 0.5, \"interactionType\": 1, \"questionType\": 2, \"questionId\": \"4_OneHot\", \"learnToolsVersion\": \"0.3.4\", \"failureMessage\": \"\", \"exceptionClass\": \"\", \"trace\": \"\"}}, \"*\")"
      ],
      "text/plain": [
       "<IPython.core.display.Javascript object>"
      ]
     },
     "metadata": {},
     "output_type": "display_data"
    },
    {
     "data": {
      "text/markdown": [
       "<span style=\"color:#33cc33\">Correct</span>"
      ],
      "text/plain": [
       "Correct"
      ]
     },
     "metadata": {},
     "output_type": "display_data"
    }
   ],
   "source": [
    "from sklearn.preprocessing import OneHotEncoder\n",
    "\n",
    "# Use as many lines of code as you need!\n",
    "# Apply one-hot encoder to each column with categorical data\n",
    "OH_encoder = OneHotEncoder(handle_unknown='ignore', sparse=False)\n",
    "\n",
    "OH_cols_train = pd.DataFrame(OH_encoder.fit_transform(X_train[low_cardinality_cols]))\n",
    "OH_cols_valid = pd.DataFrame(OH_encoder.transform(X_valid[low_cardinality_cols]))\n",
    "\n",
    "# One-hot encoding removed index; put it back\n",
    "OH_cols_train.index = X_train.index\n",
    "OH_cols_valid.index = X_valid.index\n",
    "\n",
    "# Remove categorical columns (will replace with one-hot encoding)\n",
    "num_X_train = X_train.drop(object_cols, axis=1)\n",
    "num_X_valid = X_valid.drop(object_cols, axis=1)\n",
    "\n",
    "# Add one-hot encoded columns to numerical features\n",
    "OH_X_train = pd.concat([num_X_train, OH_cols_train], axis=1) # Your code here\n",
    "OH_X_valid = pd.concat([num_X_valid, OH_cols_valid], axis=1) # Your code here\n",
    "\n",
    "# Check your answer\n",
    "step_4.check()"
   ]
  },
  {
   "cell_type": "code",
   "execution_count": 23,
   "id": "c8229482",
   "metadata": {
    "execution": {
     "iopub.execute_input": "2021-09-28T22:53:22.275672Z",
     "iopub.status.busy": "2021-09-28T22:53:22.275049Z",
     "iopub.status.idle": "2021-09-28T22:53:22.279002Z",
     "shell.execute_reply": "2021-09-28T22:53:22.278475Z",
     "shell.execute_reply.started": "2021-09-28T22:39:33.568261Z"
    },
    "papermill": {
     "duration": 0.050096,
     "end_time": "2021-09-28T22:53:22.279131",
     "exception": false,
     "start_time": "2021-09-28T22:53:22.229035",
     "status": "completed"
    },
    "tags": []
   },
   "outputs": [],
   "source": [
    "# Lines below will give you a hint or solution code\n",
    "#step_4.hint()\n",
    "#step_4.solution()"
   ]
  },
  {
   "cell_type": "markdown",
   "id": "0001b2db",
   "metadata": {
    "papermill": {
     "duration": 0.041999,
     "end_time": "2021-09-28T22:53:22.363817",
     "exception": false,
     "start_time": "2021-09-28T22:53:22.321818",
     "status": "completed"
    },
    "tags": []
   },
   "source": [
    "Run the next code cell to get the MAE for this approach."
   ]
  },
  {
   "cell_type": "code",
   "execution_count": 24,
   "id": "656c6796",
   "metadata": {
    "execution": {
     "iopub.execute_input": "2021-09-28T22:53:22.456561Z",
     "iopub.status.busy": "2021-09-28T22:53:22.455396Z",
     "iopub.status.idle": "2021-09-28T22:53:24.391894Z",
     "shell.execute_reply": "2021-09-28T22:53:24.391304Z",
     "shell.execute_reply.started": "2021-09-28T22:39:33.574289Z"
    },
    "papermill": {
     "duration": 1.986308,
     "end_time": "2021-09-28T22:53:24.392038",
     "exception": false,
     "start_time": "2021-09-28T22:53:22.405730",
     "status": "completed"
    },
    "tags": []
   },
   "outputs": [
    {
     "name": "stdout",
     "output_type": "stream",
     "text": [
      "MAE from Approach 3 (One-Hot Encoding):\n",
      "17525.345719178084\n"
     ]
    }
   ],
   "source": [
    "print(\"MAE from Approach 3 (One-Hot Encoding):\") \n",
    "print(score_dataset(OH_X_train, OH_X_valid, y_train, y_valid))"
   ]
  },
  {
   "cell_type": "markdown",
   "id": "4e26b365",
   "metadata": {
    "papermill": {
     "duration": 0.043195,
     "end_time": "2021-09-28T22:53:24.478061",
     "exception": false,
     "start_time": "2021-09-28T22:53:24.434866",
     "status": "completed"
    },
    "tags": []
   },
   "source": [
    "# Generate test predictions and submit your results\n",
    "\n",
    "After you complete Step 4, if you'd like to use what you've learned to submit your results to the leaderboard, you'll need to preprocess the test data before generating predictions.\n",
    "\n",
    "**This step is completely optional, and you do not need to submit results to the leaderboard to successfully complete the exercise.**\n",
    "\n",
    "Check out the previous exercise if you need help with remembering how to [join the competition](https://www.kaggle.com/c/home-data-for-ml-course) or save your results to CSV.  Once you have generated a file with your results, follow the instructions below:\n",
    "1. Begin by clicking on the **Save Version** button in the top right corner of the window.  This will generate a pop-up window.  \n",
    "2. Ensure that the **Save and Run All** option is selected, and then click on the **Save** button.\n",
    "3. This generates a window in the bottom left corner of the notebook.  After it has finished running, click on the number to the right of the **Save Version** button.  This pulls up a list of versions on the right of the screen.  Click on the ellipsis **(...)** to the right of the most recent version, and select **Open in Viewer**.  This brings you into view mode of the same page. You will need to scroll down to get back to these instructions.\n",
    "4. Click on the **Output** tab on the right of the screen.  Then, click on the file you would like to submit, and click on the **Submit** button to submit your results to the leaderboard.\n",
    "\n",
    "You have now successfully submitted to the competition!\n",
    "\n",
    "If you want to keep working to improve your performance, select the **Edit** button in the top right of the screen. Then you can change your code and repeat the process. There's a lot of room to improve, and you will climb up the leaderboard as you work.\n"
   ]
  },
  {
   "cell_type": "code",
   "execution_count": 25,
   "id": "f083395f",
   "metadata": {
    "execution": {
     "iopub.execute_input": "2021-09-28T22:53:24.575842Z",
     "iopub.status.busy": "2021-09-28T22:53:24.575217Z",
     "iopub.status.idle": "2021-09-28T22:53:24.593868Z",
     "shell.execute_reply": "2021-09-28T22:53:24.594336Z",
     "shell.execute_reply.started": "2021-09-28T22:39:35.584756Z"
    },
    "papermill": {
     "duration": 0.073192,
     "end_time": "2021-09-28T22:53:24.594509",
     "exception": false,
     "start_time": "2021-09-28T22:53:24.521317",
     "status": "completed"
    },
    "tags": []
   },
   "outputs": [
    {
     "name": "stdout",
     "output_type": "stream",
     "text": [
      "['MSZoning', 'Utilities', 'Exterior1st', 'Exterior2nd', 'BsmtFinSF1', 'BsmtFinSF2', 'BsmtUnfSF', 'TotalBsmtSF', 'BsmtFullBath', 'BsmtHalfBath', 'KitchenQual', 'Functional', 'GarageCars', 'GarageArea', 'SaleType']\n",
      "['MSZoning', 'Utilities', 'Exterior1st', 'Exterior2nd', 'BsmtFinSF1', 'BsmtFinSF2', 'BsmtUnfSF', 'TotalBsmtSF', 'BsmtFullBath', 'BsmtHalfBath', 'KitchenQual', 'Functional', 'GarageCars', 'GarageArea', 'SaleType']\n"
     ]
    }
   ],
   "source": [
    "# (Optional) Your code here\n",
    "# Let's check if there are columns with missing values\n",
    "# different ways of getting columsn with missing values\n",
    "cols_with_missing_1 = X_test.columns[X_test.isna().any()].tolist() \n",
    "# we need to fill in a few columns\n",
    "cols_with_missing_2 = [col for col in X_test.columns\n",
    "                     if X_test[col].isnull().any()]\n",
    "print(cols_with_missing_1)\n",
    "print(cols_with_missing_2)"
   ]
  },
  {
   "cell_type": "code",
   "execution_count": 26,
   "id": "f28f4aa9",
   "metadata": {
    "execution": {
     "iopub.execute_input": "2021-09-28T22:53:24.684435Z",
     "iopub.status.busy": "2021-09-28T22:53:24.683840Z",
     "iopub.status.idle": "2021-09-28T22:53:24.756125Z",
     "shell.execute_reply": "2021-09-28T22:53:24.756877Z",
     "shell.execute_reply.started": "2021-09-28T22:39:35.619053Z"
    },
    "papermill": {
     "duration": 0.119238,
     "end_time": "2021-09-28T22:53:24.757117",
     "exception": false,
     "start_time": "2021-09-28T22:53:24.637879",
     "status": "completed"
    },
    "tags": []
   },
   "outputs": [
    {
     "name": "stdout",
     "output_type": "stream",
     "text": [
      "[]\n"
     ]
    }
   ],
   "source": [
    "#there are some columns, we need to fillna for those\n",
    "final_X_test = X_test.apply(lambda x:x.fillna(x.value_counts().index[0]))\n",
    "cols_with_missing_3 = [col for col in final_X_test.columns\n",
    "                     if final_X_test[col].isnull().any()]\n",
    "print(cols_with_missing_3)"
   ]
  },
  {
   "cell_type": "markdown",
   "id": "e0680f1b",
   "metadata": {
    "papermill": {
     "duration": 0.043784,
     "end_time": "2021-09-28T22:53:24.844657",
     "exception": false,
     "start_time": "2021-09-28T22:53:24.800873",
     "status": "completed"
    },
    "tags": []
   },
   "source": [
    "Now that we have No more nulls, now we can try to apply both the OneHotEncoder and Ordinal Encoding."
   ]
  },
  {
   "cell_type": "markdown",
   "id": "ce8b7d2e",
   "metadata": {
    "papermill": {
     "duration": 0.044061,
     "end_time": "2021-09-28T22:53:24.932758",
     "exception": false,
     "start_time": "2021-09-28T22:53:24.888697",
     "status": "completed"
    },
    "tags": []
   },
   "source": [
    "### OneHotEncoder"
   ]
  },
  {
   "cell_type": "code",
   "execution_count": 27,
   "id": "b709d742",
   "metadata": {
    "execution": {
     "iopub.execute_input": "2021-09-28T22:53:25.025186Z",
     "iopub.status.busy": "2021-09-28T22:53:25.024476Z",
     "iopub.status.idle": "2021-09-28T22:53:27.028138Z",
     "shell.execute_reply": "2021-09-28T22:53:27.028608Z",
     "shell.execute_reply.started": "2021-09-28T22:52:49.746064Z"
    },
    "papermill": {
     "duration": 2.051936,
     "end_time": "2021-09-28T22:53:27.028768",
     "exception": false,
     "start_time": "2021-09-28T22:53:24.976832",
     "status": "completed"
    },
    "tags": []
   },
   "outputs": [],
   "source": [
    "OH_X_test_cols = pd.DataFrame(OH_encoder.transform(final_X_test[low_cardinality_cols]))\n",
    "OH_X_test_cols.index = final_X_test.index\n",
    "num_final_X_test = final_X_test.drop(object_cols, axis=1)\n",
    "OH_final_X_test = pd.concat([num_final_X_test, OH_X_test_cols], axis=1)\n",
    "\n",
    "model = RandomForestRegressor(n_estimators=100, random_state=0)\n",
    "model.fit(OH_X_train, y_train)\n",
    "preds_X_test = model.predict(OH_final_X_test)\n",
    "\n",
    "output = pd.DataFrame({'Id': OH_final_X_test.index,\n",
    "                       'SalePrice': preds_X_test})\n",
    "output.to_csv('submission.csv', index=False)"
   ]
  },
  {
   "cell_type": "code",
   "execution_count": 28,
   "id": "b2e8cace",
   "metadata": {
    "execution": {
     "iopub.execute_input": "2021-09-28T22:53:27.121430Z",
     "iopub.status.busy": "2021-09-28T22:53:27.120747Z",
     "iopub.status.idle": "2021-09-28T22:53:27.125096Z",
     "shell.execute_reply": "2021-09-28T22:53:27.124481Z",
     "shell.execute_reply.started": "2021-09-28T22:46:52.608345Z"
    },
    "papermill": {
     "duration": 0.052669,
     "end_time": "2021-09-28T22:53:27.125368",
     "exception": true,
     "start_time": "2021-09-28T22:53:27.072699",
     "status": "failed"
    },
    "tags": []
   },
   "outputs": [
    {
     "ename": "IndentationError",
     "evalue": "unexpected indent (473173936.py, line 20)",
     "output_type": "error",
     "traceback": [
      "\u001b[0;36m  File \u001b[0;32m\"/tmp/ipykernel_19/473173936.py\"\u001b[0;36m, line \u001b[0;32m20\u001b[0m\n\u001b[0;31m    'SalePrice': preds_test})\u001b[0m\n\u001b[0m    ^\u001b[0m\n\u001b[0;31mIndentationError\u001b[0m\u001b[0;31m:\u001b[0m unexpected indent\n"
     ]
    }
   ],
   "source": [
    "# Other option\n",
    "#OH_cols_test = pd.DataFrame(OH_encoder.transform(final_X_test[low_cardinality_cols]))\n",
    "\n",
    "# One-hot encoding removed index; put it back\n",
    "#OH_cols_test.index = final_X_test.index\n",
    "\n",
    "# Remove categorical columns (will replace with one-hot encoding)\n",
    "#num_X_test = final_X_test.drop(object_cols, axis=1)\n",
    "\n",
    "# Add one-hot encoded columns to numerical features\n",
    "#OH_X_test = pd.concat([num_X_test, OH_cols_test], axis=1)\n",
    "\n",
    "# Fill in the line below: get test predictions\n",
    "#model = RandomForestRegressor(n_estimators=100, random_state=0)\n",
    "#model.fit(OH_X_train, y_train)\n",
    "#preds_test = model.predict(OH_X_test)\n",
    "\n",
    "# Save test predictions to file\n",
    "#output = pd.DataFrame({'Id': X_test.index,\n",
    "                       'SalePrice': preds_test})\n",
    "#output.to_csv('submission.csv', index=False)"
   ]
  },
  {
   "cell_type": "markdown",
   "id": "4c09d568",
   "metadata": {
    "papermill": {
     "duration": null,
     "end_time": null,
     "exception": null,
     "start_time": null,
     "status": "pending"
    },
    "tags": []
   },
   "source": [
    "# Keep going\n",
    "\n",
    "With missing value handling and categorical encoding, your modeling process is getting complex. This complexity gets worse when you want to save your model to use in the future. The key to managing this complexity is something called **pipelines**. \n",
    "\n",
    "**[Learn to use pipelines](https://www.kaggle.com/alexisbcook/pipelines)** to preprocess datasets with categorical variables, missing values and any other messiness your data throws at you."
   ]
  }
 ],
 "metadata": {
  "kernelspec": {
   "display_name": "Python 3",
   "language": "python",
   "name": "python3"
  },
  "language_info": {
   "codemirror_mode": {
    "name": "ipython",
    "version": 3
   },
   "file_extension": ".py",
   "mimetype": "text/x-python",
   "name": "python",
   "nbconvert_exporter": "python",
   "pygments_lexer": "ipython3",
   "version": "3.7.10"
  },
  "papermill": {
   "default_parameters": {},
   "duration": 20.429964,
   "end_time": "2021-09-28T22:53:27.779215",
   "environment_variables": {},
   "exception": true,
   "input_path": "__notebook__.ipynb",
   "output_path": "__notebook__.ipynb",
   "parameters": {},
   "start_time": "2021-09-28T22:53:07.349251",
   "version": "2.3.3"
  }
 },
 "nbformat": 4,
 "nbformat_minor": 5
}
